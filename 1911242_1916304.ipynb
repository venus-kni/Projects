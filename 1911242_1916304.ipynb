{
  "nbformat": 4,
  "nbformat_minor": 0,
  "metadata": {
    "colab": {
      "name": "FMV3.ipynb",
      "provenance": [],
      "collapsed_sections": [],
      "machine_shape": "hm"
    },
    "kernelspec": {
      "name": "python3",
      "display_name": "Python 3"
    }
  },
  "cells": [
    {
      "cell_type": "markdown",
      "metadata": {
        "id": "ViPS6M4nKRvo",
        "colab_type": "text"
      },
      "source": [
        "# Install PySpark and related dependencies"
      ]
    },
    {
      "cell_type": "code",
      "metadata": {
        "id": "oRguFbf8T3EJ",
        "colab_type": "code",
        "colab": {
          "base_uri": "https://localhost:8080/",
          "height": 1000
        },
        "outputId": "a5dd633d-cd59-4797-8a55-dcd8f517e286"
      },
      "source": [
        "!pip install pyspark==2.4.5\n",
        "!pip install handyspark \n",
        "!pip install -U -q PyDrive\n",
        "!pip install elephas\n",
        "!apt install openjdk-8-jdk-headless -qq"
      ],
      "execution_count": null,
      "outputs": [
        {
          "output_type": "stream",
          "text": [
            "Collecting pyspark==2.4.5\n",
            "\u001b[?25l  Downloading https://files.pythonhosted.org/packages/9a/5a/271c416c1c2185b6cb0151b29a91fff6fcaed80173c8584ff6d20e46b465/pyspark-2.4.5.tar.gz (217.8MB)\n",
            "\u001b[K     |████████████████████████████████| 217.8MB 43kB/s \n",
            "\u001b[?25hCollecting py4j==0.10.7\n",
            "\u001b[?25l  Downloading https://files.pythonhosted.org/packages/e3/53/c737818eb9a7dc32a7cd4f1396e787bd94200c3997c72c1dbe028587bd76/py4j-0.10.7-py2.py3-none-any.whl (197kB)\n",
            "\u001b[K     |████████████████████████████████| 204kB 49.7MB/s \n",
            "\u001b[?25hBuilding wheels for collected packages: pyspark\n",
            "  Building wheel for pyspark (setup.py) ... \u001b[?25l\u001b[?25hdone\n",
            "  Created wheel for pyspark: filename=pyspark-2.4.5-py2.py3-none-any.whl size=218257927 sha256=1c54a58579f986520d93b8b218100b78212a5a1b341666bbf4c181472310068d\n",
            "  Stored in directory: /root/.cache/pip/wheels/bf/db/04/61d66a5939364e756eb1c1be4ec5bdce6e04047fc7929a3c3c\n",
            "Successfully built pyspark\n",
            "Installing collected packages: py4j, pyspark\n",
            "Successfully installed py4j-0.10.7 pyspark-2.4.5\n",
            "Collecting handyspark\n",
            "  Downloading https://files.pythonhosted.org/packages/87/8a/2ff2c58c219a680f5cbe8a2ed2eb20bc5126a587c47896339f927934a7c3/handyspark-0.2.2a1-py2.py3-none-any.whl\n",
            "Requirement already satisfied: matplotlib in /usr/local/lib/python3.6/dist-packages (from handyspark) (3.2.2)\n",
            "Collecting findspark\n",
            "  Downloading https://files.pythonhosted.org/packages/fc/2d/2e39f9a023479ea798eed4351cd66f163ce61e00c717e03c37109f00c0f2/findspark-1.4.2-py2.py3-none-any.whl\n",
            "Requirement already satisfied: pyspark in /usr/local/lib/python3.6/dist-packages (from handyspark) (2.4.5)\n",
            "Requirement already satisfied: scikit-learn in /usr/local/lib/python3.6/dist-packages (from handyspark) (0.22.2.post1)\n",
            "Requirement already satisfied: numpy in /usr/local/lib/python3.6/dist-packages (from handyspark) (1.18.5)\n",
            "Requirement already satisfied: pandas in /usr/local/lib/python3.6/dist-packages (from handyspark) (1.0.5)\n",
            "Requirement already satisfied: pyarrow in /usr/local/lib/python3.6/dist-packages (from handyspark) (0.14.1)\n",
            "Requirement already satisfied: seaborn in /usr/local/lib/python3.6/dist-packages (from handyspark) (0.10.1)\n",
            "Requirement already satisfied: scipy in /usr/local/lib/python3.6/dist-packages (from handyspark) (1.4.1)\n",
            "Requirement already satisfied: kiwisolver>=1.0.1 in /usr/local/lib/python3.6/dist-packages (from matplotlib->handyspark) (1.2.0)\n",
            "Requirement already satisfied: pyparsing!=2.0.4,!=2.1.2,!=2.1.6,>=2.0.1 in /usr/local/lib/python3.6/dist-packages (from matplotlib->handyspark) (2.4.7)\n",
            "Requirement already satisfied: cycler>=0.10 in /usr/local/lib/python3.6/dist-packages (from matplotlib->handyspark) (0.10.0)\n",
            "Requirement already satisfied: python-dateutil>=2.1 in /usr/local/lib/python3.6/dist-packages (from matplotlib->handyspark) (2.8.1)\n",
            "Requirement already satisfied: py4j==0.10.7 in /usr/local/lib/python3.6/dist-packages (from pyspark->handyspark) (0.10.7)\n",
            "Requirement already satisfied: joblib>=0.11 in /usr/local/lib/python3.6/dist-packages (from scikit-learn->handyspark) (0.15.1)\n",
            "Requirement already satisfied: pytz>=2017.2 in /usr/local/lib/python3.6/dist-packages (from pandas->handyspark) (2018.9)\n",
            "Requirement already satisfied: six>=1.0.0 in /usr/local/lib/python3.6/dist-packages (from pyarrow->handyspark) (1.12.0)\n",
            "Installing collected packages: findspark, handyspark\n",
            "Successfully installed findspark-1.4.2 handyspark-0.2.2a1\n",
            "Collecting elephas\n",
            "  Downloading https://files.pythonhosted.org/packages/d9/f7/4b1542d95ad17fefff5cfbc0df732f8b082c758ed48d1738768df5cec4da/elephas-0.4.3-py3-none-any.whl\n",
            "Requirement already satisfied: tensorflow in /usr/local/lib/python3.6/dist-packages (from elephas) (2.2.0)\n",
            "Collecting hyperas\n",
            "  Downloading https://files.pythonhosted.org/packages/04/34/87ad6ffb42df9c1fa9c4c906f65813d42ad70d68c66af4ffff048c228cd4/hyperas-0.4.1-py3-none-any.whl\n",
            "Requirement already satisfied: pyspark in /usr/local/lib/python3.6/dist-packages (from elephas) (2.4.5)\n",
            "Requirement already satisfied: cython in /usr/local/lib/python3.6/dist-packages (from elephas) (0.29.20)\n",
            "Requirement already satisfied: flask in /usr/local/lib/python3.6/dist-packages (from elephas) (1.1.2)\n",
            "Requirement already satisfied: six in /usr/local/lib/python3.6/dist-packages (from elephas) (1.12.0)\n",
            "Requirement already satisfied: keras in /usr/local/lib/python3.6/dist-packages (from elephas) (2.3.1)\n",
            "Requirement already satisfied: numpy<2.0,>=1.16.0 in /usr/local/lib/python3.6/dist-packages (from tensorflow->elephas) (1.18.5)\n",
            "Requirement already satisfied: keras-preprocessing>=1.1.0 in /usr/local/lib/python3.6/dist-packages (from tensorflow->elephas) (1.1.2)\n",
            "Requirement already satisfied: grpcio>=1.8.6 in /usr/local/lib/python3.6/dist-packages (from tensorflow->elephas) (1.30.0)\n",
            "Requirement already satisfied: wrapt>=1.11.1 in /usr/local/lib/python3.6/dist-packages (from tensorflow->elephas) (1.12.1)\n",
            "Requirement already satisfied: astunparse==1.6.3 in /usr/local/lib/python3.6/dist-packages (from tensorflow->elephas) (1.6.3)\n",
            "Requirement already satisfied: wheel>=0.26; python_version >= \"3\" in /usr/local/lib/python3.6/dist-packages (from tensorflow->elephas) (0.34.2)\n",
            "Requirement already satisfied: protobuf>=3.8.0 in /usr/local/lib/python3.6/dist-packages (from tensorflow->elephas) (3.10.0)\n",
            "Requirement already satisfied: tensorflow-estimator<2.3.0,>=2.2.0 in /usr/local/lib/python3.6/dist-packages (from tensorflow->elephas) (2.2.0)\n",
            "Requirement already satisfied: scipy==1.4.1; python_version >= \"3\" in /usr/local/lib/python3.6/dist-packages (from tensorflow->elephas) (1.4.1)\n",
            "Requirement already satisfied: termcolor>=1.1.0 in /usr/local/lib/python3.6/dist-packages (from tensorflow->elephas) (1.1.0)\n",
            "Requirement already satisfied: gast==0.3.3 in /usr/local/lib/python3.6/dist-packages (from tensorflow->elephas) (0.3.3)\n",
            "Requirement already satisfied: absl-py>=0.7.0 in /usr/local/lib/python3.6/dist-packages (from tensorflow->elephas) (0.9.0)\n",
            "Requirement already satisfied: opt-einsum>=2.3.2 in /usr/local/lib/python3.6/dist-packages (from tensorflow->elephas) (3.2.1)\n",
            "Requirement already satisfied: tensorboard<2.3.0,>=2.2.0 in /usr/local/lib/python3.6/dist-packages (from tensorflow->elephas) (2.2.2)\n",
            "Requirement already satisfied: h5py<2.11.0,>=2.10.0 in /usr/local/lib/python3.6/dist-packages (from tensorflow->elephas) (2.10.0)\n",
            "Requirement already satisfied: google-pasta>=0.1.8 in /usr/local/lib/python3.6/dist-packages (from tensorflow->elephas) (0.2.0)\n",
            "Requirement already satisfied: nbconvert in /usr/local/lib/python3.6/dist-packages (from hyperas->elephas) (5.6.1)\n",
            "Requirement already satisfied: entrypoints in /usr/local/lib/python3.6/dist-packages (from hyperas->elephas) (0.3)\n",
            "Requirement already satisfied: jupyter in /usr/local/lib/python3.6/dist-packages (from hyperas->elephas) (1.0.0)\n",
            "Requirement already satisfied: nbformat in /usr/local/lib/python3.6/dist-packages (from hyperas->elephas) (5.0.7)\n",
            "Requirement already satisfied: hyperopt in /usr/local/lib/python3.6/dist-packages (from hyperas->elephas) (0.1.2)\n",
            "Requirement already satisfied: py4j==0.10.7 in /usr/local/lib/python3.6/dist-packages (from pyspark->elephas) (0.10.7)\n",
            "Requirement already satisfied: Werkzeug>=0.15 in /usr/local/lib/python3.6/dist-packages (from flask->elephas) (1.0.1)\n",
            "Requirement already satisfied: itsdangerous>=0.24 in /usr/local/lib/python3.6/dist-packages (from flask->elephas) (1.1.0)\n",
            "Requirement already satisfied: click>=5.1 in /usr/local/lib/python3.6/dist-packages (from flask->elephas) (7.1.2)\n",
            "Requirement already satisfied: Jinja2>=2.10.1 in /usr/local/lib/python3.6/dist-packages (from flask->elephas) (2.11.2)\n",
            "Requirement already satisfied: keras-applications>=1.0.6 in /usr/local/lib/python3.6/dist-packages (from keras->elephas) (1.0.8)\n",
            "Requirement already satisfied: pyyaml in /usr/local/lib/python3.6/dist-packages (from keras->elephas) (3.13)\n",
            "Requirement already satisfied: setuptools in /usr/local/lib/python3.6/dist-packages (from protobuf>=3.8.0->tensorflow->elephas) (47.3.1)\n",
            "Requirement already satisfied: tensorboard-plugin-wit>=1.6.0 in /usr/local/lib/python3.6/dist-packages (from tensorboard<2.3.0,>=2.2.0->tensorflow->elephas) (1.6.0.post3)\n",
            "Requirement already satisfied: markdown>=2.6.8 in /usr/local/lib/python3.6/dist-packages (from tensorboard<2.3.0,>=2.2.0->tensorflow->elephas) (3.2.2)\n",
            "Requirement already satisfied: google-auth-oauthlib<0.5,>=0.4.1 in /usr/local/lib/python3.6/dist-packages (from tensorboard<2.3.0,>=2.2.0->tensorflow->elephas) (0.4.1)\n",
            "Requirement already satisfied: google-auth<2,>=1.6.3 in /usr/local/lib/python3.6/dist-packages (from tensorboard<2.3.0,>=2.2.0->tensorflow->elephas) (1.17.2)\n",
            "Requirement already satisfied: requests<3,>=2.21.0 in /usr/local/lib/python3.6/dist-packages (from tensorboard<2.3.0,>=2.2.0->tensorflow->elephas) (2.23.0)\n",
            "Requirement already satisfied: traitlets>=4.2 in /usr/local/lib/python3.6/dist-packages (from nbconvert->hyperas->elephas) (4.3.3)\n",
            "Requirement already satisfied: mistune<2,>=0.8.1 in /usr/local/lib/python3.6/dist-packages (from nbconvert->hyperas->elephas) (0.8.4)\n",
            "Requirement already satisfied: testpath in /usr/local/lib/python3.6/dist-packages (from nbconvert->hyperas->elephas) (0.4.4)\n",
            "Requirement already satisfied: pandocfilters>=1.4.1 in /usr/local/lib/python3.6/dist-packages (from nbconvert->hyperas->elephas) (1.4.2)\n",
            "Requirement already satisfied: defusedxml in /usr/local/lib/python3.6/dist-packages (from nbconvert->hyperas->elephas) (0.6.0)\n",
            "Requirement already satisfied: bleach in /usr/local/lib/python3.6/dist-packages (from nbconvert->hyperas->elephas) (3.1.5)\n",
            "Requirement already satisfied: pygments in /usr/local/lib/python3.6/dist-packages (from nbconvert->hyperas->elephas) (2.1.3)\n",
            "Requirement already satisfied: jupyter-core in /usr/local/lib/python3.6/dist-packages (from nbconvert->hyperas->elephas) (4.6.3)\n",
            "Requirement already satisfied: jupyter-console in /usr/local/lib/python3.6/dist-packages (from jupyter->hyperas->elephas) (5.2.0)\n",
            "Requirement already satisfied: ipywidgets in /usr/local/lib/python3.6/dist-packages (from jupyter->hyperas->elephas) (7.5.1)\n",
            "Requirement already satisfied: notebook in /usr/local/lib/python3.6/dist-packages (from jupyter->hyperas->elephas) (5.2.2)\n",
            "Requirement already satisfied: qtconsole in /usr/local/lib/python3.6/dist-packages (from jupyter->hyperas->elephas) (4.7.5)\n",
            "Requirement already satisfied: ipykernel in /usr/local/lib/python3.6/dist-packages (from jupyter->hyperas->elephas) (4.10.1)\n",
            "Requirement already satisfied: ipython-genutils in /usr/local/lib/python3.6/dist-packages (from nbformat->hyperas->elephas) (0.2.0)\n",
            "Requirement already satisfied: jsonschema!=2.5.0,>=2.4 in /usr/local/lib/python3.6/dist-packages (from nbformat->hyperas->elephas) (2.6.0)\n",
            "Requirement already satisfied: pymongo in /usr/local/lib/python3.6/dist-packages (from hyperopt->hyperas->elephas) (3.10.1)\n",
            "Requirement already satisfied: future in /usr/local/lib/python3.6/dist-packages (from hyperopt->hyperas->elephas) (0.16.0)\n",
            "Requirement already satisfied: networkx in /usr/local/lib/python3.6/dist-packages (from hyperopt->hyperas->elephas) (2.4)\n",
            "Requirement already satisfied: tqdm in /usr/local/lib/python3.6/dist-packages (from hyperopt->hyperas->elephas) (4.41.1)\n",
            "Requirement already satisfied: MarkupSafe>=0.23 in /usr/local/lib/python3.6/dist-packages (from Jinja2>=2.10.1->flask->elephas) (1.1.1)\n",
            "Requirement already satisfied: importlib-metadata; python_version < \"3.8\" in /usr/local/lib/python3.6/dist-packages (from markdown>=2.6.8->tensorboard<2.3.0,>=2.2.0->tensorflow->elephas) (1.6.1)\n",
            "Requirement already satisfied: requests-oauthlib>=0.7.0 in /usr/local/lib/python3.6/dist-packages (from google-auth-oauthlib<0.5,>=0.4.1->tensorboard<2.3.0,>=2.2.0->tensorflow->elephas) (1.3.0)\n",
            "Requirement already satisfied: cachetools<5.0,>=2.0.0 in /usr/local/lib/python3.6/dist-packages (from google-auth<2,>=1.6.3->tensorboard<2.3.0,>=2.2.0->tensorflow->elephas) (4.1.0)\n",
            "Requirement already satisfied: pyasn1-modules>=0.2.1 in /usr/local/lib/python3.6/dist-packages (from google-auth<2,>=1.6.3->tensorboard<2.3.0,>=2.2.0->tensorflow->elephas) (0.2.8)\n",
            "Requirement already satisfied: rsa<5,>=3.1.4; python_version >= \"3\" in /usr/local/lib/python3.6/dist-packages (from google-auth<2,>=1.6.3->tensorboard<2.3.0,>=2.2.0->tensorflow->elephas) (4.6)\n",
            "Requirement already satisfied: certifi>=2017.4.17 in /usr/local/lib/python3.6/dist-packages (from requests<3,>=2.21.0->tensorboard<2.3.0,>=2.2.0->tensorflow->elephas) (2020.6.20)\n",
            "Requirement already satisfied: urllib3!=1.25.0,!=1.25.1,<1.26,>=1.21.1 in /usr/local/lib/python3.6/dist-packages (from requests<3,>=2.21.0->tensorboard<2.3.0,>=2.2.0->tensorflow->elephas) (1.24.3)\n",
            "Requirement already satisfied: idna<3,>=2.5 in /usr/local/lib/python3.6/dist-packages (from requests<3,>=2.21.0->tensorboard<2.3.0,>=2.2.0->tensorflow->elephas) (2.9)\n",
            "Requirement already satisfied: chardet<4,>=3.0.2 in /usr/local/lib/python3.6/dist-packages (from requests<3,>=2.21.0->tensorboard<2.3.0,>=2.2.0->tensorflow->elephas) (3.0.4)\n",
            "Requirement already satisfied: decorator in /usr/local/lib/python3.6/dist-packages (from traitlets>=4.2->nbconvert->hyperas->elephas) (4.4.2)\n",
            "Requirement already satisfied: packaging in /usr/local/lib/python3.6/dist-packages (from bleach->nbconvert->hyperas->elephas) (20.4)\n",
            "Requirement already satisfied: webencodings in /usr/local/lib/python3.6/dist-packages (from bleach->nbconvert->hyperas->elephas) (0.5.1)\n",
            "Requirement already satisfied: prompt-toolkit<2.0.0,>=1.0.0 in /usr/local/lib/python3.6/dist-packages (from jupyter-console->jupyter->hyperas->elephas) (1.0.18)\n",
            "Requirement already satisfied: jupyter-client in /usr/local/lib/python3.6/dist-packages (from jupyter-console->jupyter->hyperas->elephas) (5.3.4)\n",
            "Requirement already satisfied: ipython in /usr/local/lib/python3.6/dist-packages (from jupyter-console->jupyter->hyperas->elephas) (5.5.0)\n",
            "Requirement already satisfied: widgetsnbextension~=3.5.0 in /usr/local/lib/python3.6/dist-packages (from ipywidgets->jupyter->hyperas->elephas) (3.5.1)\n",
            "Requirement already satisfied: tornado>=4 in /usr/local/lib/python3.6/dist-packages (from notebook->jupyter->hyperas->elephas) (4.5.3)\n",
            "Requirement already satisfied: terminado>=0.3.3; sys_platform != \"win32\" in /usr/local/lib/python3.6/dist-packages (from notebook->jupyter->hyperas->elephas) (0.8.3)\n",
            "Requirement already satisfied: pyzmq>=17.1 in /usr/local/lib/python3.6/dist-packages (from qtconsole->jupyter->hyperas->elephas) (19.0.1)\n",
            "Requirement already satisfied: qtpy in /usr/local/lib/python3.6/dist-packages (from qtconsole->jupyter->hyperas->elephas) (1.9.0)\n",
            "Requirement already satisfied: zipp>=0.5 in /usr/local/lib/python3.6/dist-packages (from importlib-metadata; python_version < \"3.8\"->markdown>=2.6.8->tensorboard<2.3.0,>=2.2.0->tensorflow->elephas) (3.1.0)\n",
            "Requirement already satisfied: oauthlib>=3.0.0 in /usr/local/lib/python3.6/dist-packages (from requests-oauthlib>=0.7.0->google-auth-oauthlib<0.5,>=0.4.1->tensorboard<2.3.0,>=2.2.0->tensorflow->elephas) (3.1.0)\n",
            "Requirement already satisfied: pyasn1<0.5.0,>=0.4.6 in /usr/local/lib/python3.6/dist-packages (from pyasn1-modules>=0.2.1->google-auth<2,>=1.6.3->tensorboard<2.3.0,>=2.2.0->tensorflow->elephas) (0.4.8)\n",
            "Requirement already satisfied: pyparsing>=2.0.2 in /usr/local/lib/python3.6/dist-packages (from packaging->bleach->nbconvert->hyperas->elephas) (2.4.7)\n",
            "Requirement already satisfied: wcwidth in /usr/local/lib/python3.6/dist-packages (from prompt-toolkit<2.0.0,>=1.0.0->jupyter-console->jupyter->hyperas->elephas) (0.2.5)\n",
            "Requirement already satisfied: python-dateutil>=2.1 in /usr/local/lib/python3.6/dist-packages (from jupyter-client->jupyter-console->jupyter->hyperas->elephas) (2.8.1)\n",
            "Requirement already satisfied: pickleshare in /usr/local/lib/python3.6/dist-packages (from ipython->jupyter-console->jupyter->hyperas->elephas) (0.7.5)\n",
            "Requirement already satisfied: simplegeneric>0.8 in /usr/local/lib/python3.6/dist-packages (from ipython->jupyter-console->jupyter->hyperas->elephas) (0.8.1)\n",
            "Requirement already satisfied: pexpect; sys_platform != \"win32\" in /usr/local/lib/python3.6/dist-packages (from ipython->jupyter-console->jupyter->hyperas->elephas) (4.8.0)\n",
            "Requirement already satisfied: ptyprocess; os_name != \"nt\" in /usr/local/lib/python3.6/dist-packages (from terminado>=0.3.3; sys_platform != \"win32\"->notebook->jupyter->hyperas->elephas) (0.6.0)\n",
            "Installing collected packages: hyperas, elephas\n",
            "Successfully installed elephas-0.4.3 hyperas-0.4.1\n",
            "The following package was automatically installed and is no longer required:\n",
            "  libnvidia-common-440\n",
            "Use 'apt autoremove' to remove it.\n",
            "The following additional packages will be installed:\n",
            "  openjdk-8-jre-headless\n",
            "Suggested packages:\n",
            "  openjdk-8-demo openjdk-8-source libnss-mdns fonts-dejavu-extra\n",
            "  fonts-ipafont-gothic fonts-ipafont-mincho fonts-wqy-microhei\n",
            "  fonts-wqy-zenhei fonts-indic\n",
            "The following NEW packages will be installed:\n",
            "  openjdk-8-jdk-headless openjdk-8-jre-headless\n",
            "0 upgraded, 2 newly installed, 0 to remove and 33 not upgraded.\n",
            "Need to get 35.8 MB of archives.\n",
            "After this operation, 140 MB of additional disk space will be used.\n",
            "Selecting previously unselected package openjdk-8-jre-headless:amd64.\n",
            "(Reading database ... 144379 files and directories currently installed.)\n",
            "Preparing to unpack .../openjdk-8-jre-headless_8u252-b09-1~18.04_amd64.deb ...\n",
            "Unpacking openjdk-8-jre-headless:amd64 (8u252-b09-1~18.04) ...\n",
            "Selecting previously unselected package openjdk-8-jdk-headless:amd64.\n",
            "Preparing to unpack .../openjdk-8-jdk-headless_8u252-b09-1~18.04_amd64.deb ...\n",
            "Unpacking openjdk-8-jdk-headless:amd64 (8u252-b09-1~18.04) ...\n",
            "Setting up openjdk-8-jre-headless:amd64 (8u252-b09-1~18.04) ...\n",
            "update-alternatives: using /usr/lib/jvm/java-8-openjdk-amd64/jre/bin/orbd to provide /usr/bin/orbd (orbd) in auto mode\n",
            "update-alternatives: using /usr/lib/jvm/java-8-openjdk-amd64/jre/bin/servertool to provide /usr/bin/servertool (servertool) in auto mode\n",
            "update-alternatives: using /usr/lib/jvm/java-8-openjdk-amd64/jre/bin/tnameserv to provide /usr/bin/tnameserv (tnameserv) in auto mode\n",
            "Setting up openjdk-8-jdk-headless:amd64 (8u252-b09-1~18.04) ...\n",
            "update-alternatives: using /usr/lib/jvm/java-8-openjdk-amd64/bin/idlj to provide /usr/bin/idlj (idlj) in auto mode\n",
            "update-alternatives: using /usr/lib/jvm/java-8-openjdk-amd64/bin/wsimport to provide /usr/bin/wsimport (wsimport) in auto mode\n",
            "update-alternatives: using /usr/lib/jvm/java-8-openjdk-amd64/bin/jsadebugd to provide /usr/bin/jsadebugd (jsadebugd) in auto mode\n",
            "update-alternatives: using /usr/lib/jvm/java-8-openjdk-amd64/bin/native2ascii to provide /usr/bin/native2ascii (native2ascii) in auto mode\n",
            "update-alternatives: using /usr/lib/jvm/java-8-openjdk-amd64/bin/javah to provide /usr/bin/javah (javah) in auto mode\n",
            "update-alternatives: using /usr/lib/jvm/java-8-openjdk-amd64/bin/clhsdb to provide /usr/bin/clhsdb (clhsdb) in auto mode\n",
            "update-alternatives: using /usr/lib/jvm/java-8-openjdk-amd64/bin/extcheck to provide /usr/bin/extcheck (extcheck) in auto mode\n",
            "update-alternatives: using /usr/lib/jvm/java-8-openjdk-amd64/bin/hsdb to provide /usr/bin/hsdb (hsdb) in auto mode\n",
            "update-alternatives: using /usr/lib/jvm/java-8-openjdk-amd64/bin/schemagen to provide /usr/bin/schemagen (schemagen) in auto mode\n",
            "update-alternatives: using /usr/lib/jvm/java-8-openjdk-amd64/bin/xjc to provide /usr/bin/xjc (xjc) in auto mode\n",
            "update-alternatives: using /usr/lib/jvm/java-8-openjdk-amd64/bin/jhat to provide /usr/bin/jhat (jhat) in auto mode\n",
            "update-alternatives: using /usr/lib/jvm/java-8-openjdk-amd64/bin/wsgen to provide /usr/bin/wsgen (wsgen) in auto mode\n"
          ],
          "name": "stdout"
        }
      ]
    },
    {
      "cell_type": "markdown",
      "metadata": {
        "id": "YZ9axd_2J0vD",
        "colab_type": "text"
      },
      "source": [
        "# Import useful Python packages"
      ]
    },
    {
      "cell_type": "code",
      "metadata": {
        "id": "kgT37c_zJzjL",
        "colab_type": "code",
        "colab": {}
      },
      "source": [
        "import matplotlib.pyplot as plt\n",
        "import librosa.display\n",
        "import numpy as np\n",
        "import pandas as pd\n",
        "import librosa\n",
        "from matplotlib.backends.backend_agg import FigureCanvasAgg as FigureCanvas\n",
        "import os\n",
        "import glob\n",
        "import csv"
      ],
      "execution_count": null,
      "outputs": []
    },
    {
      "cell_type": "code",
      "metadata": {
        "id": "fOvE81vE65bf",
        "colab_type": "code",
        "colab": {
          "base_uri": "https://localhost:8080/",
          "height": 83
        },
        "outputId": "b4fbf5fa-fc0e-4ed2-d770-ec6a4393b433"
      },
      "source": [
        "# Import Java path--> Set path to JAVA_HOME\n",
        "JAVA_HOME = \"/usr/lib/jvm/java-8-openjdk-amd64\"\n",
        "import os\n",
        "import math \n",
        "from handyspark import *\n",
        "os.environ[\"JAVA_HOME\"] = JAVA_HOME\n",
        "# Spark Session, Pipeline, Functions, and Metrics\n",
        "from pyspark import SparkContext, SparkConf\n",
        "from pyspark.sql import SQLContext\n",
        "from pyspark.sql import SparkSession\n",
        "from pyspark.ml.feature import StringIndexer, StandardScaler, VectorAssembler\n",
        "#from pyspark.ml.feature import OneHotEncoderEstimator, StringIndexer, StandardScaler, VectorAssembler\n",
        "from pyspark.ml import Pipeline\n",
        "from pyspark.sql.functions import rand\n",
        "from pyspark.mllib.evaluation import MulticlassMetrics\n",
        "from pyspark.ml.evaluation import BinaryClassificationEvaluator\n",
        "import pyspark\n",
        "from pyspark.sql import *\n",
        "from pyspark.sql.types import *\n",
        "from pyspark.sql.functions import *\n",
        "from pyspark import SparkContext, SparkConf\n",
        "# Keras / Deep Learning\n",
        "import keras\n",
        "import tensorflow as tf\n",
        "from keras.models import Sequential\n",
        "from keras.layers.core import Dense, Dropout, Activation\n",
        "from keras import optimizers, regularizers\n",
        "from keras.optimizers import Adam\n",
        "# Elephas for Deep Learning on Spark\n",
        "from elephas.ml_model import ElephasEstimator\n",
        "# Google drive\n",
        "from google.colab import drive\n",
        "# ML libraries\n",
        "from pyspark.ml.classification import MultilayerPerceptronClassifier\n",
        "from pyspark.ml.evaluation import MulticlassClassificationEvaluator\n",
        "from pyspark.ml.classification import LinearSVC\n",
        "from pyspark.ml.classification import NaiveBayes\n",
        "from pyspark.ml.classification import LogisticRegression\n",
        "from pyspark.ml.tuning import CrossValidator, ParamGridBuilder\n",
        "# CSV and pandas libraries\n",
        "import csv\n",
        "import pandas as pd\n",
        "import numpy as np\n",
        "import matplotlib.pyplot as plt\n",
        "import seaborn as sns\n",
        "%matplotlib inline\n",
        "from handyspark import *\n",
        "from pyspark.ml.tuning import CrossValidator, ParamGridBuilder\n",
        "from pyspark.ml.evaluation import BinaryClassificationEvaluator\n",
        "from pyspark.sql import SQLContext\n",
        "from pyspark.sql import SparkSession\n",
        "from pyspark.sql.functions import rand\n",
        "from pyspark.mllib.evaluation import MulticlassMetrics\n",
        "# Keras / Deep Learning\n",
        "import keras\n",
        "import tensorflow as tf\n",
        "from keras.models import Sequential\n",
        "from keras.layers.core import Dense, Dropout, Activation\n",
        "from keras import optimizers, regularizers\n",
        "from keras.optimizers import Adam\n",
        "# Elephas for Deep Learning on Spark\n",
        "from elephas.ml_model import ElephasEstimator"
      ],
      "execution_count": null,
      "outputs": [
        {
          "output_type": "stream",
          "text": [
            "/usr/local/lib/python3.6/dist-packages/statsmodels/tools/_testing.py:19: FutureWarning: pandas.util.testing is deprecated. Use the functions in the public API at pandas.testing instead.\n",
            "  import pandas.util.testing as tm\n",
            "Using TensorFlow backend.\n"
          ],
          "name": "stderr"
        },
        {
          "output_type": "stream",
          "text": [
            "WARNING\n"
          ],
          "name": "stdout"
        }
      ]
    },
    {
      "cell_type": "markdown",
      "metadata": {
        "id": "A1AY5P9TMGN2",
        "colab_type": "text"
      },
      "source": [
        "# *Create Spark context*"
      ]
    },
    {
      "cell_type": "code",
      "metadata": {
        "id": "z4patzOBa7Fc",
        "colab_type": "code",
        "colab": {
          "base_uri": "https://localhost:8080/",
          "height": 70
        },
        "outputId": "64753179-403c-47b1-c458-3034f3e62a0d"
      },
      "source": [
        "# create the session\n",
        "conf = SparkConf().set(\"spark.ui.port\", \"4050\").set('spark.executor.memory', '4G').set('spark.driver.memory', '45G').set('spark.driver.maxResultSize', '10G')\n",
        "\n",
        "# create the context\n",
        "sc = pyspark.SparkContext(conf=conf)\n",
        "spark = SparkSession.builder.getOrCreate()\n",
        "sql_context = SQLContext(sc)\n",
        "print(sc)\n",
        "print(sc._conf.getAll())"
      ],
      "execution_count": null,
      "outputs": [
        {
          "output_type": "stream",
          "text": [
            "<SparkContext master=local[*] appName=pyspark-shell>\n",
            "[('spark.driver.memory', '45G'), ('spark.driver.port', '44511'), ('spark.app.id', 'local-1594021646389'), ('spark.executor.id', 'driver'), ('spark.driver.maxResultSize', '10G'), ('spark.app.name', 'pyspark-shell'), ('spark.ui.port', '4050'), ('spark.rdd.compress', 'True'), ('spark.serializer.objectStreamReset', '100'), ('spark.driver.host', 'a20cb7362095'), ('spark.master', 'local[*]'), ('spark.submit.deployMode', 'client'), ('spark.executor.memory', '4G'), ('spark.ui.showConsoleProgress', 'true')]\n"
          ],
          "name": "stdout"
        }
      ]
    },
    {
      "cell_type": "markdown",
      "metadata": {
        "id": "ZgsxrEfII7JF",
        "colab_type": "text"
      },
      "source": [
        "# Define Google Drive Path"
      ]
    },
    {
      "cell_type": "code",
      "metadata": {
        "id": "ttRpRphmH7iZ",
        "colab_type": "code",
        "colab": {}
      },
      "source": [
        "# Google Drive Prepration\n",
        "GDRIVE_DIR = \"/content/gdrive\" # Your own mount point on Google Drive\n",
        "GDRIVE_HOME_DIR = GDRIVE_DIR + \"/My Drive\" # Your own home directory\n",
        "GDRIVE_DATA_DIR = GDRIVE_HOME_DIR + \"/1911242_1916304/Sample_Data\" # Your own data directory"
      ],
      "execution_count": null,
      "outputs": []
    },
    {
      "cell_type": "markdown",
      "metadata": {
        "id": "aoLhhcdFJPJi",
        "colab_type": "text"
      },
      "source": [
        "# Mount Google Drive"
      ]
    },
    {
      "cell_type": "code",
      "metadata": {
        "id": "impiXcoEILCX",
        "colab_type": "code",
        "colab": {
          "base_uri": "https://localhost:8080/",
          "height": 120
        },
        "outputId": "61d4780d-ef11-4b2e-eec8-f88bc40ca3cc"
      },
      "source": [
        "from google.colab import drive\n",
        "drive.mount(GDRIVE_DIR, force_remount=True)"
      ],
      "execution_count": null,
      "outputs": [
        {
          "output_type": "stream",
          "text": [
            "Go to this URL in a browser: https://accounts.google.com/o/oauth2/auth?client_id=947318989803-6bn6qk8qdgf4n4g3pfee6491hc0brc4i.apps.googleusercontent.com&redirect_uri=urn%3aietf%3awg%3aoauth%3a2.0%3aoob&response_type=code&scope=email%20https%3a%2f%2fwww.googleapis.com%2fauth%2fdocs.test%20https%3a%2f%2fwww.googleapis.com%2fauth%2fdrive%20https%3a%2f%2fwww.googleapis.com%2fauth%2fdrive.photos.readonly%20https%3a%2f%2fwww.googleapis.com%2fauth%2fpeopleapi.readonly\n",
            "\n",
            "Enter your authorization code:\n",
            "··········\n",
            "Mounted at /content/gdrive\n"
          ],
          "name": "stdout"
        }
      ]
    },
    {
      "cell_type": "markdown",
      "metadata": {
        "id": "71ntKmdwJUNW",
        "colab_type": "text"
      },
      "source": [
        "# Extracting CQT feature from a sample audio"
      ]
    },
    {
      "cell_type": "code",
      "metadata": {
        "id": "yJFMpF_tIPS3",
        "colab_type": "code",
        "colab": {
          "base_uri": "https://localhost:8080/",
          "height": 265
        },
        "outputId": "7add5733-ea1b-4ec3-e508-74bb2a591466"
      },
      "source": [
        "y, sr = librosa.load('/content/gdrive/My Drive/1911242_1916304/Sample_Data/file2.wav_16k.wav_norm.wav_mono.wav_silence.wav_2sec.wav')\n",
        "C = np.abs(librosa.cqt(y, sr=sr))\n",
        "\n",
        "plt.figure()\n",
        "ax = plt.axes()\n",
        "ax.set_axis_off()\n",
        "librosa.display.specshow(librosa.amplitude_to_db( C, ref=np.max))\n",
        "\n",
        "print(C.shape)"
      ],
      "execution_count": null,
      "outputs": [
        {
          "output_type": "stream",
          "text": [
            "(84, 87)\n"
          ],
          "name": "stdout"
        },
        {
          "output_type": "display_data",
          "data": {
            "image/png": "[encoded data removed]",
            "text/plain": [
              "<Figure size 432x288 with 1 Axes>"
            ]
          },
          "metadata": {
            "tags": []
          }
        }
      ]
    },
    {
      "cell_type": "markdown",
      "metadata": {
        "id": "QKzJMfmoKLPs",
        "colab_type": "text"
      },
      "source": [
        "# Extract CQT Features From Dataset(Only Run it when you want to make your CSV dataset)"
      ]
    },
    {
      "cell_type": "code",
      "metadata": {
        "id": "W2q4auGHKV2k",
        "colab_type": "code",
        "colab": {}
      },
      "source": [
        "\n",
        "path = \"/content/gdrive/My Drive/1911242_1916304/RawAudioDataset/train/real/\"\n",
        "files = os.listdir(path)\n",
        "i=0\n",
        "for filename in glob.glob(os.path.join(path, '*.wav')):\n",
        "    print(filename)\n",
        "    y, sr = librosa.load(filename)\n",
        "    C = np.abs(librosa.cqt(y, sr=sr))                             \n",
        "    CC=C.reshape(-1,1).T\n",
        "    df = pd.DataFrame(CC)\n",
        "    df.to_csv('/content/gdrive/My Drive/1911242_1916304/RawAudioDataset/train/TrainSet.csv', mode='a', header=False)\n",
        "    print(i)\n",
        "    i=i+1\n",
        "print(C.shape)\n"
      ],
      "execution_count": null,
      "outputs": []
    },
    {
      "cell_type": "markdown",
      "metadata": {
        "id": "XGPUO_KwB-r3",
        "colab_type": "text"
      },
      "source": [
        "# **Data sampling(Only run the following step, incase you need Sampling from data)** "
      ]
    },
    {
      "cell_type": "markdown",
      "metadata": {
        "id": "oMuyY5gMPHVL",
        "colab_type": "text"
      },
      "source": [
        "# 1. Sampling on Trainset"
      ]
    },
    {
      "cell_type": "markdown",
      "metadata": {
        "id": "MNeJMSTB5Uap",
        "colab_type": "text"
      },
      "source": [
        "Here we perfom sampling on train data. Firstly, we divide the population into subgroups based on labels (Real and Fake). And then we select the samples from these subgroups. This method is called **stratified** sampling. Then we perform **systematic** sampling. In this type of sampling, the first individual is selected and others are selected using a fixed **'sampling interval'**. In this example the sampling interval equals to 8."
      ]
    },
    {
      "cell_type": "code",
      "metadata": {
        "id": "mSTO4MsO3V3F",
        "colab_type": "code",
        "colab": {
          "base_uri": "https://localhost:8080/",
          "height": 68
        },
        "outputId": "528726b9-ac88-4357-af80-6963626f57d0"
      },
      "source": [
        "\n",
        "with open('/content/gdrive/My Drive/1911242_1916304/Dataset/CQTraw.csv', 'r') as file:\n",
        "    reader = csv.reader(file, delimiter = ',')\n",
        "    i=0\n",
        "    for i, row in enumerate(reader):\n",
        "        if i%8==0:\n",
        "            #print(row)\n",
        "            import csv\n",
        "            with open('/content/gdrive/My Drive/1911242_1916304/Dataset/CQTsampling8.csv', 'a', newline='') as file:\n",
        "                writer = csv.writer(file)\n",
        "                writer.writerow(row)\n"
      ],
      "execution_count": null,
      "outputs": [
        {
          "output_type": "execute_result",
          "data": {
            "application/vnd.google.colaboratory.intrinsic": {
              "type": "string"
            },
            "text/plain": [
              "\"\\nwith open('/content/gdrive/My Drive/1911242_1916304/Dataset/CQTraw.csv', 'r') as file:\\n    reader = csv.reader(file, delimiter = ',')\\n    i=0\\n    for i, row in enumerate(reader):\\n        if i%8==0:\\n            #print(row)\\n            import csv\\n            with open('/content/gdrive/My Drive/1911242_1916304/Dataset/CQTsampling8.csv', 'a', newline='') as file:\\n                writer = csv.writer(file)\\n                writer.writerow(row)\\n\""
            ]
          },
          "metadata": {
            "tags": []
          },
          "execution_count": 9
        }
      ]
    },
    {
      "cell_type": "markdown",
      "metadata": {
        "id": "WAr6qp9RDY3V",
        "colab_type": "text"
      },
      "source": [
        "# **Data Preprocessing** "
      ]
    },
    {
      "cell_type": "markdown",
      "metadata": {
        "id": "ru2K9OxHPYkt",
        "colab_type": "text"
      },
      "source": [
        "# 1. Shuffle data on Trainset (Do not run this part everytime)"
      ]
    },
    {
      "cell_type": "markdown",
      "metadata": {
        "id": "FbSwkhuw8jTC",
        "colab_type": "text"
      },
      "source": [
        "Here we Shuffle the train data \n",
        "\n"
      ]
    },
    {
      "cell_type": "code",
      "metadata": {
        "id": "196pp7XH7olw",
        "colab_type": "code",
        "colab": {}
      },
      "source": [
        "\n",
        "df = pd.read_csv('/content/gdrive/My Drive/1911242_1916304/Dataset/CQTraw.csv') # avoid header=None. \n",
        "shuffled_df = df.sample(frac=1)\n",
        "shuffled_df.to_csv('/content/gdrive/My Drive/1911242_1916304/Dataset/CQTshuffle.csv', index=False)\n"
      ],
      "execution_count": null,
      "outputs": []
    },
    {
      "cell_type": "markdown",
      "metadata": {
        "id": "pMG4a0W7PnNq",
        "colab_type": "text"
      },
      "source": [
        "# 2. Shuffle data on Testset (Do not run this part everytime)"
      ]
    },
    {
      "cell_type": "markdown",
      "metadata": {
        "id": "DcAzndkEA4rT",
        "colab_type": "text"
      },
      "source": [
        "Here we Shuffle the test data\n"
      ]
    },
    {
      "cell_type": "code",
      "metadata": {
        "id": "SGCbajOQA45h",
        "colab_type": "code",
        "colab": {}
      },
      "source": [
        "\n",
        "dftest = pd.read_csv('/content/gdrive/My Drive/1911242_1916304/Dataset/CQTtest.csv') # avoid header=None. \n",
        "shuffled_dftest = dftest.sample(frac=1)\n",
        "shuffled_dftest.to_csv('/content/gdrive/My Drive/1911242_1916304/Dataset/CQTtestshuffle.csv', index=False)\n"
      ],
      "execution_count": null,
      "outputs": []
    },
    {
      "cell_type": "markdown",
      "metadata": {
        "id": "KPXRAj7WCwCu",
        "colab_type": "text"
      },
      "source": [
        "# **Data Summary on Train Set**\n",
        "\n",
        "\n"
      ]
    },
    {
      "cell_type": "markdown",
      "metadata": {
        "id": "PZeQRPFtTxaw",
        "colab_type": "text"
      },
      "source": [
        "# Load train data to spark dataframe"
      ]
    },
    {
      "cell_type": "code",
      "metadata": {
        "id": "PCbAcxVWT7Jm",
        "colab_type": "code",
        "colab": {}
      },
      "source": [
        "df_train = sql_context.read.csv('/content/gdrive/My Drive/1911242_1916304/Dataset/CQTshuffle.csv',\n",
        "                    header=True,\n",
        "                    inferSchema=True)"
      ],
      "execution_count": null,
      "outputs": []
    },
    {
      "cell_type": "markdown",
      "metadata": {
        "id": "ps803W0u1Ess",
        "colab_type": "text"
      },
      "source": [
        "# Data set preprocessing\n"
      ]
    },
    {
      "cell_type": "markdown",
      "metadata": {
        "id": "NOQFPRul-cim",
        "colab_type": "text"
      },
      "source": [
        "Check for any missing values"
      ]
    },
    {
      "cell_type": "code",
      "metadata": {
        "id": "0vCALr2d00Nm",
        "colab_type": "code",
        "colab": {}
      },
      "source": [
        "\n",
        "for c in df_train.columns:\n",
        "  print(\"N. of missing values of column `{:s}` = {:d}\".format(c, df_train.where(col(c).isNull()).count()))\n"
      ],
      "execution_count": null,
      "outputs": []
    },
    {
      "cell_type": "markdown",
      "metadata": {
        "id": "Gjudo2jP5-Qg",
        "colab_type": "text"
      },
      "source": [
        "# Statistical summary of train data"
      ]
    },
    {
      "cell_type": "markdown",
      "metadata": {
        "id": "BygmuwDJ6H1E",
        "colab_type": "text"
      },
      "source": [
        "Check the shape of the train loaded dataset, i.e., number of rows and columns\n",
        "\n",
        "\n",
        "\n"
      ]
    },
    {
      "cell_type": "code",
      "metadata": {
        "id": "NGoUhmxZ57dV",
        "colab_type": "code",
        "colab": {
          "base_uri": "https://localhost:8080/",
          "height": 33
        },
        "outputId": "2edef58b-959e-4179-84b5-1d376f4c327b"
      },
      "source": [
        "print(\"The shape of the train dataset is {:d} rows by {:d} columns\".format(df_train.count(), len(df_train.columns)))"
      ],
      "execution_count": null,
      "outputs": [
        {
          "output_type": "stream",
          "text": [
            "The shape of the train dataset is 13956 rows by 7309 columns\n"
          ],
          "name": "stdout"
        }
      ]
    },
    {
      "cell_type": "markdown",
      "metadata": {
        "id": "k_qnbpn4UW0O",
        "colab_type": "text"
      },
      "source": [
        "Statistical summary of data"
      ]
    },
    {
      "cell_type": "code",
      "metadata": {
        "id": "3UtXd5mwQV4X",
        "colab_type": "code",
        "colab": {
          "base_uri": "https://localhost:8080/",
          "height": 183
        },
        "outputId": "8e5395e2-a085-45f9-ffc0-26b6d9bb0c6a"
      },
      "source": [
        "df_train.describe('label').show()"
      ],
      "execution_count": null,
      "outputs": [
        {
          "output_type": "stream",
          "text": [
            "+-------+------------------+\n",
            "|summary|             label|\n",
            "+-------+------------------+\n",
            "|  count|             13956|\n",
            "|   mean|               0.5|\n",
            "| stddev|0.5000179144049789|\n",
            "|    min|                 0|\n",
            "|    max|                 1|\n",
            "+-------+------------------+\n",
            "\n"
          ],
          "name": "stdout"
        }
      ]
    },
    {
      "cell_type": "markdown",
      "metadata": {
        "id": "gGxAO1sU6P0q",
        "colab_type": "text"
      },
      "source": [
        "Count data with pos and neg labels"
      ]
    },
    {
      "cell_type": "code",
      "metadata": {
        "id": "9rJ8vSrCBp9T",
        "colab_type": "code",
        "colab": {
          "base_uri": "https://localhost:8080/",
          "height": 133
        },
        "outputId": "0c3bedac-2e40-4546-863b-161e47b34a9a"
      },
      "source": [
        "df_train.groupBy('label').count().show()"
      ],
      "execution_count": null,
      "outputs": [
        {
          "output_type": "stream",
          "text": [
            "+-----+-----+\n",
            "|label|count|\n",
            "+-----+-----+\n",
            "|    1| 6978|\n",
            "|    0| 6978|\n",
            "+-----+-----+\n",
            "\n"
          ],
          "name": "stdout"
        }
      ]
    },
    {
      "cell_type": "markdown",
      "metadata": {
        "id": "eGw9cbwBlb3I",
        "colab_type": "text"
      },
      "source": [
        "Data is completely balanced"
      ]
    },
    {
      "cell_type": "code",
      "metadata": {
        "id": "dFuYRhIMQb4Y",
        "colab_type": "code",
        "colab": {
          "base_uri": "https://localhost:8080/",
          "height": 285
        },
        "outputId": "8c6eecce-2a97-4a36-8419-720ccfe63aed"
      },
      "source": [
        "gre_histogram = df_train.select('label').rdd.flatMap(lambda x: x).histogram(2)\n",
        "# Loading the Computed Histogram into a Pandas Dataframe for plotting\n",
        "pd.DataFrame(\n",
        "list(zip(*gre_histogram)),\n",
        "columns=['bin', 'frequency']\n",
        ").set_index(\n",
        "'bin'\n",
        ").plot(kind='bar');"
      ],
      "execution_count": null,
      "outputs": [
        {
          "output_type": "display_data",
          "data": {
            "image/png": "[encoded data removed]",
            "text/plain": [
              "<Figure size 432x288 with 1 Axes>"
            ]
          },
          "metadata": {
            "tags": [],
            "needs_background": "light"
          }
        }
      ]
    },
    {
      "cell_type": "markdown",
      "metadata": {
        "id": "oUtWQ_1ONu2Q",
        "colab_type": "text"
      },
      "source": [
        "# VectorAssembler on train set features"
      ]
    },
    {
      "cell_type": "markdown",
      "metadata": {
        "id": "vy1JbD2_6bt3",
        "colab_type": "text"
      },
      "source": [
        "Convert all the features to one feature vector"
      ]
    },
    {
      "cell_type": "code",
      "metadata": {
        "id": "ycRfzokAUQlP",
        "colab_type": "code",
        "colab": {}
      },
      "source": [
        "# Merge all feature coloumns\n",
        "columns = ['pixel{:d}'.format(k) for k in range(7308)]\n",
        "assembler = VectorAssembler(inputCols=columns, \n",
        "                            outputCol=\"features\")\n",
        "Combine_df = assembler.transform(df_train)\n",
        "#Combine_df.select(\"features\", \"label\").show(truncate=False)"
      ],
      "execution_count": null,
      "outputs": []
    },
    {
      "cell_type": "code",
      "metadata": {
        "id": "Bh0exiCXV-MO",
        "colab_type": "code",
        "colab": {
          "base_uri": "https://localhost:8080/",
          "height": 200
        },
        "outputId": "f202f148-cf10-40e5-8c72-afa88db8b1be"
      },
      "source": [
        "Combine_df = Combine_df.select(\"features\", \"label\")\n",
        "Combine_df.show(5)"
      ],
      "execution_count": null,
      "outputs": [
        {
          "output_type": "stream",
          "text": [
            "+--------------------+-----+\n",
            "|            features|label|\n",
            "+--------------------+-----+\n",
            "|[0.093722927,0.09...|    0|\n",
            "|[0.009433728,0.00...|    1|\n",
            "|[0.01603781,0.017...|    1|\n",
            "|[0.006280194,0.00...|    1|\n",
            "|[0.016680166,0.01...|    1|\n",
            "+--------------------+-----+\n",
            "only showing top 5 rows\n",
            "\n"
          ],
          "name": "stdout"
        }
      ]
    },
    {
      "cell_type": "markdown",
      "metadata": {
        "id": "TotCe8PpCyMq",
        "colab_type": "text"
      },
      "source": [
        "Data shuffeling"
      ]
    },
    {
      "cell_type": "code",
      "metadata": {
        "id": "5lTIhay0V-HX",
        "colab_type": "code",
        "colab": {
          "base_uri": "https://localhost:8080/",
          "height": 200
        },
        "outputId": "cee1fecd-4015-4c82-e523-3be0a2d3f919"
      },
      "source": [
        "# Shuffle data\n",
        "df_transform_fin = Combine_df.orderBy(rand())\n",
        "df_transform_fin.show(5)"
      ],
      "execution_count": null,
      "outputs": [
        {
          "output_type": "stream",
          "text": [
            "+--------------------+-----+\n",
            "|            features|label|\n",
            "+--------------------+-----+\n",
            "|[0.00998716800000...|    0|\n",
            "|[0.00581403300000...|    0|\n",
            "|[0.279425831,0.26...|    1|\n",
            "|[0.00964683599999...|    0|\n",
            "|[0.00822444,0.008...|    0|\n",
            "+--------------------+-----+\n",
            "only showing top 5 rows\n",
            "\n"
          ],
          "name": "stdout"
        }
      ]
    },
    {
      "cell_type": "markdown",
      "metadata": {
        "id": "8iL-vjnL6xfo",
        "colab_type": "text"
      },
      "source": [
        "Consider the preprocessed train dataframe as train_data"
      ]
    },
    {
      "cell_type": "code",
      "metadata": {
        "id": "D4eA6E5d1AGX",
        "colab_type": "code",
        "colab": {}
      },
      "source": [
        "train_data=df_transform_fin"
      ],
      "execution_count": null,
      "outputs": []
    },
    {
      "cell_type": "markdown",
      "metadata": {
        "colab_type": "text",
        "id": "RA7hXXGuBNcQ"
      },
      "source": [
        "Delete variable to free up space"
      ]
    },
    {
      "cell_type": "code",
      "metadata": {
        "colab_type": "code",
        "id": "AgmjRQjUBNcR",
        "colab": {}
      },
      "source": [
        "del df_transform_fin"
      ],
      "execution_count": null,
      "outputs": []
    },
    {
      "cell_type": "markdown",
      "metadata": {
        "id": "FDtIRa_07C4x",
        "colab_type": "text"
      },
      "source": [
        "Check the shape of the train loaded dataset, i.e., number of rows and columns\n",
        "\n",
        "\n"
      ]
    },
    {
      "cell_type": "code",
      "metadata": {
        "id": "em-LmQ_319C7",
        "colab_type": "code",
        "colab": {
          "base_uri": "https://localhost:8080/",
          "height": 33
        },
        "outputId": "f5ec1fa4-2643-4126-a726-bf88ba2617d1"
      },
      "source": [
        "print(\"The shape of the dataset is {:d} rows by {:d} columns\".format(train_data.count(), len(train_data.columns)))"
      ],
      "execution_count": null,
      "outputs": [
        {
          "output_type": "stream",
          "text": [
            "The shape of the dataset is 13956 rows by 2 columns\n"
          ],
          "name": "stdout"
        }
      ]
    },
    {
      "cell_type": "markdown",
      "metadata": {
        "id": "75H6oxeTCXbx",
        "colab_type": "text"
      },
      "source": [
        "#  **Data Summary on test set**"
      ]
    },
    {
      "cell_type": "markdown",
      "metadata": {
        "id": "2qlVhrfF7t_h",
        "colab_type": "text"
      },
      "source": [
        "# Load test data to spark dataframe"
      ]
    },
    {
      "cell_type": "code",
      "metadata": {
        "id": "hn-fEoW6CWXO",
        "colab_type": "code",
        "colab": {}
      },
      "source": [
        "# Load Data to Spark Dataframe\n",
        "df_test = sql_context.read.csv('/content/gdrive/My Drive/1911242_1916304/Dataset/CQTtestshuffle.csv',\n",
        "                    header=True,\n",
        "                    inferSchema=True)"
      ],
      "execution_count": null,
      "outputs": []
    },
    {
      "cell_type": "markdown",
      "metadata": {
        "id": "rJoMyhiJ72yM",
        "colab_type": "text"
      },
      "source": [
        "# Data set preprocessing"
      ]
    },
    {
      "cell_type": "markdown",
      "metadata": {
        "id": "rNe_SOSM7-td",
        "colab_type": "text"
      },
      "source": [
        "Check for any missing values"
      ]
    },
    {
      "cell_type": "code",
      "metadata": {
        "id": "guHRrsBP78jP",
        "colab_type": "code",
        "colab": {
          "base_uri": "https://localhost:8080/",
          "height": 35
        },
        "outputId": "f9d60d88-36b8-404c-da04-8d920e1c5b8e"
      },
      "source": [
        "\n",
        "for c in df_test.columns:\n",
        "  print(\"N. of missing values of column `{:s}` = {:d}\".format(c, df_test.where(col(c).isNull()).count()))\n"
      ],
      "execution_count": null,
      "outputs": [
        {
          "output_type": "execute_result",
          "data": {
            "application/vnd.google.colaboratory.intrinsic": {
              "type": "string"
            },
            "text/plain": [
              "'\\nfor c in df_test.columns:\\n  print(\"N. of missing values of column `{:s}` = {:d}\".format(c, df_test.where(col(c).isNull()).count()))\\n'"
            ]
          },
          "metadata": {
            "tags": []
          },
          "execution_count": 25
        }
      ]
    },
    {
      "cell_type": "markdown",
      "metadata": {
        "id": "UVnP4tyl8GNA",
        "colab_type": "text"
      },
      "source": [
        "# Statistical summary of test data"
      ]
    },
    {
      "cell_type": "markdown",
      "metadata": {
        "id": "OQG-TqfR8NV2",
        "colab_type": "text"
      },
      "source": [
        "Check the shape of the train loaded dataset, i.e., number of rows and columns"
      ]
    },
    {
      "cell_type": "code",
      "metadata": {
        "id": "1MsbHCpECWpL",
        "colab_type": "code",
        "colab": {
          "base_uri": "https://localhost:8080/",
          "height": 33
        },
        "outputId": "9254e036-3566-400a-d2aa-3899ae72afbc"
      },
      "source": [
        "print(\"The shape of the dataset is {:d} rows by {:d} columns\".format(df_test.count(), len(df_test.columns)))"
      ],
      "execution_count": null,
      "outputs": [
        {
          "output_type": "stream",
          "text": [
            "The shape of the dataset is 1088 rows by 7309 columns\n"
          ],
          "name": "stdout"
        }
      ]
    },
    {
      "cell_type": "markdown",
      "metadata": {
        "id": "EsUkVHzm8bQR",
        "colab_type": "text"
      },
      "source": [
        "# Vector Assembler on test features"
      ]
    },
    {
      "cell_type": "markdown",
      "metadata": {
        "id": "NbCx6U1i8hL9",
        "colab_type": "text"
      },
      "source": [
        "Convert all the features to one feature vector"
      ]
    },
    {
      "cell_type": "code",
      "metadata": {
        "id": "mNs7dG_tCWzS",
        "colab_type": "code",
        "colab": {}
      },
      "source": [
        "# Merge all feature coloumns\n",
        "columns = ['pixel{:d}'.format(k) for k in range(7308)]\n",
        "assembler = VectorAssembler(inputCols=columns, \n",
        "                            outputCol=\"features\")\n",
        "Combine_df_test = assembler.transform(df_test)\n",
        "#Combine_df.select(\"features\", \"label\").show(truncate=False)"
      ],
      "execution_count": null,
      "outputs": []
    },
    {
      "cell_type": "code",
      "metadata": {
        "id": "aqV2ZUeaCtBn",
        "colab_type": "code",
        "colab": {
          "base_uri": "https://localhost:8080/",
          "height": 200
        },
        "outputId": "3855e469-8daa-4847-a409-00ea113e13ee"
      },
      "source": [
        "Combine_df_test = Combine_df_test.select(\"features\", \"label\")\n",
        "Combine_df_test.show(5)"
      ],
      "execution_count": null,
      "outputs": [
        {
          "output_type": "stream",
          "text": [
            "+--------------------+-----+\n",
            "|            features|label|\n",
            "+--------------------+-----+\n",
            "|[0.016204236,0.01...|    0|\n",
            "|[0.025119721,0.02...|    1|\n",
            "|[0.046963217,0.04...|    0|\n",
            "|[0.149262389,0.14...|    1|\n",
            "|[0.045458491,0.04...|    1|\n",
            "+--------------------+-----+\n",
            "only showing top 5 rows\n",
            "\n"
          ],
          "name": "stdout"
        }
      ]
    },
    {
      "cell_type": "markdown",
      "metadata": {
        "id": "hLZCiI9r8rPl",
        "colab_type": "text"
      },
      "source": [
        "Data shuffeling"
      ]
    },
    {
      "cell_type": "code",
      "metadata": {
        "id": "62ruHWuOCs-w",
        "colab_type": "code",
        "colab": {
          "base_uri": "https://localhost:8080/",
          "height": 200
        },
        "outputId": "77ae3204-a4d4-4d64-c822-08f5303daa37"
      },
      "source": [
        "# Shuffle data\n",
        "df_transform_fin_test = Combine_df_test.orderBy(rand())\n",
        "df_transform_fin_test.show(5)"
      ],
      "execution_count": null,
      "outputs": [
        {
          "output_type": "stream",
          "text": [
            "+--------------------+-----+\n",
            "|            features|label|\n",
            "+--------------------+-----+\n",
            "|[0.004757981,0.00...|    0|\n",
            "|[0.041888067,0.04...|    0|\n",
            "|[0.017295964,0.01...|    0|\n",
            "|[0.008332136,0.01...|    1|\n",
            "|[0.045176416,0.04...|    1|\n",
            "+--------------------+-----+\n",
            "only showing top 5 rows\n",
            "\n"
          ],
          "name": "stdout"
        }
      ]
    },
    {
      "cell_type": "markdown",
      "metadata": {
        "id": "07_TEhzP8xlD",
        "colab_type": "text"
      },
      "source": [
        "Consider the preprocessed test dataframe as test_data"
      ]
    },
    {
      "cell_type": "code",
      "metadata": {
        "id": "d9Q71E8ICs7o",
        "colab_type": "code",
        "colab": {}
      },
      "source": [
        "test_data=df_transform_fin_test"
      ],
      "execution_count": null,
      "outputs": []
    },
    {
      "cell_type": "markdown",
      "metadata": {
        "id": "8_eMvXQ084F6",
        "colab_type": "text"
      },
      "source": [
        "Check the shape of the train loaded dataset, i.e., number of rows and columns"
      ]
    },
    {
      "cell_type": "code",
      "metadata": {
        "id": "4ZLfO3gB1YFN",
        "colab_type": "code",
        "colab": {
          "base_uri": "https://localhost:8080/",
          "height": 33
        },
        "outputId": "ef78f3c1-df88-432e-b9db-b45d8c06d389"
      },
      "source": [
        "print(\"The shape of the dataset is {:d} rows by {:d} columns\".format(test_data.count(), len(test_data.columns)))"
      ],
      "execution_count": null,
      "outputs": [
        {
          "output_type": "stream",
          "text": [
            "The shape of the dataset is 1088 rows by 2 columns\n"
          ],
          "name": "stdout"
        }
      ]
    },
    {
      "cell_type": "markdown",
      "metadata": {
        "id": "K-jNV2erA_E4",
        "colab_type": "text"
      },
      "source": [
        "Delete variable to free up space"
      ]
    },
    {
      "cell_type": "code",
      "metadata": {
        "id": "jdVcDsdDA1HS",
        "colab_type": "code",
        "colab": {}
      },
      "source": [
        "del df_transform_fin_test"
      ],
      "execution_count": null,
      "outputs": []
    },
    {
      "cell_type": "markdown",
      "metadata": {
        "id": "0usqLtm18p6W",
        "colab_type": "text"
      },
      "source": [
        "![alt text](https://qph.fs.quoracdn.net/main-qimg-63fff4cd8c7d06fc83c94e05be268139)"
      ]
    },
    {
      "cell_type": "markdown",
      "metadata": {
        "id": "NNZH30pchC_0",
        "colab_type": "text"
      },
      "source": [
        "# **Logistic Regression**"
      ]
    },
    {
      "cell_type": "markdown",
      "metadata": {
        "id": "FSTI2KbnF7aQ",
        "colab_type": "text"
      },
      "source": [
        "# Fit the model"
      ]
    },
    {
      "cell_type": "markdown",
      "metadata": {
        "id": "2_nBE4AXF-5O",
        "colab_type": "text"
      },
      "source": [
        "\n",
        "1. set classifier. We set 100 itterations for the model\n",
        "2. fit the model"
      ]
    },
    {
      "cell_type": "code",
      "metadata": {
        "id": "E8bgJYvkZHs6",
        "colab_type": "code",
        "colab": {}
      },
      "source": [
        "# create the trainer and set its parameters\n",
        "LRA = LogisticRegression(labelCol=\"label\", featuresCol=\"features\", maxIter=100)\n",
        "# Fit the model  \n",
        "LRAModel = LRA.fit(train_data)"
      ],
      "execution_count": null,
      "outputs": []
    },
    {
      "cell_type": "markdown",
      "metadata": {
        "id": "HxeX1NF1GoxL",
        "colab_type": "text"
      },
      "source": [
        "# Coefficients of logistic regression"
      ]
    },
    {
      "cell_type": "markdown",
      "metadata": {
        "id": "sJ7jWKbTvanO",
        "colab_type": "text"
      },
      "source": [
        "Intercept ($\\theta_0$) and Coefficients ($\\theta_1, \\ldots, \\theta_n$)"
      ]
    },
    {
      "cell_type": "code",
      "metadata": {
        "id": "EuGx9loOiEGk",
        "colab_type": "code",
        "colab": {
          "base_uri": "https://localhost:8080/",
          "height": 83
        },
        "outputId": "31c3716a-7fd1-4ec9-fddf-876db4971ef1"
      },
      "source": [
        "# Print the coefficients and intercepts for logistic regression\n",
        "print(\"logistic regression coefficients: \" + str(LRAModel.coefficientMatrix))\n",
        "print(\"logistic regression bias: \" + str(LRAModel.interceptVector))\n",
        "print(\"number of parameters: \" + str(len(LRAModel.coefficients)+1))"
      ],
      "execution_count": null,
      "outputs": [
        {
          "output_type": "stream",
          "text": [
            "logistic regression coefficients: DenseMatrix([[-0.22560242, -0.29739629, -0.28593459, ...,  2.96546719,\n",
            "              -7.52543425,  8.9997642 ]])\n",
            "logistic regression bias: [3.6669755763761414]\n",
            "number of parameters: 7309\n"
          ],
          "name": "stdout"
        }
      ]
    },
    {
      "cell_type": "code",
      "metadata": {
        "id": "P9TS6IigEsmy",
        "colab_type": "code",
        "colab": {}
      },
      "source": [
        "trainingSummary=LRAModel.summary"
      ],
      "execution_count": null,
      "outputs": []
    },
    {
      "cell_type": "markdown",
      "metadata": {
        "id": "PY1PWzMtG7cW",
        "colab_type": "text"
      },
      "source": [
        "# Theta index-Theta value *curve*"
      ]
    },
    {
      "cell_type": "markdown",
      "metadata": {
        "id": "GyY4WbwDHGeR",
        "colab_type": "text"
      },
      "source": [
        "This curve is used to plot the magnitude of Coefficients. Higher coefficients means higher sensivity to value changes"
      ]
    },
    {
      "cell_type": "code",
      "metadata": {
        "id": "XHrXuHr3vh3P",
        "colab_type": "code",
        "colab": {
          "base_uri": "https://localhost:8080/",
          "height": 419
        },
        "outputId": "dbce6e7d-aa9e-4ae7-f233-f705f897b182"
      },
      "source": [
        "import numpy as np\n",
        "import seaborn as sns\n",
        "from matplotlib import pyplot as plt\n",
        "\n",
        "\n",
        "# Set some default plotting configuration using seaborn properties\n",
        "sns.set_style(\"darkgrid\")\n",
        "sns.set_context(\"notebook\", rc={\"lines.linewidth\": 2, \n",
        "                                \"xtick.labelsize\":14, \n",
        "                                \"ytick.labelsize\":14,\n",
        "                                \"axes.labelsize\": 18,\n",
        "                                \"axes.titlesize\": 20,\n",
        "                                })\n",
        "\n",
        "theta = np.sort(LRAModel.coefficients)\n",
        "\n",
        "fig, ax = plt.subplots(1, 1, figsize=(8,6))\n",
        "_ = sns.lineplot(x=range(0,len(LRAModel.coefficients)), y=theta, marker=\"*\", axes=ax)\n",
        "_ = ax.set_xlabel(\"Theta Index\", labelpad=20)\n",
        "_ = ax.set_ylabel(\"Theta Value (log odds)\", labelpad=20)"
      ],
      "execution_count": null,
      "outputs": [
        {
          "output_type": "display_data",
          "data": {
            "image/png": "[encoded data removed]",
            "text/plain": [
              "<Figure size 576x432 with 1 Axes>"
            ]
          },
          "metadata": {
            "tags": []
          }
        }
      ]
    },
    {
      "cell_type": "markdown",
      "metadata": {
        "id": "2XooE9RxHdvV",
        "colab_type": "text"
      },
      "source": [
        "# Precision vs. Recal curve"
      ]
    },
    {
      "cell_type": "markdown",
      "metadata": {
        "id": "vyxYg_6-HlGS",
        "colab_type": "text"
      },
      "source": [
        "This curve is used to show the corresponding values of precisions and recalls for different threshhold in a learning model"
      ]
    },
    {
      "cell_type": "code",
      "metadata": {
        "id": "flumaT30wQUw",
        "colab_type": "code",
        "colab": {
          "base_uri": "https://localhost:8080/",
          "height": 440
        },
        "outputId": "38090f32-0da1-4899-dd7b-8e297c612646"
      },
      "source": [
        "\n",
        "precision_recall = trainingSummary.pr.toPandas()\n",
        "\n",
        "fig, ax = plt.subplots(1, 1, figsize=(8,6))\n",
        "_ = sns.lineplot(x=precision_recall['recall'], y=precision_recall['precision'], marker=\"s\", axes=ax)\n",
        "_ = ax.set_xlabel(\"Recall\", labelpad=20)\n",
        "_ = ax.set_ylabel(\"Precision\", labelpad=20)\n",
        "_ = ax.set_title(\"Precision vs. Recall\")"
      ],
      "execution_count": null,
      "outputs": [
        {
          "output_type": "display_data",
          "data": {
            "image/png": "[encoded data removed]",
            "text/plain": [
              "<Figure size 576x432 with 1 Axes>"
            ]
          },
          "metadata": {
            "tags": []
          }
        }
      ]
    },
    {
      "cell_type": "markdown",
      "metadata": {
        "id": "47adlKT6HyRF",
        "colab_type": "text"
      },
      "source": [
        "# Roc curve"
      ]
    },
    {
      "cell_type": "markdown",
      "metadata": {
        "id": "Kt_91SZ8H0XQ",
        "colab_type": "text"
      },
      "source": [
        "This curve is used to show the corresponding values of TPR and FPR for different threshhold in a learning model\n"
      ]
    },
    {
      "cell_type": "code",
      "metadata": {
        "id": "HGD-97eDw6Nm",
        "colab_type": "code",
        "colab": {
          "base_uri": "https://localhost:8080/",
          "height": 440
        },
        "outputId": "f35fc1f6-2f15-4e26-f9a8-b9af25eb92ac"
      },
      "source": [
        "roc = trainingSummary.roc.toPandas()\n",
        "\n",
        "fig, ax = plt.subplots(1, 1, figsize=(8,6))\n",
        "_ = sns.lineplot(x=roc['FPR'], y=roc['TPR'], marker=\"s\", axes=ax)\n",
        "_ = ax.set_xlabel(\"False Positive Rate\", labelpad=20)\n",
        "_ = ax.set_ylabel(\"True Positive Rate\", labelpad=20)\n",
        "_ = ax.set_title(\"ROC Curve\")"
      ],
      "execution_count": null,
      "outputs": [
        {
          "output_type": "display_data",
          "data": {
            "image/png": "[encoded data removed]",
            "text/plain": [
              "<Figure size 576x432 with 1 Axes>"
            ]
          },
          "metadata": {
            "tags": []
          }
        }
      ]
    },
    {
      "cell_type": "markdown",
      "metadata": {
        "id": "k3dnUQ8QH_9h",
        "colab_type": "text"
      },
      "source": [
        "# Evaluation on train set"
      ]
    },
    {
      "cell_type": "markdown",
      "metadata": {
        "id": "gQtzEPN_II-5",
        "colab_type": "text"
      },
      "source": [
        "area under roc and pr curve for the train data"
      ]
    },
    {
      "cell_type": "code",
      "metadata": {
        "id": "gXRu2bLgamzx",
        "colab_type": "code",
        "colab": {
          "base_uri": "https://localhost:8080/",
          "height": 50
        },
        "outputId": "8b681327-ed77-4d6c-fdd9-b1017f190e27"
      },
      "source": [
        "# Accuracy of model\n",
        "print(\"areaUnderROC: \" + str(trainingSummary.areaUnderROC))\n",
        "print(\"Train accuracy: \" + str(trainingSummary.accuracy))"
      ],
      "execution_count": null,
      "outputs": [
        {
          "output_type": "stream",
          "text": [
            "areaUnderROC: 0.9976249209220874\n",
            "Train accuracy: 0.9808684436801376\n"
          ],
          "name": "stdout"
        }
      ]
    },
    {
      "cell_type": "markdown",
      "metadata": {
        "id": "B4oM4zHFIRJx",
        "colab_type": "text"
      },
      "source": [
        "# Make predictions on test data"
      ]
    },
    {
      "cell_type": "code",
      "metadata": {
        "id": "j62cW8DnaqV0",
        "colab_type": "code",
        "colab": {
          "base_uri": "https://localhost:8080/",
          "height": 450
        },
        "outputId": "06a65019-3941-4146-f047-984c3da3f307"
      },
      "source": [
        "# Make predictions on test data\n",
        "predictionsLRA = LRAModel.transform(test_data)\n",
        "#Show the result of prediction\n",
        "predictionsLRA.show()"
      ],
      "execution_count": null,
      "outputs": [
        {
          "output_type": "stream",
          "text": [
            "+--------------------+-----+--------------------+--------------------+----------+\n",
            "|            features|label|       rawPrediction|         probability|prediction|\n",
            "+--------------------+-----+--------------------+--------------------+----------+\n",
            "|[0.10758699,0.103...|    1|[0.49042122627139...|[0.62020565746669...|       0.0|\n",
            "|[0.142218998,0.14...|    1|[-3.9915569906434...|[0.01813594483449...|       1.0|\n",
            "|[0.149457479,0.15...|    1|[-27.204280114047...|[1.53225575896671...|       1.0|\n",
            "|[0.077429615,0.09...|    1|[-19.769471243622...|[2.59554000849526...|       1.0|\n",
            "|[0.026559946,0.02...|    1|[-22.596516627099...|[1.53623451588977...|       1.0|\n",
            "|[0.056112199,0.05...|    1|[-18.343840791878...|[1.07986922006946...|       1.0|\n",
            "|[0.018805755,0.01...|    1|[-7.7433973437238...|[4.33408071334676...|       1.0|\n",
            "|[0.01200770600000...|    0|[-9.7348592161586...|[5.91805037765437...|       1.0|\n",
            "|[0.03983736,0.044...|    1|[-40.726805010026...|[2.05387173655134...|       1.0|\n",
            "|[0.02359132899999...|    0|[-5.3034050105244...|[0.00495000197043...|       1.0|\n",
            "|[0.03016278399999...|    0|[-19.520444808667...|[3.32949627888823...|       1.0|\n",
            "|[0.02701085299999...|    1|[-20.703273297518...|[1.02019372772848...|       1.0|\n",
            "|[0.02637548399999...|    0|[36.0946261847336...|[0.99999999999999...|       0.0|\n",
            "|[0.062411247,0.06...|    0|[39.2703899723063...|[1.0,8.8122403298...|       0.0|\n",
            "|[0.034572167,0.03...|    0|[29.3849985433419...|[0.99999999999982...|       0.0|\n",
            "|[0.012112565,0.01...|    1|[-12.809609220606...|[2.73436327619306...|       1.0|\n",
            "|[0.018173991,0.02...|    1|[0.24195325829256...|[0.56019494277909...|       0.0|\n",
            "|[0.03308356100000...|    0|[35.2913074275233...|[0.99999999999999...|       0.0|\n",
            "|[0.038817011,0.03...|    0|[-2.8325533595784...|[0.05559019453001...|       1.0|\n",
            "|[0.02162420700000...|    0|[-17.991646521287...|[1.53577356817703...|       1.0|\n",
            "+--------------------+-----+--------------------+--------------------+----------+\n",
            "only showing top 20 rows\n",
            "\n"
          ],
          "name": "stdout"
        }
      ]
    },
    {
      "cell_type": "markdown",
      "metadata": {
        "id": "nB9_dqpvIkvH",
        "colab_type": "text"
      },
      "source": [
        "# Evaluation"
      ]
    },
    {
      "cell_type": "markdown",
      "metadata": {
        "id": "3Y8KCadMIp4l",
        "colab_type": "text"
      },
      "source": [
        "Here we measure Area under ROC Curve and Area under PR Curve of the logistic regression Classifier on the test set using BinaryClassificationEvaluator."
      ]
    },
    {
      "cell_type": "code",
      "metadata": {
        "id": "pV8mXA-wa4Bw",
        "colab_type": "code",
        "colab": {
          "base_uri": "https://localhost:8080/",
          "height": 67
        },
        "outputId": "e1bb1715-2af7-461d-fe4e-357d0b4c1879"
      },
      "source": [
        "# Accuracy on test data by normal\n",
        "from pyspark.ml.evaluation import BinaryClassificationEvaluator\n",
        "evaluatorLRA = BinaryClassificationEvaluator()\n",
        "print('Test Area Under ROC', evaluatorLRA.evaluate(predictionsLRA))\n",
        "# We have only two choices: area under ROC and PR curves :-(\n",
        "auroc = evaluatorLRA.evaluate(predictionsLRA, {evaluatorLRA.metricName: \"areaUnderROC\"})\n",
        "auprc = evaluatorLRA.evaluate(predictionsLRA, {evaluatorLRA.metricName: \"areaUnderPR\"})\n",
        "evaluatorLRA.metricName=\"\"\n",
        "print(\"Area under ROC Curve: {:.4f}\".format(auroc))\n",
        "print(\"Area under PR Curve: {:.4f}\".format(auprc)) "
      ],
      "execution_count": null,
      "outputs": [
        {
          "output_type": "stream",
          "text": [
            "Test Area Under ROC 0.8892260488754324\n",
            "Area under ROC Curve: 0.8892\n",
            "Area under PR Curve: 0.8922\n"
          ],
          "name": "stdout"
        }
      ]
    },
    {
      "cell_type": "markdown",
      "metadata": {
        "id": "-lQbMDCfI9gt",
        "colab_type": "text"
      },
      "source": [
        "Unfortunately, BinaryClassificationEvaluator just provides Area under ROC Curve and Area under PR Curve for evaluation. Therefore we will use handy pyspark for more evaluation information. So we transfer data to handy spark framework"
      ]
    },
    {
      "cell_type": "code",
      "metadata": {
        "id": "irtwegQHcRel",
        "colab_type": "code",
        "colab": {
          "base_uri": "https://localhost:8080/",
          "height": 407
        },
        "outputId": "305e1619-3c91-422e-c07e-0f8a487e3eb5"
      },
      "source": [
        "predictionsLRA.toHandy().cols[['probability', 'prediction', 'label']][:1088]"
      ],
      "execution_count": null,
      "outputs": [
        {
          "output_type": "execute_result",
          "data": {
            "text/html": [
              "<div>\n",
              "<style scoped>\n",
              "    .dataframe tbody tr th:only-of-type {\n",
              "        vertical-align: middle;\n",
              "    }\n",
              "\n",
              "    .dataframe tbody tr th {\n",
              "        vertical-align: top;\n",
              "    }\n",
              "\n",
              "    .dataframe thead th {\n",
              "        text-align: right;\n",
              "    }\n",
              "</style>\n",
              "<table border=\"1\" class=\"dataframe\">\n",
              "  <thead>\n",
              "    <tr style=\"text-align: right;\">\n",
              "      <th></th>\n",
              "      <th>probability</th>\n",
              "      <th>prediction</th>\n",
              "      <th>label</th>\n",
              "    </tr>\n",
              "  </thead>\n",
              "  <tbody>\n",
              "    <tr>\n",
              "      <th>0</th>\n",
              "      <td>[0.6202056574666918, 0.3797943425333083]</td>\n",
              "      <td>0.0</td>\n",
              "      <td>1</td>\n",
              "    </tr>\n",
              "    <tr>\n",
              "      <th>1</th>\n",
              "      <td>[0.018135944834498263, 0.9818640551655018]</td>\n",
              "      <td>1.0</td>\n",
              "      <td>1</td>\n",
              "    </tr>\n",
              "    <tr>\n",
              "      <th>2</th>\n",
              "      <td>[1.5322557589667174e-12, 0.9999999999984677]</td>\n",
              "      <td>1.0</td>\n",
              "      <td>1</td>\n",
              "    </tr>\n",
              "    <tr>\n",
              "      <th>3</th>\n",
              "      <td>[2.5955400084952606e-09, 0.99999999740446]</td>\n",
              "      <td>1.0</td>\n",
              "      <td>1</td>\n",
              "    </tr>\n",
              "    <tr>\n",
              "      <th>4</th>\n",
              "      <td>[1.5362345158897717e-10, 0.9999999998463764]</td>\n",
              "      <td>1.0</td>\n",
              "      <td>1</td>\n",
              "    </tr>\n",
              "    <tr>\n",
              "      <th>...</th>\n",
              "      <td>...</td>\n",
              "      <td>...</td>\n",
              "      <td>...</td>\n",
              "    </tr>\n",
              "    <tr>\n",
              "      <th>1083</th>\n",
              "      <td>[1.0, 4.848949802819404e-21]</td>\n",
              "      <td>0.0</td>\n",
              "      <td>0</td>\n",
              "    </tr>\n",
              "    <tr>\n",
              "      <th>1084</th>\n",
              "      <td>[5.269017305836717e-10, 0.9999999994730984]</td>\n",
              "      <td>1.0</td>\n",
              "      <td>1</td>\n",
              "    </tr>\n",
              "    <tr>\n",
              "      <th>1085</th>\n",
              "      <td>[0.9999696311353089, 3.0368864691048176e-05]</td>\n",
              "      <td>0.0</td>\n",
              "      <td>0</td>\n",
              "    </tr>\n",
              "    <tr>\n",
              "      <th>1086</th>\n",
              "      <td>[0.9994155901078571, 0.0005844098921428268]</td>\n",
              "      <td>0.0</td>\n",
              "      <td>0</td>\n",
              "    </tr>\n",
              "    <tr>\n",
              "      <th>1087</th>\n",
              "      <td>[2.4663407231655467e-07, 0.9999997533659277]</td>\n",
              "      <td>1.0</td>\n",
              "      <td>0</td>\n",
              "    </tr>\n",
              "  </tbody>\n",
              "</table>\n",
              "<p>1088 rows × 3 columns</p>\n",
              "</div>"
            ],
            "text/plain": [
              "                                       probability  prediction  label\n",
              "0         [0.6202056574666918, 0.3797943425333083]         0.0      1\n",
              "1       [0.018135944834498263, 0.9818640551655018]         1.0      1\n",
              "2     [1.5322557589667174e-12, 0.9999999999984677]         1.0      1\n",
              "3       [2.5955400084952606e-09, 0.99999999740446]         1.0      1\n",
              "4     [1.5362345158897717e-10, 0.9999999998463764]         1.0      1\n",
              "...                                            ...         ...    ...\n",
              "1083                  [1.0, 4.848949802819404e-21]         0.0      0\n",
              "1084   [5.269017305836717e-10, 0.9999999994730984]         1.0      1\n",
              "1085  [0.9999696311353089, 3.0368864691048176e-05]         0.0      0\n",
              "1086   [0.9994155901078571, 0.0005844098921428268]         0.0      0\n",
              "1087  [2.4663407231655467e-07, 0.9999997533659277]         1.0      0\n",
              "\n",
              "[1088 rows x 3 columns]"
            ]
          },
          "metadata": {
            "tags": []
          },
          "execution_count": 71
        }
      ]
    },
    {
      "cell_type": "markdown",
      "metadata": {
        "id": "pLIaQI0SJNod",
        "colab_type": "text"
      },
      "source": [
        "Here we measure Area under ROC Curve and Area under PR Curve of the Multilayer Perceptron Classifier on the test set using BinaryClassificationMetrics. We also plot the confusion matrix and ROC and PR curve."
      ]
    },
    {
      "cell_type": "code",
      "metadata": {
        "id": "Hw0DzFf4cj61",
        "colab_type": "code",
        "colab": {
          "base_uri": "https://localhost:8080/",
          "height": 441
        },
        "outputId": "b242f961-935f-446b-995c-0e60d624feba"
      },
      "source": [
        "# Accuracy on test data by handy pyspark\n",
        "from matplotlib import pyplot as plt\n",
        "bcmLRA = BinaryClassificationMetrics(predictionsLRA, scoreCol='probability', labelCol='label')\n",
        "# We still can get the same metrics as the evaluator...\n",
        "print(\"Area under ROC Curve: {:.4f}\".format(bcmLRA.areaUnderROC))\n",
        "print(\"Area under PR Curve: {:.4f}\".format(bcmLRA.areaUnderPR))\n",
        "# But now we can PLOT both ROC and PR curves!\n",
        "fig, axs = plt.subplots(1, 2, figsize=(12, 4))\n",
        "bcmLRA.plot_roc_curve(ax=axs[0])\n",
        "bcmLRA.plot_pr_curve(ax=axs[1])\n",
        "\n",
        "# And get the confusion matrix for any threshold we want\n",
        "bcmLRA.print_confusion_matrix()"
      ],
      "execution_count": null,
      "outputs": [
        {
          "output_type": "stream",
          "text": [
            "Area under ROC Curve: 0.8892\n",
            "Area under PR Curve: 0.8922\n"
          ],
          "name": "stdout"
        },
        {
          "output_type": "execute_result",
          "data": {
            "text/html": [
              "<div>\n",
              "<style scoped>\n",
              "    .dataframe tbody tr th:only-of-type {\n",
              "        vertical-align: middle;\n",
              "    }\n",
              "\n",
              "    .dataframe tbody tr th {\n",
              "        vertical-align: top;\n",
              "    }\n",
              "\n",
              "    .dataframe thead tr th {\n",
              "        text-align: left;\n",
              "    }\n",
              "</style>\n",
              "<table border=\"1\" class=\"dataframe\">\n",
              "  <thead>\n",
              "    <tr>\n",
              "      <th></th>\n",
              "      <th></th>\n",
              "      <th colspan=\"2\" halign=\"left\">Predicted</th>\n",
              "    </tr>\n",
              "    <tr>\n",
              "      <th></th>\n",
              "      <th></th>\n",
              "      <th>0</th>\n",
              "      <th>1</th>\n",
              "    </tr>\n",
              "  </thead>\n",
              "  <tbody>\n",
              "    <tr>\n",
              "      <th rowspan=\"2\" valign=\"top\">Actual</th>\n",
              "      <th>0</th>\n",
              "      <td>389.0</td>\n",
              "      <td>155.0</td>\n",
              "    </tr>\n",
              "    <tr>\n",
              "      <th>1</th>\n",
              "      <td>74.0</td>\n",
              "      <td>470.0</td>\n",
              "    </tr>\n",
              "  </tbody>\n",
              "</table>\n",
              "</div>"
            ],
            "text/plain": [
              "         Predicted       \n",
              "                 0      1\n",
              "Actual 0     389.0  155.0\n",
              "       1      74.0  470.0"
            ]
          },
          "metadata": {
            "tags": []
          },
          "execution_count": 72
        },
        {
          "output_type": "display_data",
          "data": {
            "image/png": "[encoded data removed]",
            "text/plain": [
              "<Figure size 864x288 with 2 Axes>"
            ]
          },
          "metadata": {
            "tags": []
          }
        }
      ]
    },
    {
      "cell_type": "markdown",
      "metadata": {
        "id": "F50NruohI0h-",
        "colab_type": "text"
      },
      "source": [
        "Here we measure the acuracy of the model by using MulticlassClassificationEvaluator"
      ]
    },
    {
      "cell_type": "code",
      "metadata": {
        "id": "uKSGfEeP76QZ",
        "colab_type": "code",
        "colab": {
          "base_uri": "https://localhost:8080/",
          "height": 50
        },
        "outputId": "f522c56c-29f7-495b-85ee-d40d7b2adaa9"
      },
      "source": [
        "# obtain evaluator.\n",
        "evaluator14 = MulticlassClassificationEvaluator(metricName=\"accuracy\")\n",
        "\n",
        "# compute the classification error on test data.\n",
        "accuracy14 = evaluator14.evaluate(predictionsLRA)\n",
        "print(\"Test Error = %g\" % (1-accuracy14))\n",
        "print(\"Test Accuracy = %g\" % (accuracy14))"
      ],
      "execution_count": null,
      "outputs": [
        {
          "output_type": "stream",
          "text": [
            "Test Error = 0.210478\n",
            "Test Accuracy = 0.789522\n"
          ],
          "name": "stdout"
        }
      ]
    },
    {
      "cell_type": "markdown",
      "metadata": {
        "id": "xkorcQd_JS1T",
        "colab_type": "text"
      },
      "source": [
        "Here we calculate TPR, TNR, FPR, FNR of our mode by using built in functions"
      ]
    },
    {
      "cell_type": "code",
      "metadata": {
        "id": "DckrFwOCfHDN",
        "colab_type": "code",
        "colab": {}
      },
      "source": [
        "true_pos=predictionsLRA.filter(predictionsLRA['label']==1).filter(predictionsLRA['prediction']==1).count()\n",
        "false_pos=predictionsLRA.filter(predictionsLRA['label']==0).filter(predictionsLRA['prediction']==1).count()\n",
        "true_neg=predictionsLRA.filter(predictionsLRA['label']==0).filter(predictionsLRA['prediction']==0).count()\n",
        "false_neg=predictionsLRA.filter(predictionsLRA['label']==1).filter(predictionsLRA['prediction']==0).count()"
      ],
      "execution_count": null,
      "outputs": []
    },
    {
      "cell_type": "markdown",
      "metadata": {
        "id": "CoQ6zI3qJU6R",
        "colab_type": "text"
      },
      "source": [
        "Here we calculate accuracy, precision, recall, specificity, F1 score and MCC measures of our model"
      ]
    },
    {
      "cell_type": "code",
      "metadata": {
        "id": "ssLext4s7Vdp",
        "colab_type": "code",
        "colab": {}
      },
      "source": [
        "Accuracy=(true_pos+true_neg)/(true_pos+true_neg+false_pos+false_neg)\n",
        "Precision=true_pos/(true_pos+false_pos)\n",
        "Recall=true_pos/(true_pos+false_neg)\n",
        "Specificity=true_neg/(true_neg+false_pos)\n",
        "F1score=(2*Precision*Recall)/(Precision+Recall)\n",
        "MCC=(true_pos*true_neg-false_neg*false_pos)/math.sqrt((true_pos+false_pos)*(true_pos+false_neg)*(true_neg+false_pos)*(true_neg+false_neg))"
      ],
      "execution_count": null,
      "outputs": []
    },
    {
      "cell_type": "code",
      "metadata": {
        "id": "9b4qw6HFzp9M",
        "colab_type": "code",
        "colab": {
          "base_uri": "https://localhost:8080/",
          "height": 183
        },
        "outputId": "b3b753de-c0c2-46e4-db9e-461cd9dd4379"
      },
      "source": [
        "print(\"True Positive Value: {:.0f}\".format(true_pos))\n",
        "print(\"False Positive Value: {:.0f}\".format(false_pos))\n",
        "print(\"True Negative Value: {:.0f}\".format(true_neg))\n",
        "print(\"False Negative Value: {:.0f}\".format(false_neg))\n",
        "print(\"Accuracy Measure: {:.4f}\".format(Accuracy))\n",
        "print(\"Precision Measure: {:.4f}\".format(Precision))\n",
        "print(\"Recall Measure: {:.4f}\".format(Recall))\n",
        "print(\"Specificity Measure: {:.4f}\".format(Specificity))\n",
        "print(\"F1score Measure: {:.4f}\".format(F1score))\n",
        "print(\"MCC Measure: {:.4f}\".format(MCC))"
      ],
      "execution_count": null,
      "outputs": [
        {
          "output_type": "stream",
          "text": [
            "True Positive Value: 470\n",
            "False Positive Value: 155\n",
            "True Negative Value: 389\n",
            "False Negative Value: 74\n",
            "Accuracy Measure: 0.7895\n",
            "Precision Measure: 0.7520\n",
            "Recall Measure: 0.8640\n",
            "Specificity Measure: 0.7151\n",
            "F1score Measure: 0.8041\n",
            "MCC Measure: 0.5856\n"
          ],
          "name": "stdout"
        }
      ]
    },
    {
      "cell_type": "markdown",
      "metadata": {
        "id": "ZSxAXA2RZlNm",
        "colab_type": "text"
      },
      "source": [
        "![alt text](https://images.ctfassets.net/be04ylp8y0qc/4LbV7b6tEVlHROxHevpy2K/4ff835465f0a106104a79eaf17ca189c/1_P36a5xEr_C3fjcJU69yYmg.png?fm=jpg)"
      ]
    },
    {
      "cell_type": "markdown",
      "metadata": {
        "id": "hoCrAuPINz-C",
        "colab_type": "text"
      },
      "source": [
        "# **Hyper parameter tunning on logistic regression**"
      ]
    },
    {
      "cell_type": "markdown",
      "metadata": {
        "id": "gkw-QsEoN82X",
        "colab_type": "text"
      },
      "source": [
        "# Train model with defferent hyper paremeters on train set"
      ]
    },
    {
      "cell_type": "code",
      "metadata": {
        "id": "aSfpyKyWxP8H",
        "colab_type": "code",
        "colab": {}
      },
      "source": [
        "# Define raw model\n",
        "log_reg_LR = LogisticRegression(labelCol=\"label\", featuresCol=\"features\", maxIter=100)\n",
        "# Grid search on hyper parameters(regParam, elasticNetParam)\n",
        "param_grid_LR = ParamGridBuilder()\\\n",
        ".addGrid(log_reg_LR.regParam, [0.0, 0.05, 0.1]) \\\n",
        ".addGrid(log_reg_LR.elasticNetParam, [0.0, 0.5, 1.0]) \\\n",
        ".build()\n",
        "# Set crossValidator parameters\n",
        "cross_val_LR = CrossValidator(estimator=log_reg_LR, \n",
        "                               estimatorParamMaps=param_grid_LR,\n",
        "                               evaluator=BinaryClassificationEvaluator(metricName=\"areaUnderROC\"), # default = \"areaUnderROC\", alternatively \"areaUnderPR\"\n",
        "                               numFolds=3,\n",
        "                               collectSubModels=True # this flag allows us to store ALL the models trained during k-fold cross validation\n",
        "                               )\n",
        "# Run cross-validation, and choose the best set of parameters.\n",
        "cv_model_LR = cross_val_LR.fit(train_data)"
      ],
      "execution_count": null,
      "outputs": []
    },
    {
      "cell_type": "markdown",
      "metadata": {
        "id": "4qw-7AsnOpoi",
        "colab_type": "text"
      },
      "source": [
        "# Summary of different models"
      ]
    },
    {
      "cell_type": "code",
      "metadata": {
        "id": "SqAw2Vu-20v8",
        "colab_type": "code",
        "colab": {
          "base_uri": "https://localhost:8080/",
          "height": 467
        },
        "outputId": "daaf21d2-0b9c-4514-a3f4-c9b85300725c"
      },
      "source": [
        "cv_model_LR.subModels"
      ],
      "execution_count": null,
      "outputs": [
        {
          "output_type": "execute_result",
          "data": {
            "text/plain": [
              "[[LogisticRegressionModel: uid = LogisticRegression_d14b00e5fa55, numClasses = 2, numFeatures = 7308,\n",
              "  LogisticRegressionModel: uid = LogisticRegression_d14b00e5fa55, numClasses = 2, numFeatures = 7308,\n",
              "  LogisticRegressionModel: uid = LogisticRegression_d14b00e5fa55, numClasses = 2, numFeatures = 7308,\n",
              "  LogisticRegressionModel: uid = LogisticRegression_d14b00e5fa55, numClasses = 2, numFeatures = 7308,\n",
              "  LogisticRegressionModel: uid = LogisticRegression_d14b00e5fa55, numClasses = 2, numFeatures = 7308,\n",
              "  LogisticRegressionModel: uid = LogisticRegression_d14b00e5fa55, numClasses = 2, numFeatures = 7308,\n",
              "  LogisticRegressionModel: uid = LogisticRegression_d14b00e5fa55, numClasses = 2, numFeatures = 7308,\n",
              "  LogisticRegressionModel: uid = LogisticRegression_d14b00e5fa55, numClasses = 2, numFeatures = 7308,\n",
              "  LogisticRegressionModel: uid = LogisticRegression_d14b00e5fa55, numClasses = 2, numFeatures = 7308],\n",
              " [LogisticRegressionModel: uid = LogisticRegression_d14b00e5fa55, numClasses = 2, numFeatures = 7308,\n",
              "  LogisticRegressionModel: uid = LogisticRegression_d14b00e5fa55, numClasses = 2, numFeatures = 7308,\n",
              "  LogisticRegressionModel: uid = LogisticRegression_d14b00e5fa55, numClasses = 2, numFeatures = 7308,\n",
              "  LogisticRegressionModel: uid = LogisticRegression_d14b00e5fa55, numClasses = 2, numFeatures = 7308,\n",
              "  LogisticRegressionModel: uid = LogisticRegression_d14b00e5fa55, numClasses = 2, numFeatures = 7308,\n",
              "  LogisticRegressionModel: uid = LogisticRegression_d14b00e5fa55, numClasses = 2, numFeatures = 7308,\n",
              "  LogisticRegressionModel: uid = LogisticRegression_d14b00e5fa55, numClasses = 2, numFeatures = 7308,\n",
              "  LogisticRegressionModel: uid = LogisticRegression_d14b00e5fa55, numClasses = 2, numFeatures = 7308,\n",
              "  LogisticRegressionModel: uid = LogisticRegression_d14b00e5fa55, numClasses = 2, numFeatures = 7308],\n",
              " [LogisticRegressionModel: uid = LogisticRegression_d14b00e5fa55, numClasses = 2, numFeatures = 7308,\n",
              "  LogisticRegressionModel: uid = LogisticRegression_d14b00e5fa55, numClasses = 2, numFeatures = 7308,\n",
              "  LogisticRegressionModel: uid = LogisticRegression_d14b00e5fa55, numClasses = 2, numFeatures = 7308,\n",
              "  LogisticRegressionModel: uid = LogisticRegression_d14b00e5fa55, numClasses = 2, numFeatures = 7308,\n",
              "  LogisticRegressionModel: uid = LogisticRegression_d14b00e5fa55, numClasses = 2, numFeatures = 7308,\n",
              "  LogisticRegressionModel: uid = LogisticRegression_d14b00e5fa55, numClasses = 2, numFeatures = 7308,\n",
              "  LogisticRegressionModel: uid = LogisticRegression_d14b00e5fa55, numClasses = 2, numFeatures = 7308,\n",
              "  LogisticRegressionModel: uid = LogisticRegression_d14b00e5fa55, numClasses = 2, numFeatures = 7308,\n",
              "  LogisticRegressionModel: uid = LogisticRegression_d14b00e5fa55, numClasses = 2, numFeatures = 7308]]"
            ]
          },
          "metadata": {
            "tags": []
          },
          "execution_count": 20
        }
      ]
    },
    {
      "cell_type": "code",
      "metadata": {
        "id": "Q0ISrVmVxuMC",
        "colab_type": "code",
        "colab": {}
      },
      "source": [
        "# This function summarizes all the models trained during k-fold cross validation\n",
        "def summarize_all_models(cv_models):\n",
        "    for k, models in enumerate(cv_models):\n",
        "        print(\"*************** Fold #{:d} ***************\\n\".format(k+1))\n",
        "        for i, m in enumerate(models):\n",
        "            print(\"--- Model #{:d} out of {:d} ---\".format(i+1, len(models)))\n",
        "            print(\"\\tParameters: lambda=[{:.3f}]; alpha=[{:.3f}] \".format(m._java_obj.getRegParam(), m._java_obj.getElasticNetParam()))\n",
        "            print(\"\\tModel summary: {}\\n\".format(m))\n",
        "        print(\"***************************************\\n\")"
      ],
      "execution_count": null,
      "outputs": []
    },
    {
      "cell_type": "code",
      "metadata": {
        "id": "XH9GzWgczjOi",
        "colab_type": "code",
        "colab": {
          "base_uri": "https://localhost:8080/",
          "height": 1000
        },
        "outputId": "b960edfe-b9ee-4e33-8281-67ebf96153af"
      },
      "source": [
        "# Call the function above|\n",
        "summarize_all_models(cv_model_LR.subModels)"
      ],
      "execution_count": null,
      "outputs": [
        {
          "output_type": "stream",
          "text": [
            "*************** Fold #1 ***************\n",
            "\n",
            "--- Model #1 out of 9 ---\n",
            "\tParameters: lambda=[0.000]; alpha=[0.000] \n",
            "\tModel summary: LogisticRegressionModel: uid = LogisticRegression_d14b00e5fa55, numClasses = 2, numFeatures = 7308\n",
            "\n",
            "--- Model #2 out of 9 ---\n",
            "\tParameters: lambda=[0.000]; alpha=[0.500] \n",
            "\tModel summary: LogisticRegressionModel: uid = LogisticRegression_d14b00e5fa55, numClasses = 2, numFeatures = 7308\n",
            "\n",
            "--- Model #3 out of 9 ---\n",
            "\tParameters: lambda=[0.000]; alpha=[1.000] \n",
            "\tModel summary: LogisticRegressionModel: uid = LogisticRegression_d14b00e5fa55, numClasses = 2, numFeatures = 7308\n",
            "\n",
            "--- Model #4 out of 9 ---\n",
            "\tParameters: lambda=[0.050]; alpha=[0.000] \n",
            "\tModel summary: LogisticRegressionModel: uid = LogisticRegression_d14b00e5fa55, numClasses = 2, numFeatures = 7308\n",
            "\n",
            "--- Model #5 out of 9 ---\n",
            "\tParameters: lambda=[0.050]; alpha=[0.500] \n",
            "\tModel summary: LogisticRegressionModel: uid = LogisticRegression_d14b00e5fa55, numClasses = 2, numFeatures = 7308\n",
            "\n",
            "--- Model #6 out of 9 ---\n",
            "\tParameters: lambda=[0.050]; alpha=[1.000] \n",
            "\tModel summary: LogisticRegressionModel: uid = LogisticRegression_d14b00e5fa55, numClasses = 2, numFeatures = 7308\n",
            "\n",
            "--- Model #7 out of 9 ---\n",
            "\tParameters: lambda=[0.100]; alpha=[0.000] \n",
            "\tModel summary: LogisticRegressionModel: uid = LogisticRegression_d14b00e5fa55, numClasses = 2, numFeatures = 7308\n",
            "\n",
            "--- Model #8 out of 9 ---\n",
            "\tParameters: lambda=[0.100]; alpha=[0.500] \n",
            "\tModel summary: LogisticRegressionModel: uid = LogisticRegression_d14b00e5fa55, numClasses = 2, numFeatures = 7308\n",
            "\n",
            "--- Model #9 out of 9 ---\n",
            "\tParameters: lambda=[0.100]; alpha=[1.000] \n",
            "\tModel summary: LogisticRegressionModel: uid = LogisticRegression_d14b00e5fa55, numClasses = 2, numFeatures = 7308\n",
            "\n",
            "***************************************\n",
            "\n",
            "*************** Fold #2 ***************\n",
            "\n",
            "--- Model #1 out of 9 ---\n",
            "\tParameters: lambda=[0.000]; alpha=[0.000] \n",
            "\tModel summary: LogisticRegressionModel: uid = LogisticRegression_d14b00e5fa55, numClasses = 2, numFeatures = 7308\n",
            "\n",
            "--- Model #2 out of 9 ---\n",
            "\tParameters: lambda=[0.000]; alpha=[0.500] \n",
            "\tModel summary: LogisticRegressionModel: uid = LogisticRegression_d14b00e5fa55, numClasses = 2, numFeatures = 7308\n",
            "\n",
            "--- Model #3 out of 9 ---\n",
            "\tParameters: lambda=[0.000]; alpha=[1.000] \n",
            "\tModel summary: LogisticRegressionModel: uid = LogisticRegression_d14b00e5fa55, numClasses = 2, numFeatures = 7308\n",
            "\n",
            "--- Model #4 out of 9 ---\n",
            "\tParameters: lambda=[0.050]; alpha=[0.000] \n",
            "\tModel summary: LogisticRegressionModel: uid = LogisticRegression_d14b00e5fa55, numClasses = 2, numFeatures = 7308\n",
            "\n",
            "--- Model #5 out of 9 ---\n",
            "\tParameters: lambda=[0.050]; alpha=[0.500] \n",
            "\tModel summary: LogisticRegressionModel: uid = LogisticRegression_d14b00e5fa55, numClasses = 2, numFeatures = 7308\n",
            "\n",
            "--- Model #6 out of 9 ---\n",
            "\tParameters: lambda=[0.050]; alpha=[1.000] \n",
            "\tModel summary: LogisticRegressionModel: uid = LogisticRegression_d14b00e5fa55, numClasses = 2, numFeatures = 7308\n",
            "\n",
            "--- Model #7 out of 9 ---\n",
            "\tParameters: lambda=[0.100]; alpha=[0.000] \n",
            "\tModel summary: LogisticRegressionModel: uid = LogisticRegression_d14b00e5fa55, numClasses = 2, numFeatures = 7308\n",
            "\n",
            "--- Model #8 out of 9 ---\n",
            "\tParameters: lambda=[0.100]; alpha=[0.500] \n",
            "\tModel summary: LogisticRegressionModel: uid = LogisticRegression_d14b00e5fa55, numClasses = 2, numFeatures = 7308\n",
            "\n",
            "--- Model #9 out of 9 ---\n",
            "\tParameters: lambda=[0.100]; alpha=[1.000] \n",
            "\tModel summary: LogisticRegressionModel: uid = LogisticRegression_d14b00e5fa55, numClasses = 2, numFeatures = 7308\n",
            "\n",
            "***************************************\n",
            "\n",
            "*************** Fold #3 ***************\n",
            "\n",
            "--- Model #1 out of 9 ---\n",
            "\tParameters: lambda=[0.000]; alpha=[0.000] \n",
            "\tModel summary: LogisticRegressionModel: uid = LogisticRegression_d14b00e5fa55, numClasses = 2, numFeatures = 7308\n",
            "\n",
            "--- Model #2 out of 9 ---\n",
            "\tParameters: lambda=[0.000]; alpha=[0.500] \n",
            "\tModel summary: LogisticRegressionModel: uid = LogisticRegression_d14b00e5fa55, numClasses = 2, numFeatures = 7308\n",
            "\n",
            "--- Model #3 out of 9 ---\n",
            "\tParameters: lambda=[0.000]; alpha=[1.000] \n",
            "\tModel summary: LogisticRegressionModel: uid = LogisticRegression_d14b00e5fa55, numClasses = 2, numFeatures = 7308\n",
            "\n",
            "--- Model #4 out of 9 ---\n",
            "\tParameters: lambda=[0.050]; alpha=[0.000] \n",
            "\tModel summary: LogisticRegressionModel: uid = LogisticRegression_d14b00e5fa55, numClasses = 2, numFeatures = 7308\n",
            "\n",
            "--- Model #5 out of 9 ---\n",
            "\tParameters: lambda=[0.050]; alpha=[0.500] \n",
            "\tModel summary: LogisticRegressionModel: uid = LogisticRegression_d14b00e5fa55, numClasses = 2, numFeatures = 7308\n",
            "\n",
            "--- Model #6 out of 9 ---\n",
            "\tParameters: lambda=[0.050]; alpha=[1.000] \n",
            "\tModel summary: LogisticRegressionModel: uid = LogisticRegression_d14b00e5fa55, numClasses = 2, numFeatures = 7308\n",
            "\n",
            "--- Model #7 out of 9 ---\n",
            "\tParameters: lambda=[0.100]; alpha=[0.000] \n",
            "\tModel summary: LogisticRegressionModel: uid = LogisticRegression_d14b00e5fa55, numClasses = 2, numFeatures = 7308\n",
            "\n",
            "--- Model #8 out of 9 ---\n",
            "\tParameters: lambda=[0.100]; alpha=[0.500] \n",
            "\tModel summary: LogisticRegressionModel: uid = LogisticRegression_d14b00e5fa55, numClasses = 2, numFeatures = 7308\n",
            "\n",
            "--- Model #9 out of 9 ---\n",
            "\tParameters: lambda=[0.100]; alpha=[1.000] \n",
            "\tModel summary: LogisticRegressionModel: uid = LogisticRegression_d14b00e5fa55, numClasses = 2, numFeatures = 7308\n",
            "\n",
            "***************************************\n",
            "\n"
          ],
          "name": "stdout"
        }
      ]
    },
    {
      "cell_type": "code",
      "metadata": {
        "id": "108kk3MIxuJN",
        "colab_type": "code",
        "colab": {
          "base_uri": "https://localhost:8080/",
          "height": 167
        },
        "outputId": "03801e0a-eaac-4fd1-a354-1425fba3f2ed"
      },
      "source": [
        "for i, avg_roc_auc in enumerate(cv_model_LR.avgMetrics):\n",
        "    print(\"Avg. ROC AUC computed across k-fold cross validation for model setting #{:d}: {:.3f}\".format(i+1, avg_roc_auc))"
      ],
      "execution_count": null,
      "outputs": [
        {
          "output_type": "stream",
          "text": [
            "Avg. ROC AUC computed across k-fold cross validation for model setting #1: 0.857\n",
            "Avg. ROC AUC computed across k-fold cross validation for model setting #2: 0.857\n",
            "Avg. ROC AUC computed across k-fold cross validation for model setting #3: 0.857\n",
            "Avg. ROC AUC computed across k-fold cross validation for model setting #4: 0.910\n",
            "Avg. ROC AUC computed across k-fold cross validation for model setting #5: 0.870\n",
            "Avg. ROC AUC computed across k-fold cross validation for model setting #6: 0.813\n",
            "Avg. ROC AUC computed across k-fold cross validation for model setting #7: 0.914\n",
            "Avg. ROC AUC computed across k-fold cross validation for model setting #8: 0.817\n",
            "Avg. ROC AUC computed across k-fold cross validation for model setting #9: 0.576\n"
          ],
          "name": "stdout"
        }
      ]
    },
    {
      "cell_type": "markdown",
      "metadata": {
        "id": "3P0aR84fOw8-",
        "colab_type": "text"
      },
      "source": [
        "# Best hyper parameters of the model"
      ]
    },
    {
      "cell_type": "code",
      "metadata": {
        "id": "eaHHVr9jxuGY",
        "colab_type": "code",
        "colab": {
          "base_uri": "https://localhost:8080/",
          "height": 50
        },
        "outputId": "832d51dc-7b40-4588-8ef4-ce0fb8fab913"
      },
      "source": [
        "print(\"Best model according to k-fold cross validation: lambda=[{:.3f}]; alfa=[{:.3f}]\".\n",
        "      format(cv_model_LR.bestModel._java_obj.getRegParam(), \n",
        "             cv_model_LR.bestModel._java_obj.getElasticNetParam(),\n",
        "             )\n",
        "      )\n",
        "print(cv_model_LR.bestModel)"
      ],
      "execution_count": null,
      "outputs": [
        {
          "output_type": "stream",
          "text": [
            "Best model according to k-fold cross validation: lambda=[0.100]; alfa=[0.000]\n",
            "LogisticRegressionModel: uid = LogisticRegression_d14b00e5fa55, numClasses = 2, numFeatures = 7308\n"
          ],
          "name": "stdout"
        }
      ]
    },
    {
      "cell_type": "markdown",
      "metadata": {
        "id": "L40yYoMoPEUE",
        "colab_type": "text"
      },
      "source": [
        "# Evaluating the performance of the best model on train data"
      ]
    },
    {
      "cell_type": "code",
      "metadata": {
        "id": "HMxY0FWnz10T",
        "colab_type": "code",
        "colab": {
          "base_uri": "https://localhost:8080/",
          "height": 67
        },
        "outputId": "f91a3200-2be9-421d-a178-1c4336b3737d"
      },
      "source": [
        "# `bestModel` is the best resulting model according to k-fold cross validation, which is also entirely retrained on the whole `train_df`\n",
        "training_result = cv_model_LR.bestModel.summary\n",
        "print(\"***** Training Set *****\")\n",
        "print(\"Area Under ROC Curve (ROC AUC): {:.3f}\".format(training_result.areaUnderROC))\n",
        "print(\"***** Training Set *****\")"
      ],
      "execution_count": null,
      "outputs": [
        {
          "output_type": "stream",
          "text": [
            "***** Training Set *****\n",
            "Area Under ROC Curve (ROC AUC): 0.961\n",
            "***** Training Set *****\n"
          ],
          "name": "stdout"
        }
      ]
    },
    {
      "cell_type": "markdown",
      "metadata": {
        "id": "AVcXtd48YUCP",
        "colab_type": "text"
      },
      "source": [
        "# Make predictions of the best model on test data"
      ]
    },
    {
      "cell_type": "code",
      "metadata": {
        "id": "Vmt_lR4oT4st",
        "colab_type": "code",
        "colab": {
          "base_uri": "https://localhost:8080/",
          "height": 200
        },
        "outputId": "213ade9b-d34c-411e-9056-c93cfe67a2b6"
      },
      "source": [
        "# Make predictions on test data.\n",
        "predictionLRbest = cv_model_LR.bestModel.transform(test_data)\n",
        "#Show the result of prediction\n",
        "predictionLRbest.select(\"features\", \"prediction\", \"label\").show(5)"
      ],
      "execution_count": null,
      "outputs": [
        {
          "output_type": "stream",
          "text": [
            "+--------------------+----------+-----+\n",
            "|            features|prediction|label|\n",
            "+--------------------+----------+-----+\n",
            "|[0.004757981,0.00...|       0.0|    0|\n",
            "|[0.041888067,0.04...|       1.0|    0|\n",
            "|[0.017295964,0.01...|       0.0|    0|\n",
            "|[0.008332136,0.01...|       0.0|    1|\n",
            "|[0.045176416,0.04...|       1.0|    1|\n",
            "+--------------------+----------+-----+\n",
            "only showing top 5 rows\n",
            "\n"
          ],
          "name": "stdout"
        }
      ]
    },
    {
      "cell_type": "markdown",
      "metadata": {
        "id": "JIuzR9vVY3wj",
        "colab_type": "text"
      },
      "source": [
        "# Evaluation"
      ]
    },
    {
      "cell_type": "markdown",
      "metadata": {
        "id": "xFBmzZ_lZD1d",
        "colab_type": "text"
      },
      "source": [
        "Here we measure Area under ROC Curve and Area under PR Curve of the best model of the logistic regression on the test set using BinaryClassificationEvaluator"
      ]
    },
    {
      "cell_type": "code",
      "metadata": {
        "id": "O5zjkQEVT43z",
        "colab_type": "code",
        "colab": {
          "base_uri": "https://localhost:8080/",
          "height": 50
        },
        "outputId": "abbfd069-4859-4bef-ed48-07a4ca316099"
      },
      "source": [
        "evaluatorLRbest = BinaryClassificationEvaluator(labelCol='label')\n",
        "# Area under ROC curve and precision-recal curve\n",
        "auroc = evaluatorLRbest.evaluate(predictionLRbest, {evaluatorLRbest.metricName: \"areaUnderROC\"})\n",
        "auprc = evaluatorLRbest.evaluate(predictionLRbest, {evaluatorLRbest.metricName: \"areaUnderPR\"})\n",
        "evaluatorLRbest.metricName=\"\"\n",
        "# Print the result\n",
        "print(\"Area under ROC Curve: {:.4f}\".format(auroc))\n",
        "print(\"Area under PR Curve: {:.4f}\".format(auprc))"
      ],
      "execution_count": null,
      "outputs": [
        {
          "output_type": "stream",
          "text": [
            "Area under ROC Curve: 0.9208\n",
            "Area under PR Curve: 0.9230\n"
          ],
          "name": "stdout"
        }
      ]
    },
    {
      "cell_type": "code",
      "metadata": {
        "id": "H1884PSEYvZk",
        "colab_type": "code",
        "colab": {}
      },
      "source": [
        "def evaluate_model(predictions, metric=\"areaUnderROC\"):\n",
        "    \n",
        "    from pyspark.ml.evaluation import BinaryClassificationEvaluator\n",
        "    evaluator = BinaryClassificationEvaluator(metricName=metric)\n",
        "    return evaluator.evaluate(predictions)"
      ],
      "execution_count": null,
      "outputs": []
    },
    {
      "cell_type": "code",
      "metadata": {
        "id": "8y_L_MFAYw-U",
        "colab_type": "code",
        "colab": {
          "base_uri": "https://localhost:8080/",
          "height": 83
        },
        "outputId": "b4dfeeb8-84c2-4560-af03-536f1e7b4b9a"
      },
      "source": [
        "print(\"***** Test Set *****\")\n",
        "print(\"Area Under ROC Curve (ROC AUC): {:.3f}\".format(evaluate_model(predictionLRbest)))\n",
        "print(\"Area Under Precision-Recall Curve: {:.3f}\".format(evaluate_model(predictionLRbest, metric=\"areaUnderPR\")))\n",
        "print(\"***** Test Set *****\")"
      ],
      "execution_count": null,
      "outputs": [
        {
          "output_type": "stream",
          "text": [
            "***** Test Set *****\n",
            "Area Under ROC Curve (ROC AUC): 0.921\n",
            "Area Under Precision-Recall Curve: 0.923\n",
            "***** Test Set *****\n"
          ],
          "name": "stdout"
        }
      ]
    },
    {
      "cell_type": "markdown",
      "metadata": {
        "id": "mEJWPV8VYrku",
        "colab_type": "text"
      },
      "source": [
        "Here we measure the accuracy of the model by using MulticlassClassificationEvaluator"
      ]
    },
    {
      "cell_type": "code",
      "metadata": {
        "id": "aUEBcb2fT5DR",
        "colab_type": "code",
        "colab": {
          "base_uri": "https://localhost:8080/",
          "height": 50
        },
        "outputId": "6316e704-89b9-461d-b2ae-0d75e1935658"
      },
      "source": [
        "evaluator141 = MulticlassClassificationEvaluator(metricName=\"accuracy\")\n",
        "# compute the classification error on test data.\n",
        "accuracy141 = evaluator141.evaluate(predictionLRbest)\n",
        "print(\"Test Accuracy = %g\" % (accuracy141))\n",
        "print(\"Test Error = %g\" % (1- accuracy141))"
      ],
      "execution_count": null,
      "outputs": [
        {
          "output_type": "stream",
          "text": [
            "Test Accuracy = 0.825368\n",
            "Test Error = 0.174632\n"
          ],
          "name": "stdout"
        }
      ]
    },
    {
      "cell_type": "markdown",
      "metadata": {
        "id": "LH002iDR6LFy",
        "colab_type": "text"
      },
      "source": [
        "![alt text](https://www.learnopencv.com/wp-content/uploads/2018/07/support-vector-machine-cover.jpg)"
      ]
    },
    {
      "cell_type": "markdown",
      "metadata": {
        "id": "sC7g7ZD7t3Cy",
        "colab_type": "text"
      },
      "source": [
        "# **Linear Support Vector Machine (SVM)**"
      ]
    },
    {
      "cell_type": "markdown",
      "metadata": {
        "id": "zvxD4XYBAP5s",
        "colab_type": "text"
      },
      "source": [
        "# Train the model"
      ]
    },
    {
      "cell_type": "markdown",
      "metadata": {
        "id": "H_a6D2Nq1mFw",
        "colab_type": "text"
      },
      "source": [
        "1. set classifier with 100 itterations.\n",
        "3. fit the model"
      ]
    },
    {
      "cell_type": "code",
      "metadata": {
        "id": "Affvo31WQL35",
        "colab_type": "code",
        "colab": {}
      },
      "source": [
        "# Set parameters for svm\n",
        "lsvc = LinearSVC(labelCol=\"label\", featuresCol=\"features\", maxIter=100)\n",
        "# Fit the model\n",
        "lsvcModel = lsvc.fit(train_data)"
      ],
      "execution_count": null,
      "outputs": []
    },
    {
      "cell_type": "markdown",
      "metadata": {
        "id": "WPdLeILfAsi8",
        "colab_type": "text"
      },
      "source": [
        "# Make predictions on test data\n",
        "\n"
      ]
    },
    {
      "cell_type": "markdown",
      "metadata": {
        "id": "ehNARTHq123h",
        "colab_type": "text"
      },
      "source": [
        "1. Perform the learned model to test dataset\n",
        "2. Show the label , prediction and probability of predictions on each single test set data"
      ]
    },
    {
      "cell_type": "code",
      "metadata": {
        "id": "85Vil6LnQeXd",
        "colab_type": "code",
        "colab": {
          "base_uri": "https://localhost:8080/",
          "height": 450
        },
        "outputId": "9c09f999-b037-4e71-fa62-073860f81bdc"
      },
      "source": [
        "# Make predictions on test data.\n",
        "predictionslsvc = lsvcModel.transform(test_data)\n",
        "#Show the result of prediction\n",
        "predictionslsvc.show()"
      ],
      "execution_count": null,
      "outputs": [
        {
          "output_type": "stream",
          "text": [
            "+--------------------+-----+--------------------+----------+\n",
            "|            features|label|       rawPrediction|prediction|\n",
            "+--------------------+-----+--------------------+----------+\n",
            "|[0.10758699,0.103...|    1|[-0.1777969559877...|       1.0|\n",
            "|[0.142218998,0.14...|    1|[-2.1260202488998...|       1.0|\n",
            "|[0.149457479,0.15...|    1|[-6.4108462550291...|       1.0|\n",
            "|[0.077429615,0.09...|    1|[-5.4146692774245...|       1.0|\n",
            "|[0.026559946,0.02...|    1|[-3.4388572283410...|       1.0|\n",
            "|[0.056112199,0.05...|    1|[-3.2437718045471...|       1.0|\n",
            "|[0.018805755,0.01...|    1|[-1.7711457165662...|       1.0|\n",
            "|[0.01200770600000...|    0|[1.75450824093689...|       0.0|\n",
            "|[0.03983736,0.044...|    1|[-3.2614223376822...|       1.0|\n",
            "|[0.02359132899999...|    0|[-2.0404245770184...|       1.0|\n",
            "|[0.03016278399999...|    0|[-1.5587956307107...|       1.0|\n",
            "|[0.02701085299999...|    1|[-4.0147427236675...|       1.0|\n",
            "|[0.02637548399999...|    0|[5.76818393954308...|       0.0|\n",
            "|[0.062411247,0.06...|    0|[3.81539794798171...|       0.0|\n",
            "|[0.034572167,0.03...|    0|[3.46072068296899...|       0.0|\n",
            "|[0.012112565,0.01...|    1|[-1.5644394846166...|       1.0|\n",
            "|[0.018173991,0.02...|    1|[-2.0532240310066...|       1.0|\n",
            "|[0.03308356100000...|    0|[5.49042978252981...|       0.0|\n",
            "|[0.038817011,0.03...|    0|[2.21065556537542...|       0.0|\n",
            "|[0.02162420700000...|    0|[-1.6691632742536...|       1.0|\n",
            "+--------------------+-----+--------------------+----------+\n",
            "only showing top 20 rows\n",
            "\n"
          ],
          "name": "stdout"
        }
      ]
    },
    {
      "cell_type": "markdown",
      "metadata": {
        "id": "YLjj9hMCBp4a",
        "colab_type": "text"
      },
      "source": [
        "# Coefficients and intercept of SVM"
      ]
    },
    {
      "cell_type": "code",
      "metadata": {
        "id": "8d1Tq1TSRoLo",
        "colab_type": "code",
        "colab": {
          "base_uri": "https://localhost:8080/",
          "height": 70
        },
        "outputId": "991cf82e-d84e-42c5-de05-cc299af1d103"
      },
      "source": [
        "# Print the coefficients and intercept for linear SVC\n",
        "print(\"Coefficients: \" + str(lsvcModel.coefficients))\n",
        "print(\"Intercept: \" + str(lsvcModel.intercept))"
      ],
      "execution_count": null,
      "outputs": [
        {
          "output_type": "stream",
          "text": [
            "Coefficients: [0.004520516868412036,0.005065113169052087,0.007318181549400716,0.008305022954726977,0.009224660446387783,0.009759522524084392,0.009212265447561693,0.006787003356122161,0.0001606568949061161,-0.0007234951364907037,-0.003685604555806518,-0.008096402882434075,-0.0036853870033346898,0.0009764155500333221,0.0013523856591750362,0.003946502493571024,0.007162927210213973,0.00829044779881568,0.0075538580228391,0.007011804861750872,0.006159129632889314,0.005417226141742453,0.004773253590585814,0.0023037021427526603,0.0015421719452039934,0.0009212136045730782,0.00026513061981099645,0.0,0.005294261913856826,0.005084596598359084,0.0036850051955185483,0.0033084229239796785,0.000988120949088479,-0.001457226818898075,-0.010321080526994545,-0.012307222288717367,-0.02014932384088653,-0.01871446949675345,-0.016878394317395788,-0.009663229114322039,0.0,0.0060655047690717084,0.008358425008692013,0.009644548543688734,0.010560061374439425,0.011321375792303322,0.01242453832007214,0.012512402814565466,0.011792140580286986,0.011664899578250777,0.011642231247201998,0.012382907211301935,0.012698116018457517,0.012823156384741071,0.011338920508069169,0.009893877621960829,0.008090217069563341,0.00475445200345549,-0.004247434319442604,-0.00434553020044327,0.0018975758925491944,0.004050976010989208,0.005589421465078467,0.0067855009959281835,0.008877926281405291,0.012185215816379585,0.011984973219011461,0.011599786909196759,0.011324224858213874,0.009784332367654316,0.009054300577418203,0.008824462329636316,0.00750573540516473,0.0037220721131115122,0.00176661968886326,0.0,-0.00519232392797295,-0.005411920067404105,9.716059757379614e-06,0.0060315027229542,0.009188917636079591,0.010441614319360828,0.010607419801202658,0.009933714158465407,0.008968748919769558,0.007991917558005946,0.007375891101884643,0.004971230073859919,0.005790358144810232,0.008537324588134722,0.010096237626695578,0.01183781180650171,0.012969183193604617,0.013636929495066086,0.0139451834605579,0.016732211850621057,0.026705420270234887,0.02551372511825758,0.03701808730085437,0.04631131469018263,0.08217886425611717,0.08517959495345946,0.08701929185352554,0.1726255149779527,0.2341898717972188,0.2327973492490807,0.2850644142187861,0.28658581019994156,0.173822814815535,0.13110384112446444,0.13207139944699495,0.08923223001117112,0.061034583535229246,0.043213791810333864,0.035322262676919645,0.033300199320045736,0.031988218611986,0.03141788085129481,0.040817338090244515,0.37563189436134836,0.3887899057996975,0.4026645190041377,0.41292155654523416,0.5485311842996186,0.552262492863118,0.5546895457419787,0.55648495583761,0.4299115597085322,0.4265329523644328,0.0555702076771653,0.0559991233809409,0.05675764681630421,0.05731248190959808,0.07646962743715655,0.07694375685373495,0.07688737218396685,0.07585850430167565,0.05595472760097704,0.04738819266489824,0.40290332143729807,0.4192762685454416,0.330974454729007,0.3456096152774271,0.35822985389915984,0.26633447124028514,0.2719168130417333,0.2747913602301251,0.2758155443435684,0.28256373306726973,0.28158613154931067,0.27668889191550283,0.26655209825125,0.2532057921789713,0.23902687318728513,0.2271639778607582,0.17419509595194022,0.22057878225866182,0.22600504352636783,0.23437559689262696,0.2428402257120062,0.25079341531220883,0.25590699449587706,0.2584739043435464,0.2583158541919652,0.25849764923693175,0.25528346299997967,0.24786243563662036,0.18598956243851542,0.031933257008205186,0.02520184031864426,0.023716006380242335,0.03155088941949664,0.03957722320890657,0.03901655577276111,0.010127555147419745,0.010310894634205378,0.010666889182519153,0.011147748171844215,0.011460130320938816,0.011309204525268466,0.010464491226279736,0.009633144273150842,0.009058603081788755,0.009599257796551054,0.010857657937974573,0.01207629653156518,0.013257961105224567,0.01386921276513548,0.014314703382204015,0.013965147312269024,0.0129615314534722,0.011811969373064527,0.01125582021896353,0.010758859138708514,0.01005570074302165,0.009690296495440445,0.009345091515754212,0.009008162348040033,0.008723392880536715,0.008689130355292996,0.00915103668047636,0.01068422006271532,0.011804409576511405,0.011999487361059684,0.012248971221283555,0.012730875061297237,0.013495405575790636,0.014328730195930828,0.015174329872565727,0.01605280424334421,0.016491823668428423,0.016304198193494022,0.015453295380129656,0.014230269931435205,0.011736711489554318,0.009435537940461342,0.008943053965753959,0.009758733784805693,0.011797854734356806,0.013281212547268814,0.014491136005399148,0.015307854856492711,0.016218096983447377,0.01703057311703549,0.017360476588672468,0.017056826362212903,0.01659205305785108,0.01564556423423917,0.014659261162230885,0.012834891663400436,0.010531902819708824,0.0105132533466537,0.011390248742280323,0.012262156225866405,0.012661803577299026,0.013652379260697314,0.013832363081167932,0.014600013030006204,0.014013222928092005,0.01308652404418314,0.011895193273740709,0.010929620622747018,0.008761872385445476,0.006664254321329952,0.00657949756654028,0.007661645496074117,0.010259512502821911,0.011571384744794112,0.01295982639223656,0.013286849894695148,0.013355874383357776,0.013690329623742854,0.014441748567813007,0.015712954394465916,0.017304049151258667,0.026735143140844356,0.03282564445787048,0.031255156409783894,0.053037338601865394,0.06684922055870432,0.09307866580112999,0.00924792395336754,0.009748652224381649,0.010315019401984732,0.010837415082360682,0.01111748187357865,0.00859727144861557,0.004720856733292386,0.002531099578063311,-0.0011305581594904344,-0.0018093856604683174,-0.011574090853517462,-0.008829504093165467,-0.007095170272096939,-0.0026064324190853525,-0.00047290125546743173,0.0,-0.0005686465172895604,-0.000549026259103647,-0.00130536689314409,-0.0029346424485349578,-0.006035809313406045,-0.010344663834838114,-0.011446070473522939,-0.009926926792766697,-0.008862637973905811,-0.005857370441224367,-0.008961175732876052,-0.005252125753812835,-0.008822121966443375,-0.013135129302214561,-0.04658689367957934,-0.040806168201493125,-0.036647086243971755,-0.027531709728461085,-0.018948843560736367,-0.021958319607254435,-0.02321853398617808,-0.016445572311685197,-0.017537583628519975,-0.029853876350177264,-0.01356169098692206,-0.00507658304903074,-0.0008432443043832797,0.0026138048267946084,0.002902113748653848,0.0030726622855192327,0.0036237831488830025,0.005870710419719032,0.006963366540429436,0.00774827387889686,0.009018549625203978,0.008856633309025393,0.005172143634947477,-0.001709964381033583,-0.02181868206962695,-0.048113651858624935,-0.04630030826161186,-0.04601805255406887,-0.04635563917721185,-0.04640345200546666,-0.014481820265928556,-0.012700594399254453,-0.010071500335144945,-0.01559582171321418,-0.023180724817420256,-0.04170351241399031,-0.061750124134565904,-0.08737766106144984,-0.08591727965113204,-0.07366461023585379,-0.05285902224298345,-0.03727510016832808,-0.02364995590879413,-0.025767287073850086,-0.01700225524269876,-0.018085778032104708,-0.018251880693462175,-0.02076555810761206,-0.03051363895547115,-0.024432462872866177,0.006763675932688875,0.012592136074135054,0.014579648095279809,0.015450373905009883,0.02280897211035005,0.036733190485990344,0.04991071192392245,0.009346661356085218,0.009841405340104884,0.011024834118928252,0.012369375442973132,0.013218742931724443,0.012019047010681717,0.008130539050707649,0.004909271226415064,0.003415911639707427,0.003486150198428732,0.0,-0.00048298067167661557,-0.0024199624342893934,-0.0099458344620787,-0.011226370806351612,-0.004297869309272035,-0.00011324916705285744,-0.0001150457073508187,-0.0012659093002920653,-0.0013702142729202632,-0.000872726135573622,0.0,0.00013692444756308457,0.0,-0.0005370876329270456,-0.0013629962966160163,-0.002254885971764098,-0.0023017527799423223,-0.000998930798815903,-0.007218623960118129,-0.020628739171522206,-0.0235425502971886,-0.02922145627139506,-0.032841008095056495,-0.03436426019519521,-0.045993027045102934,-0.04583085119692773,-0.030888915914186292,-0.018569234850790955,-0.002412723647623829,0.0034442698351290677,0.0028117111631754265,0.005763966418025449,0.006405001310808112,0.009810149101202727,0.011171783697773741,0.012296809593207437,0.012773113895423212,0.01273847768973842,0.006724677613792264,0.0061445046294185575,0.0022766039084824454,-0.003902836600702301,-0.016488184317929186,-0.023064425762483635,-0.04121180865590802,-0.02966117481260408,-0.04726160424333348,-0.047220301781839696,-0.04804534772482815,-0.04829883088159545,-0.028389286692565453,0.0,0.00016350912526750866,-0.010985106787598098,-0.024143044601502385,-0.06776420707403656,-0.09439701727054815,-0.09791389630507971,-0.07255481157197984,-0.052529780701651305,-0.011945903050014898,-0.01520549929653338,-0.01565424436519671,-0.015482454119162731,-0.01595132443341398,-0.028093332523468805,-0.022832239087865528,-0.04137496270024112,-0.022148546667964786,0.005240511862897785,0.012457134083016094,0.014734292633293981,0.01601966437710617,0.029117867167556873,0.03765970349718938,0.049011109129268676,0.007337134372968439,0.0076306871460343545,0.007906352069385851,0.006843970648990596,0.0023168949994977874,-0.017647785149790363,-0.03190344836891564,-0.06023603879555801,-0.018193990670350234,-0.04430983857168037,-0.02463170775440323,-0.018050111653693333,-0.09402796262432545,-0.0533051281335508,-0.05952371110566398,-0.055884430391545094,-0.0499741930195879,-0.05036288978073675,-0.04972922618026985,-0.049106594575303274,-0.02241083371850071,-0.0266773799079819,-0.029791072718581075,-0.008519073621213171,-0.03763170102425812,-0.0935752226098677,-0.09284113108467829,-0.09493028284805605,-0.0627171584768003,-0.056356404986222346,-0.04847905537288965,-0.08840566006779906,-0.11124644269456907,-0.1120245081572464,-0.11615740496782047,-0.10088291487220444,-0.07793238283728235,-0.058583791898483575,-0.03856922525350672,-0.019199199694712364,-0.0016956792187050216,0.0037961616649183935,0.007454641109906113,0.010276081949170238,0.010694757457064212,0.010310810741531277,0.011069141250863534,0.005394218253603435,0.004114131497717754,-0.001334805699871311,-0.032881708220867605,-0.08033938104312119,-0.061812799513447376,-0.06936837642611533,-0.15677141118199056,-0.1442234793710126,-0.102300685499072,-0.1127505752627346,-0.11330713160050071,-0.0501578474316933,-0.044695821624077016,-0.0045038049746642835,0.0028969898903957606,-0.0026982076796405385,-0.012731432245544263,-0.06621847175241144,-0.06224395352676058,-0.2829977699683921,-0.23530366629022922,-0.18260295108450947,-0.15040846352270282,-0.07963151129218336,-0.06699386774589507,-0.05367913642961318,-0.11931147140809606,-0.1201988435937925,-0.11541704902707735,-0.12267738982093324,-0.13633796318526872,-0.13470283705777034,-0.013982619385297525,0.011407586502888197,0.013864154366508154,0.015055019043184929,0.02139329399487576,0.03263454958088148,0.04796410717767486,0.013743784279865947,0.014103235123237575,0.014864571381914308,0.011113654642845458,0.010476849872382787,0.0012958606290137589,-0.04425597918922334,-0.03128537981017972,-0.017400054376438583,0.004482189677428813,0.007378100087321634,0.009077794477761499,0.00503198519973958,0.00481942745432338,0.003906335566655721,0.003405976323119579,0.0031711388714624573,0.003581657045407677,0.0033396981542709744,0.0018927997802741109,0.002346197739789519,0.008707750717896123,0.008487516345724085,0.001587450488223342,-0.0013946151632946164,-0.004990131365179298,-0.005058045201879449,-0.0077946403123362075,-0.013396085071993132,-0.05114295867367045,-0.08626622816460275,-0.1912876397915283,-0.08867344255120853,-0.054626939774052884,-0.04782323543001669,-0.013420030813704562,-0.0025724438360125545,0.005073718215596564,0.005640366071052942,0.00984258430203103,0.009636378554164937,0.009066195910852864,0.00849326448283809,0.0075456707464823585,0.007588277527634829,0.007391143132164102,0.007306278471593957,0.001912470872630468,-0.003134282328656355,-0.01541643314335792,-0.025464238095141145,-0.042186200052540694,-0.02188650565572165,-0.01814268434039763,-0.004282450555332284,0.008414887578136165,0.008332314338313346,0.008949185325742482,0.00812287634123251,0.0,0.0010036599836244586,0.007169840867656169,0.010975782460773536,0.011976874424010225,0.01239419369857282,0.012079309262672772,0.00875004645564452,-0.011484782030237669,-0.06188951579247605,-0.056994597078432685,-0.06915928950178277,-0.024980403322371808,-0.02185348490277158,-0.0037594389485666553,-0.0007966304973631213,-0.014774904548003717,-0.013475966757427963,-0.012979460941130162,-0.012651997648014864,-0.0035803548887627296,0.009162270417543703,0.011324104085843176,0.013152434105041218,0.016308605946358808,0.056457168981030384,0.07605263778374426,0.26363958982181257,0.277403212640739,0.1255728099285557,0.014005681044996627,0.01080634345867807,0.01041787918419937,0.009705073202503293,0.007670847188557614,0.007450544200217855,0.007271122611798057,0.007501849606965983,0.006919219203508864,0.009272565456062485,0.00970709391160555,0.00999809116373266,0.011386920410320151,0.011996112242484725,0.014831863256306943,0.02066790642486422,0.015107020795402683,0.012152735030742243,0.011857114802294986,0.011401171112286059,0.010640902668303323,0.009771595528384027,0.009380266838382648,0.00912563182526942,0.00907556657114654,0.009043743768156786,0.008995983720973372,0.008860316050681487,0.00830507210120606,0.0060373892122803285,0.0057476048787591764,0.005645041173002269,0.005712393511218677,0.006325080300085008,0.0067464073180897805,0.007717747289350766,0.007297669051621332,0.009052310070127953,0.00873416275480536,0.008615970040442239,0.008461374759024838,0.008361289700475848,0.008345046738866935,0.008277446334476569,0.008161729072187674,0.006080533899708066,0.005900677745995827,0.005574087974982668,0.005464051728971769,0.005791105907762259,0.006338567710514077,0.00922099570363002,0.011014758241818396,0.01141271710090514,0.010522542566115786,0.00959891399484526,0.00943723585395217,0.00936192211436622,0.009264299533294156,0.009317334340200628,0.010508420417218894,0.012940350129037874,0.0144814816077409,0.015907976297806468,0.014658891208997127,0.01433350363016934,0.014387694381741112,0.015810576647306302,0.01748101892636046,0.018462138041601493,0.014542071124206574,0.011512798553950777,0.010932839788076496,0.010091245145246145,0.009974103169193753,0.010036511538887674,0.009975846206563197,0.00988243015953337,0.010072776167424418,0.009813370267544946,0.012487727853322323,0.021722719015801473,0.030626695077358695,0.04053559444427688,0.10903834639735036,0.010848436033093949,0.01135305591720898,0.011720997828054672,0.011650372436601305,0.011172962614067883,0.007818194510060222,0.008471629253735595,0.00874151896846115,0.008828899345644082,0.007764330545772629,0.007382618819438127,0.007219986065175459,0.0074241413231610825,0.007675170666644812,0.007726855536308895,0.0077685487492134015,0.007864038020194862,0.008143719271955256,0.010917415500773532,0.01056829439802669,0.01026926101014493,0.010082750472219114,0.009938808124585457,0.008630760864093097,0.007596461310215119,0.007426473273392976,0.00731549491874907,0.007178238080728971,0.006995229795695442,0.006763289118884006,0.006693018021823171,0.0067903199772024565,0.007087115990006428,0.007375773315121092,0.008126517432516656,0.009393765182875165,0.011018805777743381,0.00965293662269827,0.00857346769379071,0.007649102789413264,0.007401324903082376,0.0071529518799733445,0.007015918715794588,0.006992252877950742,0.0069436425684321085,0.006501942316017045,0.005893698495632198,0.005246111338852918,0.00440996270169144,0.0023161566484725758,0.0021525488514919935,0.00257775338088025,0.005241270174446798,0.00623708868595212,0.007190868591729194,0.010338472174370053,0.010742641844684214,0.010602884203131796,0.010093823620561049,0.009760083981830401,0.00983195609443008,0.010054432503498207,0.01022782073597366,0.010126508139208207,0.0074921302825005495,0.007754924742412127,0.009311394623977549,0.013909783295916288,0.016907079225410494,0.04288243132042813,0.086704941035536,0.0920708078410926,0.044447296673425576,0.020975111404719582,0.016806739405612225,0.01243445925240419,0.00904696845162369,0.007460928656344488,0.007239422940424976,0.006786597332155323,0.006397830997229872,0.006702913317924472,0.007805679779138163,0.010188891409554701,0.011280979593377394,0.021961906909161635,0.021850478819216528,0.012870268045548585,0.013441603722775825,0.010069824984259826,0.009953444480927262,0.004873163736558905,-0.015414256313754274,-0.005271957637269948,0.007606480789180308,0.010561081921552992,0.009806854408980837,0.008672601789988037,0.0019862484352814705,0.0030375158453143456,0.004665725003919638,0.006239857439891207,0.006633834983503184,0.006143015464257116,0.005413332706800965,0.00466226750926868,0.0029810111929790416,0.0,-0.0024257304321014415,-0.019189306488626795,-0.005914019229970274,-0.004977760331650352,-0.0010778862230187366,0.0075157569751894086,0.00042825815626141125,0.0005843942214623319,0.0031101986191641837,0.004080653739350905,0.005059557814854781,0.0069258129557652395,0.008489966415564543,0.011073521935657193,0.011650316023042187,0.011699776760129676,0.009359633778914456,0.008808208519226033,0.013307042297946636,0.013043366375126405,0.012091853190575366,0.01078449367350064,0.009600563959158773,0.002503787514605383,0.002035515253810938,0.0,-0.03351911522157842,-0.1072456098380116,-0.2113105156812649,-0.19980638702921272,-0.00906127196512964,0.006988378797239918,0.017618370896941828,0.021553151814959145,0.01925557590371978,0.01622853516349704,0.01379600582573379,0.011947034590393287,0.011128587556370955,0.010540467047923337,0.0071780769797779986,0.0073415906882605625,0.009649716610160836,0.003485883839590046,0.004259904019483164,0.004646522548597018,0.010121713381305276,0.015345590235733219,-0.004171318474352165,-0.00639390716498443,-0.006587979658551121,-0.0019130626200959827,0.003195216671220771,0.004562916730234911,0.00946502875616601,0.004534549200672585,0.0009655519693732507,-0.013356734185881968,-0.037030338203882705,-0.02052768063168857,-0.0035332177102387727,0.010207410459035629,0.01243410470422969,0.01300892433183397,0.014929942490559593,0.01671643233466007,0.01394094198767126,0.014692595657508757,0.015798933134044155,0.017176275118680237,0.01840013032567512,0.019342831489865913,0.02212370649934563,0.024866765406148985,0.02579715461689136,0.02164533387795921,0.01953700477524837,0.019087380147893334,0.019555332067457933,0.022603495105881728,0.027569291548884586,0.027041375882511928,0.02625616498921471,0.026232436811885824,0.02588171891175155,0.02378821462547104,0.020721767593854183,0.020660234287319987,0.021687979171806343,0.02726030338115773,0.041615251170591075,0.08596688585736885,0.14226713506307892,0.14300164959178427,0.09113223082841057,0.0608633151168427,0.06093090635370816,0.045883093354844195,0.07127021291116478,0.09319602746825717,0.10352758069114201,0.09026837964890802,0.0784208557879942,0.08276166503828687,0.10362228233625119,0.1249863734456736,0.10686570651797793,0.09070784742162268,0.07950267665274492,0.058514611552988496,0.04920896749127287,0.03526741021925249,0.027629392239854618,0.02138548086401188,0.019199715582457887,0.014371833382556312,0.014776710037920165,0.02027274893044226,0.02599904554471007,0.09330910109307385,0.32561902077095584,0.5003571556087667,0.5251445855722074,0.4462281176022277,0.1489543401443246,0.10412204218546886,0.051784369888117736,0.03886760526133308,0.04906917537533258,0.08133343013753551,0.10938930153327243,0.07478507460129193,0.08237646816880648,0.1208502836390513,0.1601584987219885,0.17457976643906628,0.15899935483663455,0.12213329681440473,0.06317781977177538,0.027507025804458813,0.024492957880653737,0.023702702326106172,0.03285395016443854,0.042053800963250954,0.048361481681596735,0.04686002534605556,0.03518540419949595,0.02286672615181887,0.02128164844995053,0.016181817652299615,0.014661109009462972,0.012903072904895608,0.011751059394081529,0.015950770608689154,0.016615345907128157,0.017614664379954233,0.018016670930318467,0.01742349286264014,0.01942555892981561,0.023924039919342648,0.03162817706694393,0.025750403246370852,0.022449960695768767,0.01769656920480854,0.01782701752710551,0.019433455192280655,0.02466896111779607,0.05811925901665841,0.05857417245528664,0.054007221104508826,0.05288492267974749,0.02859802253540441,0.031615406376135496,0.025315354094633025,0.032528020602099174,0.025263053792365722,0.023246265880147807,0.0275514371655293,0.03859712737196924,0.038860195710373364,0.02404484839306674,0.022683067023932676,0.02083353463886246,0.013614507729577938,0.011672314177490947,0.012007501507665167,0.012781798695829946,0.01546825650693325,0.021683972028678913,0.025822938121194215,0.02029871280982381,0.02685331978109297,0.05792019623836394,0.05931482428768126,0.04172406614836686,0.0351117125098279,0.018322771666367216,0.018172012294989163,0.022466158835407472,0.026710716969150724,0.030119480694874558,0.026382845968169064,0.015229300785879212,0.012856920189562736,0.012047823958301203,0.0121777437717657,0.013561398558182072,0.02278299163563162,0.06983372365054762,0.08753357784214766,0.054381616642451454,0.03744479895230183,0.025431049422525918,0.018013558761074647,0.012885372912306408,0.014703767126043193,0.017898208418423583,0.049416768551835494,0.06748577058000482,0.17298792067541913,0.18874051538365258,0.12243482340052715,0.047254762107241194,0.024702603495771327,0.013097889007567788,0.01199681871670624,0.013695363421146807,0.019194168594710685,0.02628972403474818,0.06154735710271538,0.04812790547570837,0.029936929565389594,0.020158483821081426,0.01314727121262462,0.01150046890796255,0.012651734666538916,0.01391922650925787,0.013465948469766901,0.011753424367703396,0.01280528028802133,0.01581472082234893,0.015941293234703648,0.01135377281923878,0.007539596616302824,-0.16870374673569327,-0.30963644164994136,-0.11922746766269113,-0.01842808386733085,-0.003899457736732906,0.0028004053794284714,-0.0189402694678913,-0.023112007949163908,-0.01295173618809145,-0.011058032859630418,-0.003951584722204274,-0.002185293763667087,-0.005645742282359951,-0.008253147648938999,-0.007824521437754937,-0.0063404799430745494,-0.004571572664832645,-0.011806897094220066,-0.011239481484488893,-0.016048746160928874,-0.018637679757132968,-0.015277446030651511,-0.009215107203735782,-0.00950681053450384,-0.010197917309118997,-0.010362235772732886,-0.009244535602720995,-0.012637348357669416,-0.04438296595511371,-0.07344289167025476,-0.1269991482463339,-0.06488379478691174,-0.058973466945078,-0.06056108909588887,-0.03587856035191408,-0.028971292704893,-0.02062279834501609,-0.01411674489676183,-0.03236153351279512,-0.04191896699894665,-0.031431685190543554,-0.026548052434334283,-0.003416298669239224,-0.0009307846963069026,-0.011154736658896583,-0.020739252693951795,-0.026037559885123487,-0.12014696971158777,-0.12373977644518765,-0.1287571706561747,-0.27271576536405,-0.10596300856103284,-0.06276687360559832,-0.058792914918315155,-0.010083326084479196,-0.00786699446034642,-0.007566101306517944,-0.0760741085110783,-0.22030680277109616,-0.2761539024627692,-0.1613090682058497,-0.07652388705224351,-0.06219698054914553,-0.06049526452308054,-0.15982592687637495,-0.15127255464599815,-0.14141203487875303,-0.048474060549855195,-0.024762121374048488,-0.014127494999173955,-0.022304986291852354,-0.02157382554215847,-0.020031210410305634,-0.026835248076197877,-0.14415063130324401,-0.15326846962332774,-0.21752244294192458,-0.2502247458401874,-0.032715849724837875,-0.0020935001720720787,1.819135470784023e-05,0.0014372009800297562,0.0012745911297233307,0.02020044369432017,0.01465119306235276,0.009986794669984875,-0.0011879500146471519,-0.12833524788194434,-0.21405581810928093,-0.03367395309216643,-0.022561947083590495,-0.021669705280866872,-0.026093660101227715,-0.036964509702794024,-0.04155783365177269,-0.014622567030334876,-0.010894662375817979,-0.01428254865890555,-0.01832140849872276,-0.03088847185060818,-0.03703041546289152,-0.027889298810338952,-0.022692935370971317,-0.009178378813538533,-0.0208209523228034,-0.04074665187778115,-0.04098159927569207,-0.04476536780569874,-0.041292505935638976,-0.049881002547528704,-0.019572630630676748,-0.000297056202071263,0.00034664817701039594,0.000688790656108785,-0.0013385380804296792,-0.010413966348438771,-0.08023153367302482,-0.3378799952059708,-0.16721786768157118,-0.1309867621027718,-0.13439952260011684,-0.0926266975106973,-0.09468552262694584,-0.09377340193285796,-0.031441998870719266,-0.07223931801887186,-0.04932106827212234,-0.05086866799441892,-0.020222277221145345,0.0002628414169936108,0.0006797949824255523,0.0015762700444302885,-1.942200872587695e-06,-0.0033019821176875,-0.03536501710521473,-0.06869588755543343,-0.0353923406808423,-0.06266159749445757,-0.07190266483593208,-0.36750130411516124,-0.3335735763321268,-0.11939834273315958,-0.04987103496460869,-0.0504314615061348,-0.14340365189640578,-0.250124492147139,-0.13533647809424687,-0.12581604876660207,-0.10139565545775431,-0.0535785500688878,0.008432947866506106,0.011592421389015218,0.03389909993627248,0.005396104871953112,-0.012044627176870529,-0.01044449228651756,0.0007502419462908197,0.007777196912697856,0.00929642267022516,0.005954156086081507,-0.0014034744240560403,-0.023509193595114188,-0.14288046367759896,-0.1560765071503818,-0.0637903954695637,-0.021573972727968873,-0.006984479293158851,-0.00929269575624429,-0.00709016268638341,-6.592084090753179e-05,0.06759267677137715,0.012977392729117429,0.009225876926827026,-0.0007894946607996535,-0.08335087213020954,-0.06127752170010309,-0.006241247902779669,-0.003053394499708937,-0.003416633459580793,-0.015540366658215274,-0.010122112403476874,-0.005976770858335996,-0.014532961130743621,-0.013842897635766903,-0.01163336686063293,-0.005710668887269835,-0.006932843238373064,-0.006029438730707427,-0.002146297128903242,-0.0053896814274847354,0.0030245124208228055,0.0022947952177693365,-0.01387112212758659,-0.029202052696477354,-0.07442891300143836,-0.08872841745071569,-0.08044575237309343,-0.0592415469188258,-0.023361008090359375,0.00033566750599476805,-0.003529183400710635,-6.4631034276563e-05,-0.03397283749232389,-0.11202729959962142,-0.1554920030185362,-0.15176839692305208,-0.11005726577189219,-0.06325008260740693,-0.07005868201030985,-0.06736338353357983,-0.08390401547581716,-0.08751093073758094,-0.09801301742361497,-0.09038434571029283,-0.07045621223738464,-0.019944340583607594,-0.00355457361302965,0.03746059037058914,0.07982818704217914,0.06280811966159607,0.01742696474955825,0.002504551812964562,-0.0030693818545920208,-0.009033749727658517,-0.03262038813143611,-0.05212091414253555,-0.05726253846921235,-0.04737459064088806,-0.03595579655365339,-0.02996319241944656,-0.016928131897915703,0.00018002087804465923,0.03828306972702291,0.0708758510411206,0.08841686725835197,0.08004107371791162,0.06986464028664575,0.10337307974806788,0.061467652234610315,0.04161994526662666,-0.004709094208222801,-0.006296915424422976,-0.0020988136846169943,0.007572539010373114,0.05066834147775744,0.19504633383127581,0.14096459910452142,0.011574313690485305,0.0004312007673099014,-0.007831606375945665,-0.019362146242550317,-0.032034410418243474,-0.04324836268386366,-0.011931327967548585,-0.00903511958758278,-0.007912325636205522,-0.0003103737503279999,0.0960606191632569,0.04671988404606608,0.015246690110166635,0.0010141205592471448,-0.005169890522450905,-0.0035801206790077172,0.0004352228211680686,0.0028968467730254867,0.0027615847787142178,0.00014196090041478822,-0.0018080410015515122,8.477962060731604e-05,0.0018184118320673922,0.003870662115620445,0.004042486901401345,0.0,0.00020445987530083877,0.02448517198346463,0.05622117309088818,0.02550794170702135,0.016004530084554842,0.021447284349926137,0.02751357460255089,0.004478242454562905,-0.007474901324125235,-0.02916245014035372,-0.07765332042761168,-0.05188505540330364,-0.01034194057898361,0.010421461028446977,0.0215758817020842,0.0004936287594041784,-0.02118210805566551,-0.037352113697513165,-0.04468645393385923,-0.0069529956512848,0.0,-0.004603349774121949,-0.01011300479263184,-0.01316294578886637,-0.005832272256961675,-0.003423077151177585,-0.006905348362847151,-0.01838822417051515,-0.022529333148734423,-0.00920125691489815,0.019632891368241485,0.04260020549766519,0.0373592397553532,0.03791421081963532,0.028183584481032944,0.021961087566647886,0.006101331919506259,-0.011138632211171305,-0.031908789972255186,-0.059056156522985,-0.03716074350858837,-0.011733836345555046,0.07869053095217926,0.1635600586172362,0.11716842158838339,0.058097302227444414,0.04544060318193894,0.05690754713561678,0.04567039698254598,0.024043382517860427,0.016410726587205746,-0.0004393965103858662,-0.006438904719745765,-0.010020645228844528,-0.010150016077900737,-0.00880689208936482,-0.006797244026485367,0.0025916149911296396,0.003139024593242937,0.015742952825774762,0.057589741397215524,0.24493793920171542,0.10556331442694664,0.013281163646686108,0.003250101758400989,-0.005928675322756313,-0.019409763847372086,-0.010130472362972667,-0.006828718226679505,-0.001143109499746982,0.004206928962004711,0.0808832076465911,0.10702526475747219,0.088303379753369,0.015977494735256646,-0.0018258413816831043,0.00697950407889316,0.019543534577307856,0.02450947308757108,0.008818620456131633,-0.0011293852039530056,-0.005179994088972404,-0.0073641811709371854,0.002689845947245541,0.024865766765098954,0.014959664194967382,0.016987172641814555,0.009368840793994438,0.0033764540244392805,0.0051512514918437835,0.0036052719228528963,-0.0159741848694891,-0.016007176239402586,-0.002713118772505387,-0.0012993270276731683,-0.0019747739006909125,-0.008764862002167553,-0.016519218400288773,-0.012615835076090993,0.0013344101005815043,0.014534050738048738,0.029057418730226804,0.007450091409300189,0.00010953094641455403,-0.0010178366987726457,-0.006338727856890933,-0.006526445902874651,-0.0062450463709525445,-0.010074636960885017,-0.01105230887161538,-0.008300678906017862,-0.004427406310797225,-0.001624270570956135,0.0009971322590817575,0.0057122818458965755,0.005489316075034442,0.004643830275893843,0.006688787393747921,0.005007647226873966,0.004133767031532172,0.0038202862176797896,0.004259318016239628,-0.0028858959805880984,-0.003506591749552486,-0.004495550993614886,-0.004697579886986753,-0.005017608721203825,-0.004887328754474268,-0.005783622977404046,-0.0026508417359148062,0.0007164902081270814,-0.00311836409157213,-0.006444066106882715,-0.008063794107614085,-0.009922214096449064,-0.0073539967107924655,-0.0053653074011443345,-0.005765810339450632,-0.007500880136765889,-0.006046418306747487,-0.007623752458685738,-0.01248617893732663,-0.0017252782246289773,5.829456274168861e-05,0.0010268065677589994,-0.00022674157187593032,-0.0033531683963380202,0.00032143754935761863,0.005207089461174329,0.002409801243458206,-1.3141696516944823e-05,0.005047510235899353,0.007638345858300991,0.0021012955057569606,-0.0005255584423393085,0.0013743590334868495,0.0006294924665605694,0.0014778366124395966,0.04620944886457155,0.10898512297704818,0.056614205944856145,0.025631531949977943,0.01749779673366087,0.025336810695458657,0.028703409912161946,0.0869898239429714,0.09440390771791271,0.08682149688066289,0.00605210970610773,0.014327491369940777,0.0347169174596262,0.06568811469196435,0.057416012073031916,0.04572393013179547,0.048709714749624954,0.06859061126725491,0.02701973085120696,0.020960919213913274,0.005540136623376752,0.002513026928970978,0.004389835494452149,0.01599363456705892,0.007065455877621088,0.0033235633320349888,0.004238215792351631,0.0012194822576511851,0.00241532389231502,0.0025440320501318656,0.002906570152370888,0.001042874562730019,-0.00014489049266561783,-0.0019184636038209568,-0.0013121140826451458,0.0007343563171972972,0.0003800474558575059,-2.7377218312485913e-05,-0.0004118115201661802,-0.0017335593681511532,-0.007117894108483063,-0.0035040537068910197,-0.0023436900155380355,-0.0004348749946393128,-0.00019259736637008452,0.002117833040790334,0.00039053328396896345,0.0006227992915605477,-8.700453427844521e-05,-0.001040040431328592,-0.0016105464512318592,-0.0008340830232600905,-0.001321110085168881,-0.0006605201889968641,-0.0002884697880100553,-0.0006958434254440553,-0.00031051260165275185,-0.00016443209377690917,0.0008076220050735569,0.005260722854054319,0.0015070831554875005,-0.0013966578485649574,-0.0013711596445933885,-0.00040873128881282854,9.746961064784255e-05,-0.0009258836553730736,-0.0010687770778472394,-0.001540558163080202,0.00012581535290442998,-0.0009627972939655978,-0.0021230479605730142,-0.0006466360725897088,-0.00015199822801472793,-0.0023053040620146133,-0.0010580019060429165,-0.0033582060429240695,-0.002896512584323424,-0.0036625645606711203,-0.0029919206336540475,-0.0008073679315590979,0.000274110682843042,0.003914874586785874,0.003071395849223063,0.0023712132738819025,0.0036223411193674203,0.0027552606812296654,0.010105549020989089,0.06909690269073834,0.033487880044260045,0.025499773628971975,0.01883740619348525,0.01927444058738452,0.028377058998708977,0.05175388451438213,0.03203653751205344,0.021624585824976273,0.0066461199782624145,0.020982296746755908,0.01856455695938482,0.020773010035463068,0.020713985096423745,0.006855320772267067,0.003063146285905928,-0.0014619842498040168,-0.001577201052885694,0.0009420096590524198,0.0021221768703951743,-0.002071974095363801,-0.004548584677322322,-0.000499729760608783,0.0008317657529368598,-0.0009690865183121823,-0.0027676876893829193,-0.004307833728083766,-0.002105956143500427,-0.0009329917441688006,-0.0005902763638406363,-0.0010460564522250296,-0.0017424897460530165,-0.008159003852384028,-0.011523062708119059,-0.00875196041457176,-0.0037151804878471787,-0.0014421614798146127,-0.00128391464571284,-0.007649620747221088,-0.014946513473803385,-0.01664544088443878,-0.01482838150208517,-0.009924685022901659,-0.008040725442229153,-0.0054333430144424925,-0.004116781221231979,-0.002341107601545517,-0.0017261487447887054,-0.0017469433652157087,-0.002714592543390006,-0.003664558569294413,-0.0035262407246180335,-0.005002687233937975,-0.005739479777420468,-0.012456704394971796,-0.01315431349146305,-0.01265789704116949,-0.0035646223999713177,-0.001046822622160464,0.0021211635137407562,0.0024321700156694124,-7.18288829044445e-05,-0.0012009237145854034,-0.0008462085557661519,-0.0009866957151404736,-0.0005705742277129032,-0.0005253245831009364,-0.0026332568107753102,-0.009962350760261848,-0.012041177316690282,-0.010250693642629368,-0.00796828592393136,-0.00445943828471486,-0.010980652801553113,-0.025712113646509393,-0.06404265225454345,-0.025123827310068843,-0.007221833458313552,-0.004299836909936914,-0.014955462062904693,-0.005351133474982039,-0.016842104089684944,-0.028335314697150248,-0.01916685247789115,-0.004912905402737517,0.0019890887032281163,0.003692492892599987,-0.014644567149494222,-0.017561936442682353,-0.01856914042195797,-0.0034568061913879517,0.0038363970383524333,0.00754583797375624,0.006376022164236721,0.0055111254976733795,0.005399511483747743,0.005266174247706642,0.004403779886985405,0.008293211536324807,0.006022557453421148,0.0055203179282306844,-0.0004441350801782981,-0.002330353354112091,-0.008202727610792786,-0.007426784228848536,-0.007128107993485715,-0.0048106833048992765,-0.004778526804067889,-0.005375779001518345,-0.009060924361304843,-0.008470319728592688,-0.006728494621478919,-0.004322316509701588,-0.004062190618263498,-0.002982640348666709,-0.006458373338616446,-0.005767280975351536,-0.007476777763952303,-0.0108690779062518,-0.024277067785095825,-0.04397300243152436,-0.062262558634527045,-0.021278167584633835,-0.007370297767895722,-0.00677106171655864,-0.024119090524922737,-0.08069596129045173,-0.06548780810472608,-0.015064924055828018,-0.014416903255303749,-0.05488468023521259,-0.06457225367622958,-0.036310625575870954,-0.034040268973901,-0.02176028358514132,-0.010464031986108397,-0.005669764144470226,-0.0023374702907869955,-0.0021810611701607663,-0.0027497631514488046,-0.006131080639722227,-0.006644188324640566,-0.0101739848406975,-0.012638506543169706,-0.006013192854410422,-0.0005575286451022599,0.000526945089400906,-0.0001453406495113374,-0.0017568631770848184,-0.0036699075445019067,-0.0026904682900495765,0.00014885377633865374,0.0008728649777724212,0.0006242876337722406,-0.0016207288529978884,-0.004438297225186046,-0.0031580629460914405,-0.0019687754916060812,0.0013680780065059783,-0.0008675149243978227,-0.00405248052620263,-0.007359740032393296,-0.0056082772128107725,0.0007870542670724818,0.0010904757471049459,0.00013509681990072592,-0.0033532092700422466,-0.0047333888361469866,-0.005568580446512299,-0.010748025811401109,-0.02297738504181663,-0.018013073430883597,-0.0032813211641921007,0.00156153504988562,-0.0632315483077154,-0.017496909711623727,-0.0061681775703574275,-0.0033696499223572697,0.0010356791181566653,0.0022326353692308717,0.002006410337321531,0.008983551593444317,0.01272735210644269,0.0026349861970714323,0.0037659765981815207,0.0022033525275049937,0.007628897730732364,0.0040548981398769775,-0.0002810674552332551,-0.002170454413561303,-0.024548407120359154,-0.02538074594320599,-0.021626156494001705,-0.0070797618728864545,-0.007219862183016992,-0.010272480535864896,-0.042413726729932114,-0.05213886691680635,-0.009227434410227437,0.0002271991691673492,0.0005724614086246937,0.0005808914790704642,-0.0005090648518538993,-0.007706293358357117,-0.003823246286961682,-0.00580454178923013,-0.011377269053848865,-0.026546285386526137,-0.043855895951298796,-0.008727719159971588,-0.0036098209952651447,-0.0033728194123722696,-0.004969490940480889,-0.005589240709700289,-0.00415658078882378,-0.003381925201467595,-0.004936406193544896,-0.0077954185378819535,-0.005361642818064875,-0.005575577196924729,-0.0050427912167385625,-0.0037135525950302995,-0.002846321785826626,-0.002609410212171672,-0.0024687040717412427,-0.0029817305540688764,-0.0036324289243432543,-0.0038494154169867257,-0.00326577494310812,-0.00414425178452218,-0.0034113868743173227,-0.0012571271089519222,-0.001732909952634119,-0.002981297066205071,-0.001843302385452433,0.0017680588869284333,0.0022973603278851258,0.0005088961259964469,-0.0035399505408067493,-0.002819742003289576,-0.0019504716839707124,-0.001048970032517138,0.00018243880360713983,0.0011712806154773807,0.0010542584835132286,-0.0005168047138356487,0.0004542733750333731,0.0032758605114196503,0.0036787528150934484,0.003001787302255812,0.002534526945555898,-0.0003316891946994899,-0.0007535194613800686,-0.0010370809041903902,-0.0009204988075968996,-0.0014765626252000437,-0.002326208164987049,-0.0059086567593835,-0.004082025703547082,-0.0006926312614720009,-0.002085354507153717,-0.004204754391617275,-0.001866926717472857,0.0002465531984669166,0.0012119747373957187,0.0019042890352430754,0.0018394145492577126,0.01178096179411993,0.0021147344261970317,0.004164564167222363,0.0030739623022084557,0.0014687137575860522,0.0016521729887153441,0.0021777023766063022,0.002496695428255947,0.0016717099653144436,0.00010292309641825128,-0.01188488303816236,-0.012595103820199948,-0.011864337890403009,-0.011051634014266724,-0.00662543004725503,-0.01734160116421677,-0.042040994995285935,-0.009879705353291015,-0.00042878434534361886,-0.001373457767287437,-0.0031930971555459713,-0.0025231413509989678,-0.0003601524968604476,0.001608898262502826,0.0016886345865770992,0.0016390913204800694,-0.0012208231343520655,-0.0015533972709760977,-0.0008257632826707764,-0.0011429528533332654,-0.0019778867818165576,-0.002303871964804827,-0.002182822441062018,-0.001745081407008477,0.0,0.0006303102262454776,-0.002393325166286059,-0.004371897977656971,-0.0050270174265843815,-0.00028818951318031134,0.0025775004226304913,0.00014480862708404882,-0.0014396700637805443,-0.00212662852185169,-0.0031033274226366374,-0.007380937455589614,-0.017954044866682884,-0.008487394945114786,-0.006014914689467949,-0.005014030263213259,-0.004142857369292958,-0.003832750794617063,-0.004321060339489208,-0.001947255254799874,0.002882834788829999,0.020374019512659935,0.008126306623856432,0.0014761162328713097,-0.001424093991941989,-0.003912984390411516,-0.00359917664876208,-0.0007307561090215417,0.0016825721926548103,0.0033289589983957835,0.0008019754578819795,-0.00046774032530226724,0.00140970809766556,0.000807389592375182,5.467548569523126e-05,0.0011896690530117861,0.0021499709537953294,-0.0009223211113777318,-0.0025209241838699205,-0.0034975000215797343,-0.0031770372661120176,-0.0034271947736568232,-0.0038485291933386045,-0.003417243916915488,-0.0011667202615387496,0.00291181618769644,0.006233199014570218,0.016306958499094207,0.01550473187105431,0.021806654178735334,0.02371592557239978,0.02569029592977641,0.02543055500646348,0.024323019110103396,0.03522645945260431,0.018464681478976046,0.0035318657625525887,0.010474767006257891,0.012457831670832892,0.007881409008270104,0.006898369207784219,0.00978645845587599,0.004600787810693978,0.0011525091890302263,0.00026127626083471105,0.0003127880602148675,0.0005665384575910647,0.0005560493119560404,0.0007932333608818907,0.007329355264812884,0.01711610360311738,0.018710629752583224,0.016453537887980384,0.010364077870122074,0.0010426528217591803,0.008653260574259474,0.029478711679526388,0.04185051138554819,0.005262378769152687,0.004446856241807608,0.004388119995424106,0.004736860047047792,0.003730934024908511,0.00011225612416070707,-0.0020256404609618936,-0.0009993342821504989,0.0010697886282918345,0.001247327321205136,0.00013414437886873548,-0.001158395693313477,-0.0015489422009988053,0.0006490614908593228,0.006657747618067976,0.009685191386437315,0.00849894317666709,0.002363270906012246,0.002810810935738224,0.0006646539718831128,-0.0032449716086362258,-0.004610088313286022,-0.0016810693873080844,0.0017688968082076849,0.004067686601897923,0.002480751129461789,0.0005688919873954228,-0.003142948700461459,-0.0035306171239340785,-0.003174495826195948,-0.0015534661510207286,3.777706798300509e-05,0.0030559896877691752,0.004720637945192328,0.0033229870865281548,0.002676802947833304,0.0009458005535059522,0.0039042470772346328,0.005896196427272375,0.003034402813729595,0.0035550954965758654,-0.0037416540353896535,-0.004816316868953342,-0.0036528946341071408,-0.001372035738259082,0.0035505210081639206,0.005986185393820751,0.0033162923597302354,-0.002487790247402175,-0.0034651783797153162,-0.002699543191384325,-0.0029247308553696466,-0.002856435974755816,-0.0027964347342984202,-0.0006657211462073532,0.0012500861614847994,0.021611809147568124,0.019935064946916155,0.04155486535865704,0.03950528279852234,0.035238816729744896,0.0184066482012453,0.006447839002208892,0.013431407722738755,0.014640714907391862,0.01100345305745904,0.01393875542313265,0.015204547924039599,0.015208972723987942,0.01622493870723396,0.0121771147478601,0.00988678548516262,0.009299556264049115,0.00908362692861296,0.0008360479836692932,0.0001238102671664574,0.0,0.0008750299231847197,0.002789073601672235,0.009602865986490678,0.007993360952142222,0.010476053252906842,0.006138870834529928,0.0009741066605549633,0.0011876764547386414,0.004833785050537311,0.002983005702519362,0.0001816378402145342,-0.0006460557754773244,0.0009400806440283792,0.004061003740162728,0.0011685942214140366,-0.0008681442916529018,-0.002040091047212806,-0.0019695101185176023,-0.0007414797457756776,-0.0005786791829289102,-0.0023681929343013866,-0.005259847341747128,-0.00574231232790559,-0.006452116844710528,-0.0045456590281921635,-0.0016655159190227392,-0.00021702723710804637,0.002116088153796691,0.004859575217621448,0.006678239399740057,0.007421013466124781,0.006128221246232724,0.005937417604463399,0.006537229343160569,0.010324724795554545,0.006958550430536209,0.005997576196214489,-0.0029311732339452634,-0.007448174270164763,-0.0089911658578926,-0.005125577356492083,-0.0020352038641968944,0.00016993014891812365,0.0009550282928136057,0.004446685049289961,0.006636400068359946,0.005531071188723396,0.004090922240546841,0.0022446372167815327,0.0015033925591467238,0.0018606967218444748,0.0,-0.004876015843406663,-0.003249547603182661,-0.002488564837525418,-0.0012898009287627922,-0.0006765481308741641,0.00013338686151438336,-0.002082496052468965,-0.003097129471901305,-0.0029790983171161293,-0.002308966031730235,-0.0009211910259576478,0.0015431809071615827,0.002703868970521947,0.0002745400674654485,0.02111362368963587,0.019098168882417936,0.033474803095458965,0.025946492905067137,0.021738522036152973,0.012354651930104177,0.016459285698855623,0.018594629710097146,0.018535858730941726,0.011153048023079827,0.014214541360922714,0.013797230721583972,0.007105974883354044,0.007365336998602133,0.007026169707457826,0.0018290110540275096,0.0010839263933863329,0.001816488346593425,0.004359072341172943,0.0067993076194943726,0.0011456806215595888,-0.0009107901960692883,-0.0006321242974734642,0.005283328007366884,0.0042785603717536945,0.0019281473578998988,-0.0005155599062434443,-0.002156816200421293,-0.003245696509907483,-0.0030225675615683564,-0.002954652511041175,-0.003282264522389064,-0.003250175976111358,-1.9148664655776906e-05,0.009450900587183229,0.009026274621762297,0.0005007530601619022,-0.0012032620626152204,-0.0013015818487997785,-0.0011769597272320513,-0.0022470775628566603,-0.009865706228169008,-0.020989554879109123,-0.020773650954108897,-0.022329050635137432,-0.02149232244272755,-0.021596854841757107,-0.011306826203012741,0.0034432693055802947,0.013859784435448878,0.006096810448251361,0.00722481204594311,0.0032161654577248363,0.001684241710891961,0.006804647395799267,0.008379359126170183,0.009441093851966644,0.013259032893922192,0.0038987903871690434,-0.012977006219810884,-0.014592060475208472,-0.01026736872992917,-0.003833739064798694,-0.0025788948749395535,-0.001745953554172158,0.001713785717274876,0.014666019998112798,0.01334189374678244,0.003127070981964883,0.0019567408606554,0.005082320822198128,0.003975224925263494,0.000947346445781031,-0.0005652524935175101,-0.004598029379965263,-0.0046342012179507895,-0.0060172644774144565,-0.00762803648997244,-0.006264090009217387,-0.006135710570303911,-0.0008170774269011861,0.00715646155545278,-0.0003472837602415302,-0.0023485978088830122,-0.002504075449605924,0.00015904317033209005,-0.005240561047674045,0.0002198395063810258,0.005536541556340277,0.004289695555468646,0.0005995462861140812,0.0020430016773738077,0.0029397975058565364,0.007990828810157214,0.010748154690899599,0.004976810838113088,0.005240786895169832,0.020836759674428353,0.007349502361435582,0.0039676730437980924,0.0013617109266924826,0.0003350486757707213,-0.0003627941761032682,-0.0007077220524668021,0.001111149169840689,0.0017335867052452813,0.00025248659890055334,-0.00201568028390631,-0.0020964205396676126,-0.0024258870074521212,-0.0037112126346076323,-0.004194323973174464,-0.005308739783085545,-0.005296429974412675,-0.004408156565321425,-0.0028237061650624048,-0.0016984269131203173,-0.0011694971175883343,-0.00126522665896109,0.003317669766207542,0.006971726615497406,0.013159019705145457,0.016517909020006872,0.013081455427439326,0.010375600288207009,0.004303209169448733,0.00441296587523977,0.00047999024090368005,-0.0005043472557074409,-0.002135269375828083,-0.002854818537593818,-0.0038471029227022005,-0.017406260699404135,-0.03483766278920807,-0.008897481239976359,0.013781938974117513,0.011100453189219255,0.004871810799998167,-0.002532412312252993,-0.014977672651392082,-0.025300766790939996,-0.002743494279074458,0.015132629110320992,0.025584697271920247,0.021620780797402324,0.011924141258853091,-0.0026304426728833924,-0.0018822294959519154,-0.001834140974615579,-0.00030612929702377936,-0.0016413115228088324,-0.0017399966909213533,0.009102848460883797,0.01909134301201831,0.00035362070337067867,0.0,0.009772038752556634,0.019364733167804262,0.011367705242894448,0.0007450600444444692,-0.0037810667503170524,-0.006634855011787598,-0.007129504000590578,-0.004411821405449977,-0.010162924867841322,-0.012816546012916416,-0.008258476306304163,0.0017489722500487795,0.017616810779527682,0.006098938105468867,-0.006993533372393248,-0.024528782704941614,-0.011597008036183683,-0.005104310888313862,-0.004845178942366661,-0.0057034463468089115,-0.006188212176515918,-0.005355176326392622,-0.003669916492596433,0.0022422472991925234,0.0026492851555328725,0.0028130829738247294,0.002027083594054327,0.0025140203090973424,0.0021201328508390106,0.0018066629494213273,0.001452157581650165,0.0036955617172673033,0.002108049577705663,-0.0075013325739776765,-0.01372715085721076,-0.0078048009734606304,0.0013935275922751446,0.002379599689796603,0.0029071949066064827,0.009130506130735972,-8.126356256357928e-05,-0.0026180226399989577,0.0024336364969626766,0.0032452120217818757,0.0008193562526365468,0.0029015140519595773,0.002924737716915452,0.009187186072025583,0.005816896735196932,0.005474161132326062,0.013150106728961164,0.012515899761110245,-0.0012905396473537024,-0.0022302830322325023,0.0017327643013682658,0.007356002209025001,0.011054263235720807,0.002600282859886677,-0.004324397954088065,-0.003460842918180314,-0.002648223400277242,-0.00255441288075214,-0.0028740336154355886,-0.005643537057380166,-0.0046555076675578,-0.0026925264362352374,-0.0024692751595400122,-0.00548133893670667,-0.009142575604791283,-0.004019843008200801,-0.0034554097512481514,-0.005669244924042357,-0.003403063805514754,-0.002656591592454348,-0.0016724082654506077,-0.0035577597001610222,-0.005879000374353603,-0.004087136223721247,-0.0025876132307134144,0.0004842196605747879,0.0006911737896629211,-0.0015573403420595163,-0.0077321579905663095,-0.008019505556775403,-0.0029107424344117583,-0.0035723299067561554,-0.006531118094270473,0.0018303432528376119,0.004602744244138836,0.0037513982341486406,-0.0034656294575922037,-0.006868810174677279,-0.0072921962249580625,-0.008240711391045851,-0.00877948441174218,-0.0130146363466887,-0.013090645801759558,-0.013572392109984318,-0.012675580371745128,-0.00804670594907159,-0.008788721016296202,-0.015951962606238032,-0.020218625548530943,-0.017920735110223195,-0.017328783707390213,-0.03140801177101922,-0.05918748966671485,-0.043875181443486046,-0.02510300509714263,-0.010965841574857492,-0.002534335702391627,-0.0027739297101279647,-0.0026691153481594003,-0.0026374500113768274,-0.005590799185958615,-0.00824611376343934,-0.00883118542281071,-0.008173860330392482,0.007962776387086746,0.001713108616171505,-0.013640606948731144,-0.030205418243622856,-0.007702446612318265,0.005488933440612315,0.0093949992672186,0.006289743888567102,-0.004240630886151063,-0.009523911159939068,-0.0047667511683739915,0.003178239430208418,-0.004704263780564122,-0.01648549657222357,-0.009510231858422875,-0.005841388221486404,-0.005805308908882214,-0.0035903560624018453,-0.0028381511574078356,-0.003728405313639564,-0.004938446423204738,-0.01023631462656319,-0.007055290876519487,-0.0043704572945851275,-0.004305312460995643,-0.005111539519439971,-0.00533088381076173,-0.004239959348277476,-0.011234316302496838,-0.01030187993127261,-0.008825611972587287,-0.006278450602586245,-0.00729259242796753,-0.008884941127328188,-0.010531952139031618,-0.008794423524451955,-0.009529650454546953,-0.009439746391651677,-0.008567812649168054,-0.0074662561417760155,-0.007645740600050095,-0.00782027065234671,-0.009964550502868796,-0.010427480193072044,-0.011268789103890382,-0.010310012957908274,-0.008767732749214892,-0.006798388728185504,-0.006738007865477677,-0.00915401462926982,-0.017209213412423808,-0.02345712285951838,-0.016777617079836396,-0.010076795105802196,-0.00986247487529044,-0.015339132275876513,-0.015065472976984637,-0.012259821911443687,-0.008605090304184208,-0.007618688025134118,-0.012551523451842067,-0.012201696072894086,-0.01529458677723345,-0.0157520656823895,-0.01643742174534555,-0.017385597498482674,-0.014123207767164497,-0.013550894111420858,-0.013591866494713677,-0.013780602998818484,-0.017299593743159414,-0.016138664518192437,-0.009772669440515759,-0.007758853196473302,-0.028080566339337698,-0.11960178988988554,-0.07138505350482854,-0.032410337934972534,-0.016636699763840128,-0.00845860516725808,-0.0014235879437627082,-0.008001570545129611,-0.009967845580877294,-0.009345471836220476,-0.012009420051102405,-0.01693093666989586,-0.014541015151741412,-0.012135909916684218,-0.014758437767449726,-0.013082186719347579,-0.009954271686691689,-0.006146763451921445,-0.006434039427145017,-0.007281101752637679,-0.009165710673477791,-0.011127121329720418,-0.01556304108132807,-0.008662618836404023,-0.0033912905174299304,-0.009422451247031487,-0.03406891242448731,-0.006091517464887541,-0.005950084452768601,-0.0046727914726285465,-0.00458553202139311,-0.004093144820419144,-0.004204995223566745,-0.006024844709764461,-0.0038143820940990713,-0.003593898147712824,-0.01578625956549311,-0.026254566688429556,-0.0056426446241642095,-0.003722074199020216,-0.00240068307011301,-0.0041238492988527695,-0.01674795817067175,-0.007729999217686017,-0.005322225446999091,-0.0035246254184562,-0.004905596734239568,-0.014236322467040844,-0.02005124442565465,-0.021170179314729552,-0.015139475547712116,-0.00432074827730296,-0.002459431071952019,-0.0022453525129819385,-0.002750483947226799,-0.004616398134469262,-0.005296598623976612,-0.010009783301716261,-0.011869114907833885,-0.015527194225169075,-0.01822134663839352,-0.024214131479075984,-0.013530822434726532,-0.010857146934911625,-0.0096574511081197,-0.010644582462014364,-0.009751042680708113,-0.00939291319178138,-0.008618554938278003,-0.010253772700601923,-0.006434472822054571,-0.005828394052064451,-0.004439726811272748,-0.004397841928251804,-0.006148381308562482,-0.005678482994746916,-0.006221356983623744,-0.005594733059678802,-0.007788525291967936,-0.007888033677576982,-0.006333453447079787,-0.005896214326633051,-0.0038947873447229054,-0.00390840933568735,-0.0016078605248378394,-0.00102098968571027,-0.0036420273574830743,-0.03165992818080348,-0.01980557249069413,-0.028181278701629446,-0.0865028348217341,-0.023607160686721754,-0.015240847093095691,-0.004027142664608005,-0.001948973958158157,-0.005134914275405476,-0.004720854589108344,-0.007505810809175295,-0.009864134834053111,-0.011550413032216902,-0.011714679761080047,-0.014104734073912465,-0.012090958286475367,-0.012924115101518262,-0.01503064168778787,-0.01293256983473028,-0.005996778167306397,-0.005201805622292434,-0.007826659513160488,-0.00746473997674127,-0.007627276828967507,-0.005774596130506927,-0.00478129951497645,-0.0030386628912744303,-0.0025616219369527754,-0.004840637178641567,-0.0045002674788176345,-0.001765775470765817,-5.662742755440917e-05,0.0021057222737053244,-0.0028079157167854047,-0.0016071216492832769,0.0034478067803754672,-0.0030527988576419945,0.0010472892304249502,0.00297650966340562,0.00209792679472376,-0.0007378682497502435,-0.004102086413700186,-0.006208107254196551,-0.00010706292360168686,-1.2090833329156222e-05,0.0015360088228313642,0.0033849453885290495,0.0023862968723493546,-0.0003813810482042313,-0.002775612235541301,-0.002096844062206952,0.0036968576236940044,0.008953682480970195,0.020353179057099904,0.02143534426698888,0.016874233299528967,0.002649891474333327,-0.0008603469809373792,-0.006777330308201864,-0.007864165837191274,-0.008447469866378723,-0.005661987140949934,-0.0029609634084250026,0.004638033748297432,0.003995228013612529,0.0036634075907158183,0.003897505567929907,-0.00011460833879116408,0.007105641006576688,0.009336217335157325,0.013033224583190246,0.00657529360871803,0.002669564034743706,0.006052814865258892,0.006297930113308264,0.006686305199255429,0.0177816420291611,0.0010545151312032035,-2.2165008142758222e-05,-0.001358312271679075,-0.0021539737217380075,-0.0017296813842219245,-0.0001460538439079444,0.009426847885750345,0.009131397157970882,0.0002129546466083404,-0.001957222917374903,-0.015303387767331141,-0.0024527400128022013,5.398488203241721e-05,0.0028528223613704974,0.0028914859332508014,0.002290147946163058,0.0073403971032219885,0.016307914722323007,0.005875309984293866,0.0024134455791726857,0.010486389756844006,0.003224211500385197,0.01711017637169987,0.009925978568862629,-0.004462589673783653,-0.010006669953840058,-0.004879462867505417,-0.0003055182401422847,0.005970722076276891,0.009251778620992445,0.009399339328245762,0.0016790534682324411,-0.0036168460126450096,-0.0035315205170868536,-0.0016189134944351563,-0.0014674453331457182,-0.0009399366432959644,-0.002784591082144266,-0.002519367770422405,-0.0017522744280368465,0.0026884520048586556,0.004677235746824505,0.007257031120829419,0.011420852150197247,0.019821263314806416,0.014462197556788016,0.0171039992829527,0.017070718817890712,0.0036375112494783004,0.0005075970924650683,0.005573395823634348,0.005387847721034961,0.001141152780653716,0.010724284385576821,0.005664987760497908,0.005606935280077956,0.02132064711758959,0.016822582571696224,0.01975355117243043,0.0126165315940661,0.010753512421239602,0.010244738933403464,0.011333222727485055,0.022200084875487712,0.028325707849357507,0.010872140668384359,0.008452055971362664,0.0051660343013256735,0.005527033371370441,0.009481267264426368,0.005825871310311186,0.004842370781343024,0.006890563378662243,0.015654365514241965,0.015549868190669745,0.015926728045016724,0.014112977541730094,0.0011098422396822228,0.0016002909112150779,0.014146259110750327,0.013941907575493807,0.011760625523340533,-0.00042446623294744884,-0.002793730472324649,-0.0036115647523092707,-0.002588391076878042,0.006598014450936043,0.009649463891060825,0.009763500328980514,0.007617405518795606,0.012344629470753323,0.006683998557678302,0.0079399501251162,0.007011115532830481,-0.0021021082090438912,0.00021415965164647705,0.0038718142114237387,-0.0044910842781925135,0.04208494642509774,0.010161850514639997,0.01673349224459946,0.008362884339730575,0.008314938626400516,0.021656065819256737,0.009432722687230229,0.00806031959206924,0.00691637949052295,0.005015311713457073,0.0033495835045760374,0.0032183391493959485,0.0003044849429248023,-0.003419000386945718,-0.0018870595015310532,-0.0004846295623287034,0.0013966253746049515,0.008591611200090396,0.009523149784398707,0.013918527908515027,0.004098031931162775,-0.002417012821187399,-0.002825772520258586,-0.0023367357960026288,0.0034816883246165165,0.0011266299155247774,-0.007810692106431463,-0.0009258450976456321,-0.0001692188842695779,0.006104380486208804,0.012591157090837668,0.007275660546823156,0.01713793385632165,0.01952857062049067,0.016342169865583754,0.011963483487145954,0.008125248787151847,0.001113411108645771,0.002663904306803245,0.0006979884748696328,0.0032184884362455855,0.01339473825666606,-0.0006057609904812017,0.0045637311589032045,0.011305058000428192,0.013782392217613357,0.011164094522163041,0.006127641284390322,-0.0010119037069964212,0.005847515618413915,0.003103392209726834,0.003394607158888806,0.006822887878481293,5.620819449847379e-05,-0.002015114260167571,-0.0013851422159917568,0.004448408555047259,0.03570601481275926,0.03599046817415534,0.004614309668032596,-0.0042428692807695645,-0.002506289451951012,-0.004615468569252295,-0.004876501311410959,-0.007406097261758925,-0.004143887080055723,-0.003314059205483158,-0.0035103256255600416,-0.008223284806669291,-0.009042555172924077,-0.008534897170386784,-0.006428534454404567,-0.008875385218702176,-0.010211355250428827,-0.010292698166592108,-0.010024380204225997,-0.00749755662174304,-0.00045736586669024875,-0.005113245301103664,-0.0016506700479616868,-0.0005357445233485638,0.015051197479115106,0.0032765182499158102,-0.010528767838404101,-0.010611501228052527,-0.004251723288782397,0.02874166665449885,0.06384240697526908,-0.00512909339248177,-0.008819482470942202,-0.009855096504551495,-0.0030909816833745965,-0.001215857162342446,-0.001429632933102834,-0.001312145417707787,-0.002298484049825094,-0.0009556733591673318,-0.003808401066967106,-0.005727037121941382,-0.006105608519509564,-0.006024173095759595,-0.0026404536525846917,-0.00018552109483313477,0.0019490472001532835,-0.0016971331337025464,0.00045866521334897334,-0.0010174073865479001,-0.0012266943812506966,-0.0017064413466447552,-0.0012023930879418907,-0.0007496013092858674,-0.001144107616845544,-0.005896863537365995,-0.006475232512119063,-0.006627136639215449,-0.0033855046718709743,0.0008838035963206736,0.001458142064396069,-0.0016309793820070567,-0.0033459369817995387,-0.004252095745010898,0.00010832036003236034,-0.006218163611182054,-0.006306836764864331,-0.005322371877524455,0.006821616283729968,-0.007554010347914039,-0.002797089159881793,-0.004171422650616417,-0.008085629298261126,-0.008362279553398752,-0.006506983375988824,0.0009755777968265556,-0.006747907633219546,-0.009761596273150687,-0.009931311983697642,-0.007601439519393227,-0.008087628568050259,-0.007605596569965712,-0.008092677697140336,-0.00998303705470448,-0.012757763936501632,-0.012552544844036246,-0.008464282131300075,0.03960503594024416,-0.002974760186999228,-0.004384544409457718,-0.005755923920151975,-0.005901022584292745,-0.008118233338788658,-0.010192029320050444,-0.011377644921289301,-0.011613014348112377,-0.01094661202362791,-0.010085065786056628,-0.011325990890242133,-0.012580852826410367,-0.011562331925840007,0.0,-0.0017245909077169119,-0.004930585994553153,-0.008544512986340251,-0.011232253122466118,-0.00915993518325334,-0.005065778207658702,-0.003754842783179104,-0.010977317441313807,-0.008594705160497611,-0.005217289802506691,-0.009725226439824253,-0.010830476006776132,-0.011487631939288066,-0.013111442717017417,-0.0005863880506304579,-0.0006392574921752116,-0.03578503104836393,-0.06775047375570137,-0.035099460587921266,-0.03196225123978757,-0.021560723017000693,-0.011831165481634745,-0.007771521554463454,-0.007771173373265406,-0.00741387787192223,-0.011656104884320888,-0.015575817925733397,-0.00862619581005621,-0.008432394514725772,-0.003323203251500351,-0.005310295606210503,0.00019106532329451779,-0.00015239902309381714,-0.00578155886965495,-0.008330578613735623,-0.007453395555448951,0.009348680577329297,-0.002449139230737355,-0.0031629689567133656,-0.006125800231628729,-0.006913645526844215,-0.007691070887377052,-0.008043132421557702,-0.006192218207092501,-0.006525851752872804,-0.008440698504239978,-0.009806660963729083,-0.010875240675265359,-0.009052932274917642,-0.007828832481868185,-0.01033357509896391,-0.010175574121046327,-0.008964106636497897,-0.0100954656995031,-0.013704614566682713,-0.01290870661564767,-0.011675134769745433,-0.01147142559714436,-0.011863593902880103,-0.00590700020398052,-0.0022345892083119696,-0.009830877470145211,-0.012173256680403909,-0.01056847703464887,-0.009893881982380826,-0.01011159088014634,-0.011707741673047787,-0.013090818741447227,-0.01457684402725987,-0.014512020144376017,-0.015362139211653485,-0.01374673560677429,-0.010241717414444303,-0.009655635782457237,-0.008132503849487749,-0.0077810805483674896,-0.009230080054348645,-0.010190630182270701,-0.01433735354148628,-0.018332780726617145,-0.027956030531635704,-0.01892406674661516,-0.013966665721648461,-0.012889393127708254,-0.013816121857345041,-0.01413646062774368,-0.013237662553425046,-0.014565712814477431,-0.01712309431378697,-0.016282641330545362,-0.02684898666143273,-0.016771057477768494,-0.012662312016939696,-0.013321793706825109,-0.014221983756928373,-0.01518316451847924,-0.017029249701383694,-0.014978324452119149,-0.01336329963118114,-0.013712565784587662,-0.00835896813197526,-0.00953077504394898,-0.02041643812789167,-0.03720865639449198,-0.042716643466148965,-0.03495265326050296,-0.0356547253979236,-0.020454192188401242,-0.01185815785261093,-0.01466095762584169,-0.00932883144978958,-0.009009941662282328,-0.009451775794472534,-0.009841378854710451,-0.00989649219956666,-0.009423341624682858,-0.00841329145693262,-0.008764721523943138,-0.008134639688060453,-0.004783744721008969,-0.008845907599364662,-0.01125985863773789,-0.010127055613193669,-0.008110754096098781,-0.010036721185753715,-0.009673384337045312,-0.008034824777707223,-0.00879088410748601,-0.009259287491089799,-0.009034012050433018,-0.007330259037676803,-0.007808054290443412,-0.010595423918669192,-0.01246806198357283,-0.012009888428101518,-0.010336317648504584,-0.008095131895351057,-0.01018949777282163,-0.012299120447593405,-0.011604157158793111,-0.011556598404336373,-0.013432091070122094,-0.014491321088055738,-0.013972187085654984,-0.014842608433722402,-0.011565136385247149,-0.007387254319384007,-0.006744753869469259,-0.01070639647428217,-0.011921945782755124,-0.010096693743132074,-0.009448776149461862,-0.006960471965336477,-0.008788088769644192,-0.011534065822181734,-0.011429489534919183,-0.009590332948830084,-0.010441020698125438,-0.011493158602946493,-0.020465375348656105,-0.013672101644740956,-0.010895482263888739,-0.011669050774861203,-0.015120769145196115,-0.014112363288811802,-0.01476055114816961,-0.015847090623960603,-0.044438889694068756,-0.043864988597283126,-0.016200954507407276,-0.013058666531055406,-0.013467935737406282,-0.013174540262056738,-0.017494710509092324,-0.047744912021046304,-0.04103291282831317,-0.016326291053829028,-0.04159869204872247,-0.0402426722069135,-0.02491476669151378,-0.01797965530394359,-0.016763254127539085,-0.018801436616789693,-0.018231764418487985,-0.016677420763546034,-0.015621724282953149,-0.01472947323484448,-0.010386835600032129,-0.005116014692105828,-0.018872760652156543,-0.0739250684191645,-0.039907905693897294,-0.027359008743271202,-0.027507756352681177,-0.02080672281545723,-0.016892710662169172,-0.024463321234522065,-0.016165237379241082,-0.011115999211205626,-0.011266330186433497,-0.010567483664112698,-0.01258826572014084,-0.011508417598115158,-0.010787708069937996,-0.011102265749981174,-0.009968847123945888,-0.008341446035833753,-0.014646477992190866,-0.027422953560796604,-0.018019903645278168,-0.010477203597780649,-0.010623846713975212,-0.010472869897527628,-0.009211887279931982,-0.0098381286481423,-0.014829660512284237,-0.005138535131078581,-0.0047512536454589116,-0.006194027492692921,-0.006553163656661809,-0.007176757846184409,-0.007474959116286708,-0.006390314888680924,-0.002014376817230005,-0.004563519107440176,-0.006303080751060991,-0.0061921429195714375,-0.005429445960205874,-0.006419204447857801,-0.007262163690384818,-0.01259571982232822,-0.007516944078104246,-0.0076021700942098015,-0.0037726607277298522,-0.00547460411992178,-0.0063384384975973375,-0.006000498112162923,-0.006006946671475716,-0.004864806746414519,-0.00341876601773619,-0.001945120126985185,-0.004876831427452638,-0.005392955947425277,-0.005137895591223647,-0.0045750318500319435,-0.0049953512959049085,-0.018276597002956044,-0.014541441670460968,-0.006214374599452376,-0.007392001050110644,-0.012734383826379843,-0.011705114218480512,-0.011953739860156853,-0.005805599857537885,-0.0069477877322933305,-0.012112876908043505,-0.007985646611278464,-0.01178485748870429,-0.013755330586311188,-0.012765985200929836,-0.013344501223359263,-0.012479557985765551,-0.008136689303546973,-0.008095351170155873,-0.008811193081734829,-0.007176977172422504,-0.013889930932265948,-0.01409395316542481,-0.016203492408878986,-0.013783200916672896,-0.0075400246877810224,-0.007326411054143862,-0.00612855824517016,-0.007705967946946235,-0.009724962708351189,0.003361070617016982,0.0010804809768122493,-0.025316451918216708,-0.04688118698202882,-0.010802694349175673,-0.02417577066673753,-0.02266407340093154,-0.009570383888546509,-0.013447592808049377,-0.015115215547616434,-0.017584119893945493,-0.028397415803917886,-0.023434239551257327,-0.014188362964943578,-0.012189105754804136,-0.014734571310657574,-0.012505980672290275,-0.00966097637017412,-0.003881708714132767,-0.013000666834069127,-0.02411631906056087,-0.02380273463059996,-0.028140488118528397,-0.018283218653518164,-0.015931108381470736,-0.00923422881894931,-0.01425607982617136,-0.022215767264188727,-0.015499611463625893,-0.006605815863424793,-0.007421968660060827,-0.006356909449062117,-0.0067182292452194255,-0.0055169673488809886,-0.004519735458530675,-0.004000994218675159,-0.005524580206054689,-0.007100154824053223,-0.005946509287920376,-0.005338785347236688,-0.006879773015082741,-0.00646646870343859,-0.007872730327650517,-0.005945712544155004,-0.005890851060931608,-0.004752233034120697,-0.006238258173920852,-0.005270301501661444,-0.005253269032252896,-0.005098058751983369,-0.007376765857077843,-0.008044485488857974,-0.006829099240935401,-0.007074024781351168,-0.00873580760330351,-0.005907901457084063,-0.004419107187479618,-0.002701323374061825,-0.005275758526155258,-0.005767699225499985,-0.004376146136059118,-0.0053107674515332475,-0.006729472712850175,-0.006228774581020606,-0.008079592742838275,-0.005821825982698666,-0.00564524675108599,-0.004900478078786763,-0.006715322916943784,-0.009186419374062522,-0.0064175243946330805,-0.005509753306902174,-0.0063172855323519435,-0.005646624123196601,-0.008385672020328054,-0.009513081858609907,-0.008025221556327096,-0.007483085489381937,-0.008938470404390567,-0.008291873784058256,-0.006859334695720278,-0.005115572036246799,-0.004933452760873218,-0.004800623346905514,-0.004967193799730791,-0.006759645720575941,-0.00910404231731804,-0.0034858344443282085,-0.0008009748066354607,0.00023365476715197652,-0.01718930282908529,-0.0045806704066675575,-0.008918896261216206,-0.022457897135155943,-0.003683383542887291,-0.004872371349832706,-0.024846325806078443,-0.015991972353608098,-0.01744267418829866,-0.013183013355147244,-0.011239623654110038,-0.006559944359037785,-0.013998953205902661,-0.006636689069348114,-0.008027264406956537,-0.006979856278954525,-0.01208507704108375,-0.013289681051408733,-0.013161896877332243,-0.016005959716962937,-0.005013896846128443,-0.00707123460500621,-0.007470935855994049,-0.004983991355621766,-0.008315781209026148,-0.005042324828656445,-0.005457035490628108,-0.0025856118407732286,-0.0027286126027950626,-0.001918551285619069,-0.0004909570858026467,0.0002745812757846418,0.001156900636138489,-0.0020900257155774455,-0.0039549033032347325,-0.0026369012917535706,-0.002036094171150682,-0.0022585078985398626,-0.00225903007181923,-0.0021022024326509446,0.0,0.00025422989203499743,0.003105644407160578,0.0028889832973805576,0.002306934343617347,0.002737630828471637,0.001581215013757894,-0.00788379810506991,-0.010100306956181792,-0.007460404465753331,-0.010375961787419194,-0.006548328465893724,-0.00245080345167319,0.0010321215420758599,0.008185236853212468,0.010166993803624385,0.003808141646707999,0.0028025026940159225,0.0006162452819384378,-4.557631958758105e-05,-0.0012962557666281753,-0.0011231951836103852,0.0018806020166573494,-0.0011503349691786495,-0.003665761563107155,-0.003484388277622299,0.002775102691861846,0.0029000014491440016,0.0013007281202827143,-0.0030594808173878374,-0.0029628598415223314,-0.00925066212222047,-0.008844871587280341,-0.007092004344809923,-0.008368200522829201,-0.007885052270798604,-0.00596886895312802,-0.004765210200612356,0.004002560871992423,0.005273217662812883,-0.004916591335986793,-0.005518983404606092,-0.006194024957880217,-0.00860384005173871,-0.001507289032927738,-0.053882633111870866,-0.0019869900041725036,-0.002321319612888393,-0.0015087350791410023,-0.00287712085024306,-0.004897410071013202,-0.006130089482881246,-0.00771133522265372,-0.01517874120356834,-0.02480910719579113,-0.006575068941073391,-0.006443767919606763,-0.005201682910598133,-0.00620368770098163,-0.006585739827385343,-0.008382477908684823,-0.007389402294266305,-0.003401416942022507,-0.004898905453483074,-0.0030479300676822495,-0.008563750567568085,-0.004148851105895649,-0.00016955767624310337,-0.0025046424180409214,0.004273687824021293,0.0004871683362521716,-0.0009438800132225654,0.0,-0.0016351080478137754,-0.0007523523035965514,-0.0017679147961370098,-0.000506966657152496,0.0021546975415424096,0.0025625612739900235,0.0030370991117833726,-0.0005000663269503369,-0.0017930935554708555,-0.00042543611836034747,-0.0003245700592233611,-0.0016458202189890113,-0.0015382193895938584,0.0010229436879243706,0.0018453373169967646,0.0017218922063634004,0.0040605002893804535,0.010639310800761765,0.02224984569902911,0.002480657934570682,0.005264553945276111,-0.0001261067437551767,0.000393809953293542,-0.001372138149192956,-0.001725313493184335,-0.00171606880302181,-0.0010266997597540414,0.0008103331481372117,0.005823417735272199,0.028401301693562597,0.015971461026915233,0.002467714357237695,0.0007460531860995652,0.0015863812135692315,-0.0006283168375088717,0.0004965580579347393,0.002365287637795386,0.0019437514725881022,-0.002179496294443466,-0.0018953986717847398,0.0032514032308487966,0.011814444608877147,0.0027985332754990213,0.00019864572580300784,-0.0016056935709451807,-0.002640577839281519,-0.005576332310793252,-0.002062297542539731,-0.005382065151253232,-0.00426870742266164,-0.001855087597598501,-0.0019760448599264345,-0.004948285639214384,-0.00569756452549746,-0.006905968394189901,-0.0034983007373292838,-0.0007658511332205611,-0.007861873560005455,-0.012360532906905483,-0.016961838514846582,0.003145465424838069,-0.0016379055968471987,-0.0013248605440415642,-0.0018096961982540605,-0.001583934710692247,-0.0005274215273396749,-0.002447407962588128,-0.008729628962842973,-0.015161810278012737,-0.00495129164905648,-0.005074807596160827,-0.00399730358280584,-0.005543635931031069,-0.005573121303823742,-0.002154280627178087,-0.0017218704655203195,-0.0005676465070921591,-0.0002686333577349637,0.008678747937712497,-0.00022259272080869138,-0.0005788775446646135,0.01403112436424147,0.011313022264478651,0.004724957689857979,-0.0009636818865154784,-0.0009908839389155739,-0.000494826749778351,-0.0015127429858542477,-0.001621763937842957,9.661360862951735e-05,0.001192589643672879,0.0012074859986846533,0.0027693285097133576,0.02771096262592712,0.012006300836560117,0.003132241087927149,0.017422811468269128,0.011802715282209185,-9.257575981816764e-06,0.0018040122957043792,-5.010735438244347e-05,-0.0014430630729237968,-0.0016230068718681968,-0.001050268802948739,0.0010276473472808699,0.0021614998028193087,0.0014605289397284485,0.006294650479874788,0.021046556476978662,0.07557279028141474,-0.0006440411439401605,0.0011443390749840238,0.004806482364192564,0.019958896193311967,0.01618851577813509,5.649531829796306e-05,0.00011971976955756525,0.000435241912417391,0.0011249065411480697,0.0015428784190374381,-0.0005342388704322868,-0.007006523622305331,-0.0022457772555554475,-0.00021510886254811666,-0.0003448632829057868,-0.0016670979108482527,-0.00162817532926004,0.00037760561063858764,0.0036080814242023668,0.003420138711572594,0.017324821496826442,0.0016963551511156453,-0.0020926394503796215,-0.006067107915762831,-0.001598382403920775,0.023281880517773284,0.017354594116400248,0.0021158599726355284,0.00035177628456138513,-0.0060812580504635,-0.0070587708816653065,-0.006737964308042005,-0.002924803599227227,-0.0036445819557227198,-0.007400900439021297,0.014027708820045136,-0.004484677260874953,0.0381501643724087,0.003447754630467612,-0.001916738865270533,-0.001328739583035584,0.0027763338365165303,0.0032506693284826615,-0.0003572459987368802,-0.001492359729217657,-0.002039272132724102,-0.0024723540952078455,0.0005776590181326657,0.0010479472187607966,-0.0010340416334375022,-0.0002263682033486759,0.002125149747860376,0.0023350253409398784,0.00048817614794959273,0.0005859376103242769,0.0033444743680355695,0.0022840058182153856,0.003305521132589786,0.013701417322239158,0.01685424368352881,-6.638704880257061e-05,-6.973405745617859e-05,0.0019996333324409678,0.003645750446127572,0.0009230689859670083,0.001571773082140904,0.0034538696042756413,0.0027407507366380276,0.00035491742840855966,0.0028694595282350204,0.02962044701691729,0.006272913990186394,0.002977926965090705,0.002231360316941316,0.004143175665341944,0.004153793765663073,0.03587746654678212,0.00029543064710528375,0.0008154306790118503,0.0003749201417085548,-0.00039828982726363045,-0.0002567692084181671,-0.004665318424559478,-0.005398098983226967,0.0008927942962653199,0.006294229117256579,0.005637690813449218,0.001999036161463214,-0.001094575214604218,0.001788001695045827,0.07914721574285953,0.008786300109122777,-0.0017810230952212953,-0.002783263935617775,-0.002096584859858148,0.00013636562163093458,-0.005299005119156552,-0.011790619646522399,-0.012660422391792466,-0.007046006029988555,-0.012266100866745207,-0.011547072222057142,-0.010594045131117745,-0.0014563739173246162,0.0014868152301737174,-0.0006801070443382636,-0.00015501937873835283,-2.1066554477446028e-05,0.0016442030396825618,-0.004923142696976069,-0.01047093409870437,-0.006231058332330976,-0.002458746745620963,-0.005007999415145713,-0.007406215213016303,-0.0052762251476753275,-0.004368128312049782,0.0012789019504797052,-0.0007005669083803982,-0.009741836044697935,-0.008737325565010511,-0.002781568028181785,-0.04018134565287694,0.007162619395938323,0.012080111397060875,0.0012305491526436415,-0.01645276396157952,-0.01784432863149757,0.008135095570682323,0.011817337536983752,0.009268226680747263,0.00379500950304273,0.0014573436615753176,0.0018268432091663254,0.00035229786493666776,0.0007818370182865105,-0.0001589969579485827,0.004225122634820083,0.015890385361707633,0.010350616601743126,0.007703605445167977,0.005693466469130988,0.004969810562696201,0.01304962192669895,0.025926920539419102,0.014756812936676094,0.00240266061358636,-0.0055310533842833215,0.011073570365830182,0.013217985585455939,0.004085580303670616,0.004832958010133538,0.008387342189015044,0.00663495952402654,0.006849649785632809,-0.0002385276745419314,0.0012656801548230924,0.0006251992080691245,-0.00043962055678009056,-0.001536315414466534,-0.00022522350298739003,0.0014979179454694257,0.002185703955589925,-0.00038307171093165986,-0.009748229408231354,-0.004076325865200481,-0.0033417859823033727,-0.01737603114175059,-0.004056140513940836,-0.010590486848774854,-0.025490897507328282,-0.009019839754707016,-0.0033365182756654355,-0.0017006370089871744,-0.0014183719312349187,-0.01013553045188963,0.0013758088843268193,0.0010226334080115972,-0.0008857513233650002,-0.007628944074291151,-0.016800591197508864,-0.010958936914883262,-0.005141413336030241,-0.01202049204104576,-0.013925795910747543,-0.013721425791414645,-0.01114169670868344,-0.010936545751344465,-0.010074359783123283,-0.01589758579920961,-0.0019038736188533298,-0.004381258604559509,-0.040500354750896306,-0.007191137173824709,-0.011915632711565845,-0.020623439236011013,-0.05401634568885263,-0.00791554315710533,-0.0022699140124450242,-0.010761936560633893,-0.0029877060976039637,-0.0175226801909185,-0.01141171352725966,-0.014913657204544876,-0.0019123180018053361,-0.022803754906130985,-0.03259787809780177,-0.004987361647487706,-0.0023418863146983182,-0.05251004719865362,-0.016123457860704037,-0.014739712920900108,-0.0010679572526184136,-0.011465011368642633,-0.04762113326984456,0.0009534551065287845,0.012932386536846075,0.007061649170137001,0.005059899980375531,0.011479900293674966,0.006568958005404383,0.005068782971214107,-0.00012706747398973973,-0.0016431920924713465,0.0007069884751072161,0.013691361718491194,0.011833864291745292,0.02411246196667459,0.027724353752311463,0.045491988858882663,0.013016978001104249,0.010395468340802117,0.0032009505886191393,-2.6499440152320243e-05,0.003214593396160157,0.015980148480033297,0.002265815094603797,-0.00804092039143664,-0.012586426446064251,-0.0034037576253993307,-0.0009382497118768119,-0.001096895731610102,-0.0016315054044099245,-0.00782573326717124,-0.003563991142430574,-0.005959170937910731,-0.008465129294601767,-0.0040567028951583066,-0.0025365967795712295,-0.002431376008529137,-0.02201090168914977,-0.07936175607280016,-0.05601503044767942,-0.036251938322664795,-0.025940511689056065,-0.003984046992649214,-0.01565403657194939,-0.016396956052918684,-0.0013095823243177702,-0.0006313006721803881,-0.0025310669657874272,-0.004543203105398909,-0.0517534042436881,-0.00041942480186865915,-0.008344596338899451,-0.017288858658162896,-0.013773248050774728,-0.02371808218722787,-0.018375047813152443,-0.05784183990461777,-0.005572214215768795,-0.0061720132526332525,-0.011729518238656844,-0.009473708002465735,-0.003361775876964413,-0.0007492140998278526,-0.008307139860822732,-0.0011775470993052543,-0.016810416442938743,-0.01600137190293148,-0.005222099167269573,-0.00902914342615303,-0.02124212418647371,-0.03190688607253288,-0.0042513799522192995,-0.007932161730352796,-0.0024973194883037915,-0.0032185734134898944,-0.011434263779303223,-0.013572559593583739,-0.03384030047144963,-0.005017538058740459,-0.059434082003985464,-0.0035124481829252683,-0.000758735439882671,-0.0015777006640056203,-0.011836133010863285,0.0,-0.0017913261767788706,0.007262881557897454,-0.014106349204286424,-0.06518011102200953,-0.0005026127797727786,0.022594465473530664,0.004747952413982835,0.012781586016770749,0.04154254167927107,0.017834883905998605,0.016913363873799367,0.006101063925345161,0.0015954860542502145,0.0034727325516571094,0.007921716644643478,0.01133160512080807,0.022213851831367752,0.021033982830700546,0.04370767943669853,0.0033766433481710605,-4.464220212291993e-05,-0.0037490613738246836,-0.00033799337435311955,0.0101192258708263,0.0,-0.003942021569071296,-0.0042057321127494055,-0.004879163783748557,-0.018555382205593378,3.225296950349522e-05,-0.00047878556209894504,-0.0020882009785088123,-0.009505347461983326,-0.0019326522628888444,-0.0029094710130270307,-0.007430149046279863,-0.0007902435018870054,-0.0007203864249823248,-0.0043611442426147685,-0.021596158434196707,-0.010686017819272687,-0.005697269929927518,0.0005548429825319649,-0.0008061885000127019,0.0,-0.001294625393227008,-0.00232789279069236,-9.955249375136017e-06,0.0006293114926453091,-0.0024370868634418976,-0.0021108824441780885,-0.001723302805855691,-0.0030702692975461154,-0.05937303013399563,-0.005263405293684495,-0.002599292030943407,8.104679295582699e-05,-0.006484708678770199,-0.004569083327170146,-0.0018964990781377622,-0.0016810104652302043,-0.0050775549401531235,-0.011370982432724337,-0.0009199907280973101,0.00127113843215513,0.0022502431923536346,-0.0005847056158225931,-0.025693538638247602,-0.0013437820681386008,0.00011356078159642252,-0.0007524508718475527,-0.0007833189624350054,0.0,-0.000388847798648654,-0.002488744619860465,0.0001236347699370544,-0.00356066666612407,-0.04957657917681304,-0.023203890950356798,0.013657056817472932,0.018767887627483517,0.0004628594434885282,-0.00012837981139789147,-2.276205750760862e-05,-0.0027135871391645275,-0.01317732147901612,-0.014626299540947112,-0.013147318295978297,-0.015925606659464863,-0.022260901077617995,-0.03779329251480694,0.003138201104068492,0.007226454219691039,0.014438466523131422,0.0012404703421496396,0.008450688080611014,0.018057663843463585,0.00774659279954406,0.005648153434385247,-0.020236264857917633,-0.0052270015110690606,0.0031085659383336,0.006333230995112298,0.006127451403075144,-0.04877573918173405,0.0029838811517549912,-0.0021617340225721956,-0.0008336319594314786,-0.0028045455186464672,-0.0015013606665107025,-0.0037554882651679457,-0.010902624794099121,-0.009733340347777054,-0.007446152410801396,-0.0006003729141581394,5.9432689051806826e-05,-0.0030796916507181684,0.0005382583809552175,-0.0012200372789554004,-0.022373120143672036,-0.0015486167264957844,-0.002215328169737366,-0.008729053355529582,-0.0002323669625712317,-0.0005610519511504506,-0.0051547872958528805,-0.017241187044898718,-0.0020502270481384897,0.0022609016272922555,0.0037929844839021676,0.0019856548462042576,0.002851354103777058,0.001617374991919183,-0.010262044369622596,-0.0039586307249368565,0.001718152061987574,-0.0023456565767066397,-0.001841583970153125,-0.001303609009026468,-0.005012651637668828,-0.05303586779145104,-0.0022130604383559815,-0.0007713707099896172,0.0038769287088872484,-0.02911709039451174,-0.0005892737025695077,-0.0006160664626327447,0.0022652889221464116,-0.000488043954132525,-0.002466708464767835,-0.0010254639617980684,0.005224677969243909,0.009851013792701889,-0.016831766899449024,-0.018691445541317506,-0.0016108034281456863,-0.0008873948819791715,0.00010882119128211959,0.0021491437469654956,0.02017923571886008,0.035598117713471884,0.0002709683675573763,0.0001795777184620838,-0.0006546750155288255,-0.020863808197216664,-0.026130913891454534,0.036833463032314794,0.053886629318293855,0.0030114694505603743,0.001632971051813146,-0.00040731114352991695,2.533962910287212e-05,0.016621594630065035,-0.03254765695548709,-0.0020329014350102194,-0.00630698033480797,-0.0015477259811268605,-0.0020901041185022867,0.005782638382201028,0.009702061631178488,0.015305041600320389,0.005007693835667803,0.00251013550612022,0.008807135372507918,0.0006603330842448956,0.004109874607027301,-0.03172733158609062,-0.002387439696831192,0.0072351506661655195,0.0019142365839349815,0.001619470476694324,-0.00853998646937321,-0.0018989356425456762,-0.005250581483401537,0.0,-0.0006686364864155132,-0.002848385997339292,-0.030170862337536946,-0.018274314757466003,-0.009406605766680967,-0.005915084635112614,-0.010052719157142497,-0.0010319458539835911,-0.021603702886821046,-0.0015649715708786823,-0.005764853038600799,-0.004260696094956442,-0.005300064661863607,-0.0012943446491011415,-0.0009480607799530699,-0.0004306500786373057,-0.0006800856006242799,-0.0084412948024886,-0.031499247221036995,-0.0026768728321978855,0.007215619103220433,0.049017624690635676,0.004577615673369066,0.023505566198117618,0.005682837166669535,0.0009942455920367947,-0.0009696023783760393,0.000621301934356406,-0.00015366811531577782,-0.0007341484099655026,-0.0004168342257772766,-0.023936996908725767,-0.0042149000365206265,-0.0049785511447213325,-0.0017392065571547957,-0.002320158612323637,-0.06095194839350592,-0.0006938264917833344,2.113670610816576e-05,0.017933858869957735,0.0012733574743886804,0.0005732209586850619,-0.0008572112805512446,0.0019871973817150966,-0.0022489931196307926,-0.015427757701781257,-0.003012890915764648,-0.002671745009824382,0.0032075687948484514,0.0008942143436451323,0.0071460078934256635,0.007270747131121483,0.04927237868123033,-0.0008743160411501595,-0.0011557550419015537,0.0022645049642339324,-0.0021093918122946855,-0.002782178373505841,3.737749932294275e-05,0.002004346810149064,-1.1488141043041698e-05,0.000798514845532954,0.0026792655998127304,0.0028796381826597254,0.003631300338943889,-0.004823339075370417,0.007014992381355642,0.004244946752187773,0.0071795911611260525,0.0037307362665137686,-0.004622016978408468,0.022598478777210433,0.05306667467865523,0.02309384418177664,0.01088108504249037,0.027848237450641068,0.003986392914532904,0.000936938384469868,0.0010843125823694177,0.002820780967807062,0.03854153176299369,-0.0005081037817473332,0.008919665168608853,-0.0017924313515012488,-0.0007098650228822358,-0.015636694647209945,-0.00010772670449251456,0.0002087080239653275,0.001931548669682564,0.0018619021795285746,0.0018927507492685295,-0.0004359844432836137,-0.001917266936131691,-0.014710215631538771,0.00020488591960691053,-0.0005816486362342161,-0.0005203808021209608,-0.0016781443682532837,-0.0019872355976848447,-0.002076268410309204,-0.00016573309626544675,-0.00014044118680948316,-0.0005389663852331336,0.0013530666350429121,-0.0018197499068798263,-0.00491505342759118,-0.002369958727167328,0.003825493919230987,0.01598892894073617,0.002436222013513341,0.008037363448779639,-0.00032581634782683866,0.002964733055978984,0.0005771638189346247,0.009174072412397311,0.008067203080486805,4.3867681275580985e-05,-0.0004419337742184804,-0.0013283722031630521,-0.002469698071094292,-0.007187929201615699,-0.0008055605303179065,-0.010014118121996818,-0.01655567258974034,0.0001649776784250424,0.001199140272731814,0.0015019724811613443,0.00030004076411518904,0.0007531515165156685,0.003226490446452097,0.0033141425425677246,-0.002602985030804726,-0.008123814637453888,-0.000567620290877958,-0.000549952892908878,8.140355580916395e-05,-0.0014393753334434741,-2.5571124508853246e-05,0.0009934219443522093,0.013438831446825448,-0.00041158219933356627,-0.00024791378585251885,8.522329269874828e-06,-2.7891968941715072e-05,-0.00048302319727208876,-0.0005476268995704696,-0.0005500892592388776,0.0006916563015482201,0.0013256585914360852,0.01717393024816129,0.0008276337337696778,0.10272087535375243,0.011789892992425147,0.0029479150294241603,0.01729632571364538,0.019665229701592523,0.004959849765800866,0.004344130929858344,0.02622062536578884,0.04382816562176441,0.010506836493013087,0.002091337612305173,0.002570921562232828,0.008063437675594259,0.003263455515627888,0.06457152193928063,0.008576855888683692,0.002120161560754295,-0.006020107778972507,0.0022919081882882063,-0.0009618194655821783,-0.0010376336614603668,-0.013491290724752044,-0.0011277513251729987,0.0018913012801775586,0.004770943619998043,0.005301994636318732,0.0021018463917104875,0.0011977306729741891,-0.0001153014193366106,-0.00030261810338407067,0.006513069746640412,0.00491614205620055,0.001391242069115946,0.0010343001925457542,0.00011384434538099896,0.0037562701626665564,0.0058018556490067414,0.0029127735792780106,-0.0018200521254369824,0.0011843126034087731,0.0007236911618755395,0.0003358950722420942,-0.0002949953333974871,0.004819254128106976,0.003422769199593499,0.0021995676470737044,-0.0035063746343803243,-0.0014327683781679165,0.0010249419351382467,-0.0015264589605198202,0.004442172362090889,0.007957467015244328,0.0021909680201980513,0.0030362474692144166,0.005534729206567137,-0.00030075775858752924,-0.00036100107544179025,-0.0004571016635829777,-0.0010293536480711267,-0.0004806466163382462,-0.0010944064723892402,-0.0001868952185345135,0.002112568636849212,0.010409266778396787,0.0016436333076223018,0.007647834591913183,0.0017489593962891168,-0.0006763161882167185,-0.017805973246463214,0.000598440601272191,-0.001767059690749335,-0.0020250546040194327,-0.0022066969257945016,0.0027833207876753006,0.003523286103631078,0.0011616550356550103,0.0012497776468382911,0.0010036191836647898,-0.0005630051622363921,0.00037051140048499387,-0.001441284077340685,-0.0006835588486896383,0.00043512855721810744,0.00626121982933251,0.0008060697338532772,0.005375810612778148,0.00440481611309767,0.24642137534335784,0.01744756122482148,0.005389333060333549,-0.0012925248457424728,-0.0006629851113814941,0.0018142317595543534,0.005288402195993856,0.009700008459241143,0.01652974073873125,0.0018669379843401265,-0.0013163344313055164,-0.000411765547397748,0.0001738112202042934,-8.996313976700348e-05,0.005178175746548475,-0.0005638987628704947,-0.003010744926352761,-0.021918626656582386,0.0025014777001435965,-0.004426719457637089,-0.0038853890721304075,-0.0016899142042207836,0.0007696952016497083,0.004662912994373139,0.006681439812423513,0.003596925541624579,0.004394539309496437,-0.0008289086611706396,-0.0009636172109920272,-4.602902216983668e-05,0.005377283163015983,0.009597981247580668,0.015009803857243102,0.005587532436355142,0.00458211607743738,0.007004875580537626,0.01287217494871604,0.009811946472025905,0.0020473800317759466,0.004992548536641859,0.006482255292370574,0.010038442517639395,-0.0009070909610067714,0.003443651047877271,0.008529882969702184,0.0030922357188374896,-0.051149602920377575,0.002881760966274939,-0.0004664699136397446,-0.009301826701649479,0.0012688883260115972,0.00029316529960098005,0.008424060490922362,0.006613662022412977,0.020729841514454433,0.013979970697357185,0.0028923973615426527,0.0024924104923191876,0.0010975986708453064,0.0040848146335566386,0.00011187635511488196,0.0014829764071378523,0.002538572527840222,0.018873771420451824,0.004639722220613665,0.0008566297501754926,-0.01080561586286823,0.0009107643151346723,0.0026937457454404108,0.001302812048612643,-0.0075908247137040355,0.001220740482447541,0.0009573866986924365,0.012156963624468936,0.013549035252724398,0.003653560319220019,0.004949397912836275,-0.0014762459489084713,-0.0004356537614274135,0.0005681180447288185,-0.0018703483164593216,0.0012703148160311995,0.009224592610871135,0.0031183299254852353,-0.0013579123449898771,0.002420695023319396,0.009481205518379159,0.13265253215991357,0.010115476989052501,0.018827558749687823,-0.027740468355008895,-0.0034040563061987455,0.006132804274420669,0.015840497460360477,0.019005789646592653,0.008488628828256548,-0.0599644868020826,0.002773041551541708,0.0014511389593318553,-0.0008286433735866051,0.0006325709567751014,0.001969601932548131,-0.0035630047843693397,0.003200263296957295,-0.00025199472820248465,0.004393670543651108,0.002021498727290692,-0.000794876556926573,0.007618778423321054,0.007015053170185239,0.005147173652597813,0.010006362268986251,0.008628634696555669,-0.004773281417196318,-0.019934565316705836,0.007545969297539564,0.005091793401138429,0.01041567653478343,0.009063771235699045,0.008083430227336893,0.007571219148209951,0.008510949951916374,0.005798689565479943,0.004814341358449206,0.011980699895499432,0.017300720077476323,0.013648915311984894,0.037128487512400145,0.01948285967811787,0.002534908534228047,0.0034151738589678566,0.029837704029550223,0.016121865512353468,0.014807263010318072,0.018608944794153506,0.0018122106953311276,-0.002888794927549191,0.006407697174014806,-0.023804396772718412,0.012521678426068368,0.00046131834828911993,0.014934004460973467,0.011730606482192272,0.0020640486085556353,0.002183614753307579,0.003559188060120723,0.0122848202186928,0.0024011702681987733,0.015043699430270514,0.013504729842849022,0.005835572476821712,0.0038961136938034206,-0.0094299476731432,-0.03189114121274745,-0.0014012627271795788,0.008580127603744745,0.0031539787660949574,0.004476246781950166,0.005156595538014534,0.004311735641996799,0.015547954459843642,0.016260578706276396,0.007317172830987802,0.008046512552418216,0.002248053427925311,0.0009564596196034452,0.009004417305621135,0.01592545849491473,0.007893635115750615,0.011691614369857746,-0.0026533842465585812,-0.0017458838033548023,0.003955915166761866,0.008623666298666963,0.22768949712109846,-0.008651951906401452,0.025676147287791235,-0.02952349348532367,-0.0007058310419048093,0.021380132244945126,0.025008905949530834,0.025172862929837753,0.005109508515163338,-0.03710988258398881,0.01179556185244647,0.008226021861151313,0.0012166399361554204,0.005701254242338378,0.00718606349619592,0.009335991554716216,0.013254691906011123,0.013268970286852387,0.016676813064924485,0.01700766511610437,0.009634420622397931,0.01138828453322409,0.018548700552395946,0.022477000107066547,0.010909711479146475,0.009868828956389642,0.007400110233331976,0.0062246768539212,0.008569576208040252,0.013476642448852801,0.024421853623563517,0.007887527672442388,0.010569051729842103,0.007099025797547842,0.013001868624326418,-0.00638763467960439,0.0018197908944269099,0.003437229073795444,0.023920108773550317,0.013380904990976715,0.037056528585611,0.0,0.0007880511187432547,0.008316345921555727,0.026694306068856116,0.01870372370826679,0.0201491349332724,0.031153165668921616,0.017094526023835856,0.015347627006992699,0.006175952624369369,0.004677294589142662,0.008293115031711259,5.6507544930267515e-05,0.011416717464565579,0.0005896738250565587,0.0028077901914256025,0.0031540611563685554,-0.0013179546888381875,-0.0038399749920113983,0.0044785018996319394,0.007561881157092838,0.013644447941936895,0.007601126091343596,0.0008625881929535421,0.007335008578829746,0.003968805272372647,0.0027899368879829183,0.0014973188038510225,0.003377353453467399,0.01107537521147256,0.007860820824400965,0.003473484409584834,0.003437135845947959,0.00722863108026448,0.0042530333834519705,0.006763478321831997,0.017676246668738942,0.008100179110423312,0.008149818043992499,0.012578143953681878,-0.0004685935283299621,0.0059327062347208255,0.0004136480487179635,0.0011139901989828877,0.0024423034948308615,0.004571087742687149,0.12756289490446712,0.05233902062939193,0.030545548615787784,-0.01676123272366568,0.00014722472199011662,0.015228142214130427,-0.00093049984548407,0.02035581550468865,0.02234850126922615,0.018452266953795315,0.019824986092417056,0.02067755222586761,0.020133282320630178,0.035300600121349085,0.04034525892542033,0.09342009733133359,0.025391316249236576,0.019164113954092867,0.02172867473584473,0.018912504231571484,0.016422723902935466,0.015386742642023202,0.020338053254962143,0.018835381303315156,0.01675729865713875,0.009726582571676511,0.030237964274313082,0.030912226178240416,0.007306925393758678,0.02206486782997749,0.017186058963752367,0.005281221897550959,0.020178042160153894,0.011113074418841691,0.003789390893908324,0.00013215111753504518,0.004464673783153683,0.010747552877468114,0.024452340294985112,0.018063135924279144,0.014917366022178961,-0.02376443147972555,0.001068247483055508,0.0039150202583366255,0.00881118039908404,0.011434702478597366,0.008877779691682644,0.007516957646743212,0.008669434983426235,0.010771832017278535,0.001098740278755907,0.003635137033239235,-0.008024420539665221,0.02020077978490633,0.013600355127706146,0.007309261420522092,0.0008444714067814919,-0.008631182120953748,-0.02817044940207942,-0.03321556617695647,0.003383294782009212,0.008045886015806145,0.010568007495981219,0.006941671595042737,0.007936660168660837,0.04135479332931497,0.04453761486916104,0.010969002188493289,0.0037295488601125815,0.00714361010554918,0.022720711915728053,0.01759846175439487,0.0018608214852981048,-0.015601909210017615,0.014900612829554766,0.00902512003777874,0.012539304914949057,0.03133150855165136,0.04337673587806148,0.015182412447911,0.01482902371214277,-0.035730045738881853,-0.0007298351580941885,0.006020617978249162,0.02170186986450345,0.005330405040973017,0.008276181873689337,0.27353624025299667,0.08302896899374239,0.061805683355856345,0.006225319555541564,0.00884488701860888,0.018998193663290853,0.027401126236626182,0.024256481485386,0.027779159148584052,0.025094437451423875,0.02285186414816005,0.019606031537042896,0.016361801606668985,0.04879854545404617,0.049790653269556104,0.02782556657624766,0.01607730387487091,0.021944839254251013,0.020585209844684052,0.018425790363225898,0.020154061639575793,0.015022037264148356,0.015580235865811087,0.0060957019004617185,0.017437308125352824,0.002286754989865249,0.021136570663659617,0.026210411732126966,0.02391054763007648,0.03169244730299801,2.1733356377108247e-05,0.0030385243219028506,0.016358835019041944,0.011652696986095301,0.10609338457322623,0.0737237346840797,0.032055370417448686,0.016622351204780186,0.029923172472096277,0.006640951710460334,0.010444731691202172,0.013521084283243447,0.0035839137422523995,0.027445635587813957,0.010135440843226193,0.008600520087932603,0.027076355986779658,-0.02361038138423848,0.015399934340321442,0.014264106890808533,0.029142098078095136,0.007691862102456398,0.009863125323290731,0.01855879152404284,0.01732266091645539,0.009368026376719844,0.010049322549897316,-0.0004327465009776524,0.016264649298721286,0.014545002662531562,0.015753065202257673,0.03517596648501,0.019503444083676394,0.03843786621948062,0.10692854048848568,0.011796468939443222,0.003180653014430995,-0.024865243470878914,0.014831640674620554,0.13491303016794032,0.0820014308454376,0.05655673785603496,0.006659875645071078,0.026024130241546622,0.027256917813801778,0.04684637811539025,0.04164256092691349,0.02159908412514858,0.05574335201940159,0.09557112465314113,0.04946909724241248,0.030339108988085048,0.02178827715847143,0.08056315618122133,0.051557929056715704,0.01582051537818685,0.013802686410359253,0.3843644512966226,0.04105539152675062,0.03757351636736594,0.01031112160786926,0.054484887613727204,0.024035300028450807,0.034858329555484825,0.029871268428044696,0.026208724677093637,0.024795155562074105,0.016900989309405673,0.021912309594830932,0.023025997443009278,0.04493258600860836,0.026924729595728034,0.018347006101147666,0.016520330619474905,0.018986707494155524,0.019696660471777875,0.01484712914363279,0.01184122459170217,0.006902578454638452,0.020978118934193414,0.023208419052105512,0.016164230549406758,-0.009412833595549725,0.10455528963349776,0.04987428133077764,0.04143426697176086,0.04402173793093281,0.04257933271381021,0.012533150386817562,0.02419002295023425,0.049788475969164275,0.04138445797192909,0.053839200125499594,0.03865127032393027,0.02924130757964377,0.04867731367052669,0.02370116052275354,0.05968330137288803,0.08119282663933451,0.0550315640974506,0.1350149037317294,0.09317828553478633,0.03265518732527485,0.14518272627855872,0.0555976932478281,0.06559579309360893,0.018668378806715884,0.025218554574981508,0.025548010804231573,0.13602305372927828,0.04421919118972015,0.04654832903410251,0.042529357265883964,0.04547057653975387,0.03805191403580289,0.07207015732040614,0.12565886114597397,0.05778166374576111,0.03387930406548882,0.05478810187932395,0.16576590064069996,0.13813215439991575,0.028831663978869396,0.015488791849154002,-0.030576120431967464,0.014550696110797704,0.01607615063068328,0.045196612573978806,0.017297730744765673,0.028466962297854715,0.04607046293551152,0.0664599689501491,0.08933172848808656,0.11518086753630295,0.013680512171180862,0.06534333832333565,0.11078716396239197,0.09761427523664512,0.0842837477982736,0.026000585608799864,0.009674579373019982,0.015346249093456341,0.025701899328842974,0.017765922857909816,0.2886943755888972,-0.004006236114628175,-0.018549839058896515,0.0029046333146089108,0.005133870469148215,0.01028682727517204,0.037290087481147434,0.031368440395945295,0.013134265927911575,-0.005348098557930666,0.01462277256985622,0.00851290843192995,0.04215850353026934,0.013309080193952442,0.01417820004992141,0.019399539358766902,0.021036749944106817,0.02548790754717372,0.023345808100952933,0.02607595955468225,0.0025883985570709185,0.0037285233293201025,0.026421339445066385,0.07272825153067654,0.01539708766539148,0.015395134232335425,0.08355666719809382,0.02429876464757986,0.018810496908162253,0.04074649528113837,0.041039655954406444,-0.012327700699421231,0.026370142508597323,0.04265314161565882,0.01123996220092023,0.011795745432593228,0.017702076743094836,0.06373885806442062,0.15006016467983713,0.051844057954674345,0.02675502920782314,0.022279585593121164,0.03473440532753948,0.023313775273012403,0.027126639223363204,0.027538578996728597,0.02709977247501743,0.012721765548505914,0.004710235602578092,0.014913428421820342,0.08072816407311557,0.028951094122190088,0.017875406887560938,0.01835806494805937,0.006360237094405576,0.0,0.008263644673526667,0.012730519691581515,0.02397418260506576,0.02427404303144278,0.028737014067601267,0.030507479096308705,0.06952246045053312,0.04210140340496184,0.02828914551613727,0.019346220917335257,0.023860748430668467,-0.005303464130858067,0.0026473380146382077,0.004996005168450338,0.04093111949827992,0.005200069732004893,0.016969519765547662,0.10170793629380077,0.02129115204364574,0.016583741071442934,0.014064423439288785,0.0249992859915673,0.07073354277559712,0.06199909819471316,0.02479500183109441,0.007930925488602704,-0.002123226034569377,-0.0002219105558668206,0.007999464164136539,0.029663870420806746,0.004763133869856599,0.09582777870167736,-0.0019081836310383528,-0.014824858219225022,-0.001924908269469794,-0.03268115745513649,-0.00036193004809623083,0.027063673165142407,0.031624982003649584,0.011801911889435534,0.008377874268038788,0.0042973797061850744,-0.0004296747743805021,0.0009544025565434263,-0.0007508833143525794,0.0020799825209786875,0.007096386061425442,0.014691259122979375,0.02599620751244137,0.023289683256221484,0.01716231878780405,0.005483190083175781,0.0007805203788924524,0.002084637240692234,0.007211216578822749,0.014106718651618139,0.0027159771975237253,0.001998369430632907,-0.01696451728781667,0.0007802569374361165,0.005597939852081609,-0.0059376255603253,-0.009341035544877904,-0.002768026669662353,0.0013527342801640005,0.001456791375989147,0.0031825724229378686,-0.0035875413425767817,0.0017511636360876294,0.012959194998089106,0.07448270171800184,0.002410817203286041,0.00013968031724363158,0.0007578035467381755,-0.001430847265613644,-0.0032524668900031236,-0.002886409552572735,-0.005381433667670366,-0.016747736182456455,-0.005262293017360975,-0.0028113029653845795,0.0061313857473175104,-0.001223928831540116,-0.005908687985878462,-0.0017177919555287067,-0.006043876219788254,-0.003651456672923791,-7.374897790486555e-05,-0.0007554352412766992,0.0022552762240068253,-0.0024363207594375663,0.0016751809783180581,0.019001037544666755,0.030998174745246347,-0.0042971586729929016,-0.02363171921600563,0.0020457195628389006,0.01259800111260655,0.005908931935785301,-0.003222904123952894,-0.0549898784477838,0.0011222562118052913,0.023001540186414825,0.00034838065072586644,0.012637948408630695,-0.0004289844576670133,-0.009572213687649276,-0.02622056814251909,0.0008408831271812426,0.007448366461668355,0.011076520458169623,-4.975089278515345e-05,-0.029140869267699803,-0.0037978100731531766,-0.0017208203679358843,-0.0013138785881808054,-0.002154972264967212,-0.0027808466824033795,-0.0018124657234613142,-0.2978957885106652,-0.04926889763583141,-0.06926950861528093,-0.04635793966825854,-0.01497549761826716,-0.008302077347524736,0.016186495117055916,0.03422214037398446,0.0002988860536448468,-0.004698543076486064,-0.002614965445504764,-0.003995034703860843,-0.0043001968491001505,-0.006449077414249663,-0.0035699638104149316,0.002579821231681342,-0.0017444993108107257,-0.0020554680626940227,-0.0026795456802792923,-0.006964362544918301,-0.008801624556874076,-0.010914420023954197,-0.0018729129277836013,0.004271514829611924,0.0003445011322657972,-0.03122939334902803,-0.05532884020951092,-0.005659683865157862,-0.0005633339881765602,-0.006194390086245613,-0.0038662174612417994,-0.005294391122217207,-0.004183179070355556,-0.002257956401099334,-0.010306199034434147,-0.010549195573345917,-0.054912211117514154,-0.012910816501948202,-0.025778560534102796,-0.003995635117613253,-0.003994905911318299,-0.008116212118626318,-0.0055630152182017875,-0.004528781578434925,-0.007549902482129854,-0.1027490888938836,-0.05840071470986657,-0.013797505492255759,-0.020351032776354572,-0.01312549547417223,-0.05221736941280539,-0.00670480585160614,-0.005357470958150121,-0.000661800322912738,-0.001532397059466724,-0.0032953383671730525,-0.010857226498146223,-0.002425324695094975,-0.002917489953041533,-0.005706927217107733,-0.020035375259915528,-0.010165477449631597,-0.026679662162405537,-0.12297239410807308,-0.014798877413993196,0.0018010081753939784,0.0027378056737856933,-0.004872317243419382,-0.09673026469223686,-0.01426544723451069,0.0004720825450959619,-0.01025860960413805,-0.0047231690616761765,-0.008638633993171024,-0.028037574919479124,-0.031525241524507766,-0.03896795005813904,-0.007459818880010285,0.000888306996715273,-0.010543794328981209,-0.04992362990324262,-0.006034214037674842,-0.005815536838518663,-0.008857335684612347,-0.024009241043873756,-0.008160143571316954,-0.010258239884411394,-0.07573995169987555,-0.011605145212788374,-0.18428130397247455,-0.01770147869760139,0.007883498258503877,-0.023579895106448027,-0.005322777218576256,0.011512130259922591,0.13065965662721585,-0.016644028718223153,-0.0005210553194110402,-0.0050165733782947764,-0.004505154961724688,-0.016421257043968514,-0.025840441441079928,0.00134854357572601,-0.0029391959966338158,0.0009631295724020755,-0.00048476230506953655,0.00045264783929631347,-0.026795931898783036,-0.05296975070655448,-0.004320946117123497,-0.0014733356271537002,-0.014448799617321331,-0.07227774458644863,-0.007826051930804635,-0.013644992684422189,-0.003775623323613484,-0.012720126187658535,-0.020818949344045174,-0.011323483437669233,-0.01966454083195894,-0.00850472559851553,-0.009780000885987865,-0.014552895892960094,-0.02496686444895883,-0.02703209204448163,-0.06415818972013448,-0.006079116808494888,-0.03316582483302349,-0.0045507689853470585,-0.0061988330243055,-0.007129614099041503,0.002159704334887084,-0.0032813665134070686,-0.017469044372147743,-0.03119629723376069,-0.006909099736819096,-0.008277765523401044,-0.01512074902313894,-0.00566287887984855,-0.0037366897692736097,-0.0033870618237197897,-0.00030026656114316415,-0.06372180417900097,-0.018933355469973587,-0.002086430989652613,-0.0025026403944308855,-0.017257802393394413,-0.08029384322704786,-0.02087256855729378,-0.050359864540892724,-0.03204321924718968,-0.010036160939780724,-0.0007416066274518156,-0.0054937301314704635,-0.006774179369861599,0.0025375895629927286,-0.004916851149136662,-0.0031091064855783635,-0.0053420307338383315,-0.11798828213627553,-0.005656696772768909,-0.01754392669554232,-0.019807532361359285,-0.028419891451539885,-0.0071716378710102785,-0.012329856825091452,-0.0452459117584147,-0.03768949495832662,-0.06900844310714008,-0.007616684982450064,-0.004368365260188746,-0.016383404406572984,-0.014592431873987911,0.03900665413751095,-0.04534878769929356,-0.003106612850813386,-0.005524210941049572,-0.004423003560304637,0.002242198929013399,-0.0009253700412359,0.0011692160116869642,-0.007793467354038326,0.002278175198107007,-0.0029886855019860153,0.003099872939071146,-0.009171819813261047,-0.01562799480807374,-0.009130278479064724,-0.021480877222041162,1.3695731164871045e-05,-0.0025478881554137508,0.06527397525025941,-0.0016545210885290937,0.004840841867160551,-0.011729920442937015,-0.04734856708492755,-0.011116137627841121,-0.08290078096359092,-0.025940406752128598,-0.014458236282543575,-0.0018589014199381375,-0.0032268362472478865,-0.0017879599060054545,-0.051059203789793305,-0.017332744179926102,-0.008442200213100357,-0.0038637512167898126,-0.008956871464261464,-0.021534854631829397,-0.03232433266944187,-0.02320348570027922,-0.01589242946286278,-0.018605300897723002,-0.01098614117978939,-0.022369765853169625,-0.013944634963322416,-0.005236259651086517,-0.0080320868151539,-0.003928639026741458,-0.0024629191489469212,-0.011657893742513923,-0.04353198610495457,0.002018056584067437,0.05306772277752494,-0.0030410553487909184,-0.00739205062342117,-0.0038321305334449336,-0.0016298084507604972,0.003640701480490109,-0.018342392755549962,-0.011842579115609604,-0.00035773248673605916,0.0012187533769604587,-0.005089942188726281,-0.035511930220978316,-0.016239421899264514,-0.059095370827238425,-0.026602934968523104,-0.002020125267828079,-0.0028663061954892896,-0.004172551000243085,-0.003330061758234175,0.003230582035248623,-0.004697082571293282,-0.0038360780834109393,0.006386290689518578,-0.002183717839910525,-0.004130439496188716,-0.011750766350632519,-0.021166515379695373,-0.029289891964319192,-0.010887200188809355,-0.015487084885807849,-0.015380633827401027,-0.023165051744688595,-0.06705447522593996,-0.03182939705046858,-0.004077809520471021,-0.01387902142559504,-0.007891320662408063,0.015295671057591364,-0.028390983469540592,-0.009094553869473535,0.0046477217710825915,-0.002718082236372062,-0.05429829245010911,-0.007034692109737714,-0.00752773591512437,-0.06829349375882869,-0.0438983664994992,-0.00423265933390483,-0.008490911905015946,-0.007789262304995774,-0.02945699390420328,-0.003402863679992271,-0.005280594637354529,-0.014648738056352905,0.004705069151021648,0.008441220134221954,-0.000812289023249153,0.003233495168717115,-0.0023366860634418504,-0.0006012297039617753,-0.0032071826002112863,-0.002620175718529308,-0.0011608863918219033,-0.00687022192290129,-0.004806178328436397,0.01692347852464129,0.011722933276304349,-0.01567325273563631,-0.0034818373378793107,-0.000880132285611042,-0.0005509567518828864,0.002295379194114429,-0.0042294839715188385,-0.04065615167186282,-0.004063243709200983,-0.011789192204372096,-0.015672833858552056,-0.010588899418941575,-0.01397251519047418,-0.016994226421300804,-0.006224098938895798,0.005480889576180952,-0.0049293774621734345,-0.006915656044395739,-0.00991365498622724,-0.006323371683141564,-0.003961762883528693,0.15149459777932323,0.0037007906519482773,-0.004950135969683009,-0.006086663852838821,-0.00600586666223489,-0.014814267565283458,-0.0048244351833833625,-0.011914022000444315,-0.005243078553648351,-0.0008882856695728317,-0.007113327645361669,-0.016367727336747614,-0.022944824534391322,-0.053446815971849235,-0.00020636794809497387,0.0067879497111246224,0.0030436978539937565,0.004267739914165226,-0.004666050960951408,-0.0019312128651480876,-0.005300978680978084,-0.004196938539023596,0.006966425828124196,-0.00364328998401339,-0.003677298097210049,-0.007555261844906427,-0.005305977241979925,-0.0006236335340241744,-0.028687140374197912,-0.0073833026939921186,-0.0007652977720489412,-0.008291144247467621,-0.010356760000687363,-0.04916744061369998,-0.01738983345974042,-0.0059189049791306516,-0.006505638638980259,-0.05719928744502782,0.15331008808625854,0.14619798101628,-0.005313747285211682,0.00011802442602159773,-0.04670031049186533,-0.018982702758505127,-0.0878107152814689,0.005141993886139613,-0.01270211469723967,-0.01902106827383064,-0.004745168646772105,-0.0032126011377607813,-0.038579591141178295,-0.004893053933221058,-0.003171971745094375,-0.014927729888684075,0.009930586411558898,0.008605326286016178,0.000112416313237403,0.05087178218368597,-0.0021885695725344764,0.01677796989898851,0.0018227286550304852,0.03224071077137899,-0.0011278555926881701,-0.012867067375418836,-0.0028767769735832324,-0.009662595525542857,-0.010438522710190697,-0.0009553928196100898,-0.00211253417652422,-0.008451403136483461,-0.01025164697572871,0.015591569288381102,-0.002544190207396522,-0.007062210894118721,0.012876640895400079,-0.02509310205266732,-0.020155243229106983,-0.005361417043151524,-0.015182478828667134,-0.004849741146299472,-0.0010819861466235107,-0.0006876297535606604,0.00484112647396661,-0.016394288732985613,-0.0542849691044998,-0.015610043035776825,-0.00298789509640259,0.010581906219802182,-0.0002791984372739591,-0.001423919229979184,-0.002350948778192313,-0.021051878219755234,-0.01950342458404665,-0.012787166122508596,-0.03816103494369434,-0.0002134464139056231,-0.0013432677392134391,-0.00918408649629042,-0.0020753105490562834,-0.0009222202672069786,-0.004293235831940985,-0.018207785391315148,-0.00203996108812505,0.014668796922699677,0.004605739310521398,0.005736326448470037,-0.021445878517171536,-0.02465230436359935,-0.00643881726521338,-0.004303943522759161,-0.004460111402339038,-0.004498482521017961,-0.01726234083047209,-0.004377784679562366,0.055158844230434594,-0.0007139847068367666,-0.038747937655446776,-0.02943064704084567,-0.004839326325988649,-0.017661325560932733,-0.02065331754333527,-0.019255110423112128,-0.0028747080065682135,-0.003552139209716813,-0.05286201489049209,0.02044327255243455,0.12273662703992998,0.014508711463252114,-0.01299212170668327,-0.03510033014344175,-0.027299635911762026,-0.027484676742703065,0.03197045358217334,-0.008763502564848546,-0.02715026391142713,-0.004967150059142247,-0.005631250249536916,-0.03865872591558343,-0.021828417051065828,-0.023741589620451697,-0.023512857552849396,-0.012023758956875888,0.04316449577856934,-0.0010940651014135219,0.014948648658641329,-0.007045878876826042,-0.03689822769213173,-0.012207657585082254,-0.006489831432403331,-0.010644570299038954,-0.005554158882011641,-0.035166542200644815,-0.058582232792328624,-0.03395439691805156,-0.008920230505631966,0.00997867249786166,-0.02415289925643374,-0.057883386647679544,-0.012825938437265693,-0.011303837829028803,-0.014984729110420257,0.00041129315950693383,-0.02228066536984785,-0.05664688579262849,-0.01931576963057667,-0.043387057826705794,-0.021942598563322396,-0.013873709059047298,-0.028988577662897582,-0.012482499001367045,-0.0037514243888565274,-0.07924780555155107,-0.030871400136707763,-0.010216188109075494,-0.005209294553602959,-0.012211331452442995,-0.015510626362862627,-0.004028883409584875,-0.023117200917009036,-0.027691137800582796,-0.062226699024265655,-0.024899023461456234,0.011680501682999155,-0.008104169267708508,-0.04995508696236753,0.004281349845759101,-0.017093773419270878,-0.026404147917170658,-0.07005244527856648,-0.11476628038252601,-0.005467591791570282,-0.02306461861463226,-0.015713455693878147,-0.0182394049756031,-0.03168302008271289,-0.01113648622988889,-0.03510839016150369,-0.016842310307402873,-0.02320868001242767,-0.12997785569263234,-0.019208122325751545,-0.017277803964636924,-0.03935046562143549,-0.03376749629374433,-0.05840417761661207,-0.019478766593912056,-0.019759767928601023,-0.017595368934955145,-0.027949130135646028,-0.021467827753141787,-0.013473270987611198,-0.3505513607624683,-0.21211584582781912,-0.04735209081392441,0.0789530565184954,-0.02943704707453011,-0.06613371720570713,-0.019635219496312587,-0.029162730413086015,-0.020573653743603537,0.07464748742802552,-0.035047615297059166,-0.05629093926094416,-0.02999516350114555,-0.02682638050144449,-0.09620743132293316,-0.03380993544463771,-0.03866563078929725,-0.03405740212214136,-0.005897065967519458,-0.003934818214570182,-0.003595341048061429,-0.0495658892132166,-0.04201368455570433,-0.0671671486516877,-0.0237851776865503,-0.043230378658825924,-0.012321863937668629,-0.056753871858135914,-0.0514359078490707,-0.02538398288600029,-0.016662048276528375,-0.023097273284909934,-0.06628679502131975,-0.06569574876214898,-0.03923072400338081,-0.018887064300162272,-0.12140977394920753,-0.052938296187587365,-0.13153392190554486,-0.05346563176483359,-0.03275140845966264,-0.07843750516021143,-0.03797396720029903,-0.038303136765068045,-0.07896566888282736,-0.03683790203660094,-0.022708610323335553,-0.08912107197363459,-0.0140955865541278,-0.018220533597857237,0.017789173504184002,-0.011767856613073283,-0.06281054614994364,-0.055264536544550304,-0.05015619281737228,-0.0854487676531153,-0.055060704839684504,-0.034301882945838344,-0.0100632445625617,-0.04343860831500338,-0.02746702504858286,-0.017023921432810174,-0.05056084529091779,-0.13063196932654017,-0.04681746027964839,-0.3076992402559155,-0.04732267741649359,-0.07571562479741989,-0.04349353771326649,-0.024016970328530483,-0.03236447610887514,-0.04371410567958524,-0.237582682946893,-0.04486007517658176,-0.027842797257569954,-0.08741809258711927,-0.06610342909325563,-0.09257451834640733,-0.26321797395122276,-0.28654436473022615,-0.08744396008864426,-0.04942339870347256,-0.02975980171279698,-0.04107990902421881,-0.2901164983098472,-0.046129574127618485,-0.039090815026803165,-0.22524188043203716,-0.40391040439226084,-0.062193490700172036,-0.01929728954082864,-0.007837022962155075,-0.04054986083684873,-0.02027446747913995,-0.05167742474270546,-0.06310705346668907,-0.061195866988817224,-0.09819988971153984,-0.04141328898736003,-0.014992973022757518,-0.024548148796098252,-0.14126261034229853,-0.08910474815951627,-0.26278905983228235,-0.047705121937144414,-0.03438298173689297,-0.022196910475997676,-0.0006708589779557426,-0.041926338234447594,-0.006260588173933499,-0.004401218238387206,-0.04718089668231308,-0.019416831593319046,-0.025998751810789533,-0.0551205069758233,-0.023199967329711836,-0.007468509894300617,-0.031820079075839044,-0.04724813179262978,-0.0469854370769904,-0.08670196789343144,-0.10851640506200093,-0.03039129912289135,-0.038641330786344526,-0.03603795399945837,-0.18917625034797786,-0.03329703996700759,-0.023646448592559648,-0.02692243928622954,-0.07633121923442596,-0.033136820844662414,-0.029975365487441664,-0.04506829588861276,-0.11060888611354502,-0.08189232326012591,-0.027229718600923405,-0.03703062734163091,-0.002414478741487261,-0.05639893875955586,-0.21743044166662961,-0.261437552270952,-0.05848641003364412,-0.07260990000108153,-0.0873369311018335,-0.03946542486661865,-0.031021869980672127,-0.005169331345404933,-0.004676356784340201,-0.05147451860797204,-0.20930562584233336,-0.03507101177105899,-0.036470597072867345,-0.0788285795417314,-0.021348549716717492,-0.061152159664678025,-0.06954506273564122,-0.07615073479495377,-0.034429658693311,-0.09734477800922735,-0.1353233197792222,-0.12093961988537368,-0.022670770630000885,-0.10016990870821972,-0.06253971352424202,-0.06460658517629513,-0.17863800601841792,-0.04871204702930488,-0.08365533404897063,-0.024235915569333962,-0.032969473825214424,-0.0509659297646567,-0.10394941081560496,-0.05182737339665404,-0.08493741744825978,-0.07937263787992828,-0.20491766869837838,-0.026377068532987085,-0.015849821091035072,-0.009043664765964663,-0.02871207883218387,-0.012128839778738687,-0.0265700641321711,-0.041015777755878335,-0.0637360912421586,-0.10852761460841048,-0.0116225939956434,0.006942870463290547,-0.011969269890235374,-0.022544249066764808,-0.09086301161521096,-0.04335221905599337,-0.035690466921464416,-0.023895944926547036,-0.01096321662127379,0.04472980228236844,0.043442370043143524,0.003338923463605364,-0.005475698569125243,-0.02537521428174371,-0.0027685724617645467,-0.0204177107366713,-0.024233100599286305,-0.009509172025108637,0.004754329572788341,-0.10141518565732646,-0.021045341368916625,-0.024586704500641713,-0.018737425916997244,-0.10345746724040959,-0.040076379678788444,-0.008488004246816101,-0.004806075236114822,-0.09229571709273915,-0.020137902359713602,-0.009013149290075113,-0.025353004758322202,-0.025366671194941293,-0.018848259429717962,-0.014896023211482355,-0.06643720796136397,-0.04591923610059411,-0.0039387729298138874,-0.05950088232299724,-0.03331363404288646,-0.020680626968012827,-0.01105978948314968,-0.08997260675181336,-0.1049574390453387,-0.007924694259374032,-0.00830640477143719,-0.03493090602556359,-0.017966946001726845,0.00951752884643746,-0.0030950363165211433,-0.006490674870852395,-0.04463726260616211,-0.0148788339326126,-0.0010619024477177515,0.00276997413160716,-0.028878216984592905,-0.0020149345027886266,-0.009385911035572325,-0.0447523939065297,-0.017998951483416955,0.005576509209588056,0.005183924393881284,-0.04549210564586422,-0.02003761597240812,-0.001025707680174608,-0.014207517069476741,-0.019866405358159308,-0.20989189634179242,-0.1367673463491134,-0.01941797187804402,-0.006293017440588316,-0.027427556574678637,-0.021188202420368223,-0.03340960645251977,-0.02623316352127069,-0.021617853300163286,-0.03412636556359586,-0.05770401399785361,-0.15600215954568772,-0.11923904197422422,0.039291581561763024,-0.0174360634374205,-0.014889873316526846,-0.00547901344734841,0.035294714496928066,0.007717844531132894,0.0,0.012277793790001448,-0.006497731300639561,-0.0009354165380489689,-0.006656505835045597,-0.012751186346900487,-0.002546970217430528,-0.02463861560188216,-0.04508387825765422,-0.043795668640856614,-0.027588183391453084,-0.021793523190493942,0.012779661184848507,0.030994607482152377,-0.005743876285381555,-0.012629607123885644,0.004024495245258558,-0.018908289977015505,0.0003191826853470076,0.049284879753994704,0.0030600065461667382,-0.03705756270751754,-0.01619538000769082,0.07960375785578157,-0.005337287207126184,-0.005936520357974244,-0.016171328483561787,-0.00605564683435947,0.01876212651786913,0.014646869110528059,-0.008234634336462964,-0.012196582806885152,-0.028128957816846965,-0.0075679941055526645,-0.018523567294272854,-0.01056335314508282,-0.04097864619811945,0.005668163353994628,0.013525385860781338,-0.02854951641363761,-0.001467408842863914,-0.008199613993235164,-0.013045270883939319,-0.06146408150314627,-0.00036305038603085855,0.01742171995664606,-0.00020512144285991145,0.0001283539012744903,-0.001418897273212557,0.001373531209482003,0.03406210615951492,-0.01053360968512446,-0.0234636489291866,0.020815488176426238,-0.018699614713117714,0.02302667343855656,-0.005744689113447567,0.011300086704552719,-0.004145801841098902,-0.044563743249731745,-0.011450278017364411,0.001682427848400158,-0.003730472621808475,-0.0396778685669345,-0.01018510417319633,0.023168648580150036,-0.005168397715800062,-0.008369057076669862,-0.015639796896003137,-0.12757636699225272,0.03416724647861894,0.0038776205065226663,-0.012691381966853571,0.0006232715874611908,-0.008273791931110958,-0.014982489100180173,0.01588009509839285,-0.011781682378914565,-0.08708819647557646,-0.2105942813090071,-0.17124552764463502,-0.004747274796515038,0.09089065151943537,0.0022747036554000566,0.00608597009913946,0.052734871879683495,-0.024531063376152174,-0.0143060815477905,-0.03612761747902666,0.003937786335236585,-0.003988636048118297,0.006949437380992564,0.00043578110857040765,0.07161765085996478,0.057719610758088714,-0.013122627519262336,-0.02861499130085902,0.0007734128335518287,0.14751107246941397,0.0005820313878593139,0.00812907676887396,0.0,-0.014419707061070645,-0.004812670215784097,-0.0008732108974788595,0.0006067397199107561,-0.011644244934364764,0.08934435678278353,-0.01188503026051362,-0.03297846037663101,0.03642913158643305,-0.02319178259719474,-0.02723570524570774,-0.015362238949221093,-0.015279360538583843,-0.01697344344028003,0.06593495048083145,-0.009317438688865148,-0.008873570727872088,-0.01252424343181593,-0.0019740590819338853,-0.013126431599928354,-0.016779451053741155,-0.017705015939025476,-0.005764405680181843,0.01026183131287073,-0.009920367434765133,-0.04220639384635606,-0.012641090524973114,-0.042723459029715166,-0.04214641378922587,0.003459710519410699,0.19462243290832543,0.00435974299410692,0.021576485208100595,0.007577203260520529,-0.01801585993199858,0.16979002709163984,-0.02621698329330136,-0.01317877585844396,0.0011523021986424792,-0.006800280884266892,-0.00021662678481740693,0.002043517994325666,0.015086324403613363,-0.00955377261271741,-0.0757556095250856,-0.00854866440806851,-0.0016824851848697892,0.006357333932717097,-0.0020244424338494095,0.05469007799972802,0.10965368338756831,-0.0003678134285397035,-0.00922740799415936,0.0005512127275054151,-0.025740808174838987,0.03502835747031072,0.015468317202395086,-0.013173623716623154,-0.006280808851714662,0.004453124440375348,-0.008321322896472375,0.04568724145193497,-0.00299668889556596,-0.10317536672935389,-0.07665335721665588,-0.15296374477743893,-0.01902016362479165,0.03348882464914113,0.007337809207520961,0.1453680052746533,0.039420383558649526,-0.0038989810976491276,-0.003552637207889457,-0.009675231259055351,0.005661431933099421,-0.012521958713546074,0.002003111281287505,-0.0011668631298960008,0.009809249600326052,2.7325309019414363e-06,-0.008695427762291095,0.019842578434032147,-0.010721731399905335,-0.001803936116776332,-0.008553229589911006,0.004668589904654051,-0.0012938156254396062,-0.015872457875694437,0.005901735580433529,0.006565612950934734,0.0009471101659818043,-0.011383333002291997,0.012975584900618696,-0.006937853018038209,-0.2757587451515279,-0.14369858367984825,0.0452063327850549,-0.1313158949799172,-0.039457000464448874,-0.0163891178244059,-0.06121362133203249,0.004963086244103786,-0.004606642829456952,-0.009350432847995837,0.001657825558915704,-0.008991588743109607,-0.009392614666549446,-0.013414967090563983,-0.4021798399976511,-0.015120288697591189,0.0,0.0013698734056337078,-0.0321881498675862,-0.006730659467145175,-0.0225132488137953,-0.02308895814158613,-0.0098778115368128,0.04732852022976619,0.021799068315539436,0.062266674162920206,0.025673799717202923,0.011752978443967796,0.17859258083700946,-0.14007114809032403,-0.013135449425567635,-0.00708979182377678,-0.0005686985393035697,-0.0021368257169691435,-0.002376815277630266,-0.0022670738972211174,-0.029971569036886272,-0.058978930836582795,-0.0328678639842628,-0.012474721485120074,0.041160970187480515,-0.03145677214933823,0.00044366009080919075,0.030895042482922363,-0.009089968892500811,-0.008509858203013459,-0.0010646128184845034,-0.015183782564517573,0.00960637748969393,0.0008121905464070588,-0.0018404199288110732,-0.008898207697954588,0.0014793542922253424,-0.008708508876993627,0.002036324143628378,-0.0033708914505614263,-0.1741191014811025,-0.028092446713426384,-0.15031650516888723,0.006749002378411441,-0.014143585347220428,0.06439773694597122,0.12266871919253172,0.05010467814739447,-0.0004822371303086725,0.04544438511376704,0.006927615413975353,0.02361404932310213,0.002739307702598982,0.009732793440942158,0.0005335066936772768,0.016551944741571862,0.03935229038251748,-0.00035700287941161084,0.0112223614607018,-0.02192371405974222,-0.015920817202261774,-0.01249924827162262,0.0075927004986033764,-0.003905926175625972,0.05011873281377302,0.1122077440084742,0.004030808363306548,0.006327921751523914,0.006040621745903566,0.019313363238730164,0.0028206473766486015,-0.0022268184624861516,-0.007414770891842015,0.1605343743757319,-0.039681215821448186,-0.09273844191297517,0.0011148834733410216,-0.0004288666506086211,0.007237402169680634,0.009238631380957827,0.009622773293207773,0.010910828559397397,-0.0023293921094287304,-0.003261662508976703,-0.004058608746404124,-0.045879422625566706,-0.00859146737195988,0.01183462973948246,0.0030530895694450316,0.020888713119699937,0.0025656145935320394,-0.0056192077007544815,-5.3831200305019296e-05,0.001929157886184385,0.034277429445959025,0.014678416727560083,0.04523796261807073,-0.015602063565183368,0.021110008206394713,0.10089920523143962,0.013236726781529115,0.00482497612861065,0.007311907533060196,0.0018875742208487975,-0.0019073402098033208,0.09157420840149454,0.03823729248404,0.03296825606272287,-0.07955720894537571,0.028780159884788558,-0.02068407967727751,0.14578560482930025,0.0,0.0006495271796078502,0.008695034852764802,0.001748191598244848,-0.009240415244236737,0.014734920055683,-0.010947040176870858,0.010538275930023102,-0.014855699052562704,-0.0018376288401010716,-0.0043839900029751236,0.01435681315267895,0.015433975681197466,0.0073452345797386945,-0.007729744646287211,-0.006735217662843697,-0.0014032403038131153,0.030310634364374194,-0.007647488655044247,0.2855572232038032,0.22399886501391236,0.12907361662442562,0.12121445638432089,0.011233959600127146,0.06175618641625616,0.09893129802032297,0.013189245555105266,0.0933554337938155,0.024701495550117507,0.057932708032935036,0.009852739988271563,0.22212431066345667,0.10980212680253683,0.008623854079698815,0.06873513842763514,0.05793987658671894,-0.017012533231158256,-0.006142287722130136,0.007921887489454668,0.06983101768094806,0.10463815310960235,0.07644802782105548,0.054229517615329334,0.018448130327738232,0.12326040740490393,0.02317257524603586,0.0814908433618055,0.023198232171143064,0.05251986317752474,-0.0008796945729779326,-0.0939282714573605,0.005267832047385142,0.011138505197176128,0.03470286736011792,0.182487784726186,0.09392571326633713,0.02649665926218042,-0.008503163394796773,0.007545197034372548,0.006742700905664872,-0.0035157762652568113,0.002802157738631278,0.019740174773471467,0.01685894663201613,0.052341878321761064,0.008049791065180108,0.009957345359566114,0.019920812816742507,0.004708816698201186,0.020749981123568146,0.22350345431411972,0.21377030510779801,0.025721257715558415,0.01585823558078706,0.13818811788557647,0.0685347011256447,0.055888570494814785,0.02227101123933872,0.025609304314718025,0.003004424544840008,0.42871108397937724,0.22183410549676974,0.030599697005352748,0.21323897761439178,0.21395772782901007,-0.015596617722021354,0.06646712772510013,0.014448246854485163,-0.0007252542953506793,0.005103250447032831,0.24961861410349045,0.08056797695402773,0.11055383834053337,0.10916666450212932,0.1360015568079725,0.07849274313661074,0.22973244019604672,0.04398474677814165,0.16633193939377658,0.04888009086357134,0.4004705280789539,0.0179031888697783,-0.12749726502436515,0.023613277001782226,0.45115569983132614,-0.009265100991550798,0.15864445964466103,0.3831745415616841,0.13704504154235791,0.06405853676956941,0.06833092287915123,0.04390112525357087,0.15750984073530525,0.011082053914828532,0.02996037957982308,-0.012311855952769533,0.0484510593809085,0.013472396160354252,0.009465898813881962,0.02345348810649217,-0.0034144677815820114,0.0019623258965379056,0.08110934402517941,-0.00040335599582696607,0.002593911437130268,0.04228309406421521,0.010488802608010864,0.017906158759154477,0.027181740303623744,0.05461662490420933,0.012259633836503218,0.031572582440020605,0.005271040982605503,0.017781259978829324,0.08115232217181269,0.05163684842094069,-0.002337285284765571,-0.004081603714835078,0.0036109509216269296,0.010088129419789033,0.03501050533275557,0.021100351121390793,0.01729508666757378,0.010356155359855507,0.006370257568854978,0.006309767810112235,0.01432234033744396,-0.0026473743486460566,0.1654494715751587,0.1706276434964647,0.005830750285960796,0.012398650757715148,0.01927335106390654,0.0263855024907394,0.0038251400158942264,-0.002498744496189766,0.005094136510779814,0.03681288434907977,0.010829868268250107,-0.13342028277611853,0.010470560338620176,0.4389232215092194,0.058226751726443135,-0.039364159979063826,0.004093567305974073,0.004082140527730768,-0.004724073892718726,0.05177020177371005,0.09203088789730672,0.08623044787419197,0.12413872783324077,0.004422738609450561,-0.013677228186369624,-0.0006976952544092513,0.003409530417677671,0.00974376719400348,0.014911468005343322,0.15815581792396924,0.04058911255659677,-0.009371674362446342,0.012385498994808281,0.08383548795625013,0.28597114612284497,0.06715099205858764,0.04035807250138119,0.06117492736396957,0.04349121908769712,0.07131197551046617,0.019752922577835768,0.0,0.027081784126956616,0.08579103552988579,0.018770294739337983,-0.06141769642532271,0.056632599068425216,0.025521482069862735,0.05045964222387537,-0.0021258630722514643,-0.006238432577711183,0.0051073360679790986,0.014543136083402552,-0.042802320829466965,-0.001822645670559456,-0.03779291147025141,0.009715918278084294,0.006840200553199411,0.017109824569361446,-0.05203101533908134,-0.01953006317338235,-0.00013397253610268638,-0.018435842235370967,-0.015640277496930442,0.009856976779109718,-0.003707172934781044,-0.008668483981909987,0.0030183218220612698,0.028345534296716265,-0.00033411276156093326,0.0034521511170213007,-0.0018801109491342108,0.010582386981088028,-0.013539304745904073,-0.006804089640541593,-0.03335429755927817,-0.14400952402864098,-0.011770471219213603,-0.014097576235971252,-0.02260975666359629,-0.009491167479273343,0.0029824093476583267,-0.02289988977346344,0.004630159779842867,-0.0024444100316830188,-0.011087166498317202,-0.03851574141606332,0.04167601823807171,-0.010287035429971168,-0.028532356522123978,-0.01635702901552368,0.00046930719532970664,-0.00967938761150871,-0.0025519344922476177,-0.00011453697108947846,0.005990764198823545,0.017545877439386553,-0.1735531182830311,-0.3675160709389794,-0.02892403599590174,-0.015171612640063795,-0.017080386603927748,-0.09978758807415539,0.0025116493365630673,-0.007879373764529202,-0.008550825693171343,-0.04022639519854388,-0.004605060102158043,0.02234723740384823,0.009950913657417019,-0.04756108727269587,-0.11278203562056718,-0.06265581830118086,-0.03482479386205633,-0.0031657310079698945,0.01097018123656083,-0.00362597442935458,0.010598414610618773,-0.020006383299488856,-0.00811796405660232,0.04039545758666974,0.06436767204681565,0.021261491394708374,0.07362529590808316,-0.005207562971643266,-0.022583855163196852,-0.0035754493565151356,-0.001285480232377654,0.550320791366209,-0.002971424807087565,0.007068398988699921,-0.03958354890609315,-0.039176575747844264,-0.3879677400787847,-0.011360414109136368,-0.040367292748944315,-0.020505927361131666,-0.00783850304232979,-0.007118211232495189,0.006567756585667846,-0.009436307370885454,-0.0005367342730137306,-0.05196813849915252,-0.03386733428251095,0.007572694805274435,-0.01978062413507647,-0.07371634480026117,-0.01436650085414122,-0.015114115337588477,-0.028661188974160527,-0.015349894024185882,0.0028261099181824743,-0.04850891382581461,-0.05215372757894258,-0.05260861346717042,0.010243713664639012,-0.03360009498226883,0.0038108802910073562,0.027343253541737608,-0.00032259586731899924,-0.265188910135451,-0.03373914909339572,-0.08670525361952115,-0.017864045278715344,-0.007882219829392523,-0.008626251961693166,-0.010071020274677654,-0.021790450855280877,-0.014399305433358602,-0.02781139426780974,-0.022700936796656884,-0.010743561916465371,-0.006548778839336949,-0.11117020582186411,0.014450320562706943,-0.060477089453792404,-0.03385261535104814,-0.035691133010803205,-0.049279405828843735,-0.07137820920109635,-0.01046918392757416,-0.006653921001960482,0.004923255232370912,-0.020761118090502705,-0.03866329770665294,-0.08932127236898045,-0.05233622880964867,-0.585457702902675,-0.06604373401232237,-0.026761600826438584,-0.003254340577517894,-0.2002819325177533,-0.05396825562324676,-0.025070250294846032,-0.0007171447057960046,-0.05723836061640318,-0.09156050988952869,-0.029699777673300023,-0.04128396910162744,-0.02851689982585463,-0.16733992451343827,-0.04638795956496636,-0.0003616890592306596,-0.04121019870932955,-0.020008202737974923,-0.02287142827833274,-0.016201882788175494,-0.017856574445374748,-0.02741055643668324,0.01720725764398573,-0.029552172613675074,-0.024238616328626766,-0.04073403726288109,-0.035301294505860364,-0.01985592270543693,0.0,0.009861726844949369,0.006518164185300297,-0.06209380982990362,-0.1832124136741693,-0.07710463793414143,-0.03220680143310003,-0.06817585915076015,-0.025840713737329265,-0.13078455618122922,-0.012958094556275512,0.0036640109326125376,-0.04377528399463088,-0.0020502489748370142,-0.0016663007831415856,-0.03597316046416821,0.03240616774297369,-0.012555342056412361,-0.014970299924742247,-0.02360214072410276,-0.028220905695956863,-0.02163077213972908,-0.03159796971347086,0.02048252066569364,-0.025206234955761922,-0.12401118919448871,-0.07568010335641011,0.005089605044832809,-0.0422353633398936,0.010021363608389138,0.005031171231892448,0.0010487555979548713,-0.04747398516132287,-0.08343954070039376,-0.10180468299810293,-0.08595608642062864,-0.012621997050942234,-0.08705988161196328,-0.012337603704006639,0.01984585212062278,0.002174269210459576,-0.02694657139425622,-0.09651137507831235,-0.004181885649474208,-0.037654017046458106,-0.14378620940284745,0.040773827178361685,-0.015398201158662646,-0.09701739448260463,-0.020421480381065872,-0.10445026508090895,-0.05686580858399362,-0.02073330837576837,0.006004720043165616,-0.004249818461596107,-0.06094895880389989,0.005598562785571423,-0.050185643913248375,-0.057687840109589286,-0.023164895658855215,-0.01455400034478971,-0.009120627419905636,0.002790659476723527,-0.11878186960703074,-0.02590963782207935,-0.07306295960847844,-0.006408039516936949,-0.07415771525606635,-0.09252542381732702,-0.033335737788070925,-0.025455250080437957,-0.026483526153222615,-0.04627134342333606,-0.04848144476641963,-0.021904769814771994,-0.06277217185085937,-0.01962551523176063,-0.034461236885961206,-0.010944002562523656,-0.017515157940886802,-0.3035369620793395,-0.01752864069901326,-0.01134037637272741,-0.03931618494017097,-0.14174787699693245,-0.03195952010271613,0.009381833350293408,0.03400854694024835,0.0061758265140199956,0.001925582740178271,-0.053916397623206366,-0.1070607906808574,-0.021445805400552506,-0.030502498107491952,0.015079049756456806,0.0,-0.020966018720085466,-0.02844228098847731,-0.003658911960226061,0.00883477631169583,0.00631458905472663,-0.017868433590196676,-0.0016849847105025449,0.006428521878116106,0.11650523042636463,0.015523663713826184,0.004416319889536001,-0.006993640675164987,-0.02071621149665708,-0.017825392990904087,0.07587563687371535,0.013672464943018228,-0.039127318713698435,-0.04445371160121485,-0.020917422471062406,-0.007892261339328363,0.0004263734304913626,0.004039990121020981,0.024347909122366285,0.004593963744016702,-0.032768587279283584,-0.04677868869767813,-0.038128207479988935,-0.0079226024692707,-0.02178804660225629,-0.0011840191302812419,0.0026900228861829923,0.009049925474692041,-0.003642728876908407,-0.06356162885779543,0.005917231891505668,-0.006961756913894544,-0.11488516978550846,0.21330361448546895,0.03421075268514825,-0.0651982942193123,0.008989209345013335,-0.0510962852075117,-0.0072947107678577195,-0.007727309453967582,0.02341489453006039,-0.01091560727134029,-0.06216839775691807,0.0025335220281267404,-0.0464472526134247,-0.009237098743777396,0.008085770881256954,-0.018069279519346653,0.011804576933183816,0.0065811819381638055,-0.06599601676570767,0.013846435574895198,-0.009131323260668242,0.06227305226644731,-0.02948740672102903,-0.06816620839258233,-0.03518992889201657,-0.025906020237028093,-0.017737923517764702,-0.048737224463712675,-0.02085434699432391,-0.12681626054177353,-0.010100167688701724,-0.01078692322348666,-0.0194271029971201,-0.002264668170074318,-0.013035204332643447,-0.3155480499312628,0.022062674972895904,0.07614440534604511,-0.02553002025054198,-0.11971319251023571,-0.054009614324886185,-0.03706883177460853,0.43410263825882994,0.016382541097700324,0.012082488429861276,-0.07599149535603905,-0.056933859086134464,-0.011578918176492396,-0.004226177353143884,0.009378598170989782,0.008772251049394188,-0.025463155385853274,-0.02303220971923369,-0.016184523456360903,0.024936615790583382,0.050714350025203234,0.014391463275894129,-0.012311078319274605,-0.011446298797379255,0.18012516970706385,0.016408635478549916,0.10849705185140206,0.02669828120943096,0.0016068740265988359,-0.009739597385250515,0.024903406855845838,0.05940915801979018,0.003151462201433995,0.0046542208507031725,-0.014390096920422786,-0.017090028142332726,0.01190884096253585,0.02380474501638214,0.02408978474739537,0.05676796532629052,0.0036033440035502734,-0.0024584252295602803,-0.016741062601278212,0.023579899823953678,-0.003345968289269305,0.007247545813020022,0.0027124466371292264,0.023261860777993915,0.015750177156122168,0.04795911192138923,-0.0034712811732264892,0.009801614269511873,-0.03495871577379734,0.16618985922365273,0.05814476506241374,0.0023999193557235356,0.03883753441490424,0.017204626746341364,0.007241711644399069,0.007103916179933066,0.03290674734211607,0.0035550097305754955,-0.006307545694912335,0.019582331854543358,0.039497685048967966,0.017433478999915267,0.011312864390180963,-0.032218049904378654,-0.003329670599173851,0.017489488792162708,-0.003259081505129267,0.021392742609622796,-0.003755064215335223,0.06585834723687362,0.0005267535759014662,0.003267006097013268,0.0056084886177222,-0.020936408936599156,0.01034868465784266,0.004779914919719957,0.0036554142045856146,2.833993538281832e-05,0.00042035273486940695,-0.017561183958338607,-0.021112615521738924,-0.013985954046676562,0.000983084176937746,-0.09536879742184495,0.07333335269282762,0.04291068483094916,-0.008587375651606974,-0.01523875351823121,-0.028505159610847878,0.0019662005033942213,0.10586539505537766,-0.1298108509015194,0.02286918858227689,-0.07868825267030899,0.004051131451989437,-0.11101095290656315,-0.11321411927775378,-0.1139599172492061,-0.007609684568391462,-0.0014223527157457064,-0.014427634479315435,-0.002573367906681915,0.006859989054367899,-0.00024477383857146227,-0.004103770729359414,-0.005854784523392534,-0.009724626580238602,0.10941381456506973,0.0014654478383510688,0.09341134197825296,0.0348534868245779,0.007975261161648857,-0.010889105775368666,0.0011026546217240895,0.05536420307041254,0.026715401581066434,0.05838105629652873,-0.01698833837583832,-0.05592822478567432,0.005501954325779394,0.04470779169254492,0.03342560168825156,0.05077897000315221,0.024329201135016607,-0.0013115770168649443,-0.005831228007158176,0.05439808602387798,-0.0008367196623538698,0.0,0.012862219369928752,0.08607641738163017,0.004017015675086482,0.03385206334372663,0.0032514940544406653,0.008143630319262485,-0.022862447948791248,0.028432752764699153,0.01797583287063694,-0.005845843355607306,0.03472850924337736,0.04530729504767137,0.011073928183174382,0.014598121489040073,0.03889896410159864,0.029549393117123894,0.025835780461508213,0.017592466493143492,0.029502276460055037,0.010443436796308363,0.025854607355440158,-0.0304037435077651,-0.001247163591230308,0.04827709645258586,-0.000580117073747266,0.01427738964703182,0.006700774043692561,0.07172423078513064,-0.07992757561399394,-0.0005767398973600589,0.010066681129007288,0.015154125811269665,0.06958061476502936,0.030832092643086565,0.01908710472539414,0.022283861746900675,0.0008785109771696309,0.023420484440611417,-0.006028260909153593,-0.04013176989771866,-0.037649550632417095,-0.10032629792556955,0.021824075772080807,0.0016017905859549298,-0.043634918606871576,-0.014723979823904089,-0.04468887241905919,0.04749896361165946,-0.03393626037448831,-0.0185405924945418,0.015612693057710993,-0.05246805323715678,-0.011774980581081642,-0.11513163019119459,-0.0809276044727669,-0.34795208481152845,-0.0015961347137254769,0.007504067834688036,-0.0036468396551233755,0.02037578941583478,0.023298362191491916,-0.20414800277045497,-0.18397378324891803,0.024133408751564226,0.07699344493872434,0.0922347052121313,0.08464131816912665,0.08557717727064824,0.0205673002012721,-0.0006279588646755569,0.004079528634218288,0.005012951114877122,0.053191124278751944,0.14002088222758052,0.10663830043279784,0.04960480378515721,0.016785587538757463,0.059986482868242486,0.09930496117850052,0.055540929314693774,0.1443241210381188,0.11634915178601381,0.015053669937609404,0.017163953293397368,0.05514008596320673,0.026518112233732027,-0.004937315662499363,0.019886788185692124,0.0889436435683866,0.006552517808379952,0.04258482157964315,0.0138900246100387,0.0160273755903296,-0.03575104802248675,0.137447878965674,-0.013592635245186781,0.008161743698834295,0.11800155946864088,0.04596387869202709,0.05159136215468036,0.032893771512017625,0.034873512697662735,0.17267395281345632,0.04753829553561784,0.018203093102331883,0.009563007713795016,0.08785549639667113,0.03777024899422807,-0.039104106373109786,0.026613618332243922,0.17663735033669323,0.013356789168891728,0.04506287449844691,0.025738333926418028,0.06979849326212029,0.009720141190085966,0.00629248505503852,0.013920155914544891,0.030794720251836185,0.9832859364861335,0.04649603852265837,0.04704594248823622,0.13396165844251295,0.11381443756262431,0.15858392824988504,0.005695334034168932,-0.019877865386655744,-0.0842774243914149,-0.003652459658636885,0.03103439321108985,0.008933038259291287,0.0029924813738418303,0.01907343640932712,-0.0043135241787694,0.1167268995349649,-0.07909727922633643,-0.07032114398108956,-0.008505817084050994,-0.03451795128710321,-0.0507312760364692,0.11422492190457521,0.15513878990524257,-0.009557534989681322,0.10559524515924439,0.002791178079402668,0.0630883681404591,-0.01743046499021879,0.12847814448860553,-0.013121126492337085,0.058544020148060226,0.14892668716048418,0.09586552344418726,0.08499878901014149,0.10510311923333661,0.10532378747354379,0.007785942577378344,0.029384970402890336,0.03896174385366557,0.026839850932353047,0.03352111993288234,0.02060213719926654,0.09109107516685881,0.05490382683836279,0.03304434161334775,0.2165108318928037,0.08278289832744491,0.13981650170569926,0.022367435733277093,0.02344798452449977,0.02175719730813803,0.008074073049369516,0.12702280784521194,0.027753426463631353,0.007331798549805039,0.019226381083097602,-0.000681093853463166,-0.00010238591397183726,0.041493292690316326,0.008944300164861753,0.00713680443642042,-0.04166766462256974,0.08199868947813199,-0.006740770385013323,0.0016416127924689004,0.13806534015353883,0.03814682837736558,0.044907308161446245,0.006757236047862645,0.021698642634951245,0.32240880295044105,0.146890152965445,0.033902648876125284,0.038685469491322684,0.043246119082982426,0.21290526018118702,-0.023688402128571647,0.02842299768905564,0.026102836806519165,0.0038689222898945948,0.015759482290260425,0.016339107168103415,0.02569348310252094,0.008103862000871426,0.00013102992438685158,-0.03536593966552218,0.057241479537271205,0.18990833984473662,0.027786662977546856,0.020720733447315072,0.1397420747938468,0.13861756343117637,0.26695022446685995,0.016482928842480697,-0.0056081237446226695,0.008805796915159765,-0.001977247639440576,0.024134413988219545,0.007917135927172126,0.05589060936655812,0.061742252272617044,0.04681646519778912,0.13911594089414395,-0.19369412224006083,-0.16797557406319072,0.011357258619174547,-0.014033172356089035,0.0431758313831725,0.10577155870499409,0.16796096545676453,0.08811200017775321,0.13439874883042166,0.09054927948774383,0.16748434841082,0.009855758978022692,0.13475526927100895,0.09408659890813312,0.0647703763433019,0.07912463694274013,-0.05906911227316192,0.09485134500434758,0.09043124938268346,0.10473381637863477,0.1325660015840467,0.13488224832351345,0.03583668426963249,0.017524165816385683,-0.0050862023329867265,0.0008224218948728455,0.06534099138167528,0.014978916796979054,-0.009512774363546576,-0.02102874807618847,0.005650003266962847,-0.006369945276954651,-0.058180058352536174,-0.021413250414397688,0.005863420070055256,-0.1356602394338849,0.031344980891070316,0.005192777657276632,-0.028397704809797423,-0.02146160635828732,-0.055772102644759965,-0.001069330734624773,-0.05141800597046965,-0.02050163302223239,-0.00873448322659387,-0.016619954940573865,-0.014658987604210725,-0.07835416584979342,-0.19924612693800015,0.022198309238947816,-0.0174580987757074,0.009099476524920706,-0.030996921098145547,0.001414865683758276,-0.0032661649503966943,0.028616473850737466,0.012199174759579486,-0.014832099964744347,-0.2780667681914686,0.032680074966425075,-0.34948637931224863,-0.04444936826422841,-0.03479448007882484,-0.5245439505374652,-0.5113919098807088,-0.015750427842176094,0.007430720254860962,-0.00028494758650160517,-0.02178621442676885,-0.36185757294104276,-0.009798690910257571,-0.042165522540312445,-0.004299452861017526,-0.0034172713271608045,0.02730738182009603,0.008715293468415852,-0.019005783509726475,-0.004591137406957736,-0.08696177476678231,0.00857003528011367,-0.1494036237123061,0.0013043946606543146,-0.018012218642760473,0.09963904731707642,-0.19689928706211368,-0.2089307507532351,0.042624788571037284,-0.1391100927155149,-0.16644765704779182,-0.01967177126912798,-0.09387596704686257,0.27080944884765523,0.056651431953260424,0.11986664134582317,0.06931163285404017,0.13235557580843652,0.21125440606677373,0.18287292917836914,0.11677072399725442,0.12624323715058577,0.09649446796425226,0.020889434519410294,0.010663834207223824,0.003995915643290667,0.010238744136687548,0.08008633521404984,0.14148477943696264,0.1461648154456994,0.14499422646922638,0.1747217141383241,0.16866210680799454,-0.008345644949657643,-0.006253206335578897,0.041903654107056924,-0.0015006157339505228,-0.07913706828755622,-0.5780410778481319,-0.022379421913423365,-0.043238092107057535,-0.130478581372295,-0.10350209181721574,-0.05224547453325024,-0.08616868898563948,0.026041444802102267,-0.04022983618932814,-0.11833452512246638,-0.3054014724411167,-0.030914264431681687,-0.013241746434493783,-0.016934413457749133,-0.006923590231218322,-0.24619342253075296,-0.06104723110617581,-0.05939162837867025,-0.299121241502694,-0.13051967699199687,0.009267379844825372,0.006175290827331447,0.019783064654538295,0.010137274794978503,0.029039775822886915,-0.24704938027888557,0.0012372116059198815,0.0016488301437830937,-0.3131825574231007,-0.5237046990644021,-0.1415907085140002,-0.7831895765297873,-0.07121142906084121,-0.000860954884865414,-0.080109413971242,-0.15898224743081418,-0.01477576031370182,-0.0010291084500972678,-0.0024058645490725827,-0.008415479633300933,-0.9179455368153849,-0.027092768584373695,-0.43980663468697645,-0.017964537897397513,-0.011114906246700817,0.025472876337179297,-0.2512068209116641,-0.06014768664043243,-0.010026312623592949,-0.41766437331823525,-0.08419869185379315,-0.2578354085156211,-0.023464242500692907,0.009189705091613128,0.006484943847847381,-0.34158696731090593,-0.5106042089803926,-0.49747024150291647,-0.045877953248653076,-0.7866529756679256,-0.049255451009448496,-0.022919476322311724,0.5481944917939676,0.16560150837640905,0.24777530339943152,0.08665740646636029,0.10991747675710686,0.4367743736220654,0.21448864357854874,0.16315929058929332,0.18535344378749832,0.13882352510696597,-0.042731093091873125,0.25424763782618226,0.20763364845620214,0.11721439720160402,0.10738766821725276,0.25941076793738543,0.15528079171699757,0.2734957638883492,0.2839752524756833,0.23267670405463556,0.13883992783388102,0.1673901179873534,0.19129306245049346,0.04178836214181871,-0.005965097726682517,-0.025579794790203926,0.01162029413252714,0.023954012138377116,0.02960692533028546,-0.015529317243372684,0.010274659342100952,0.02799722947129522,0.16622648091842826,-0.009239731008718447,0.030871007843163524,-0.02575159843349845,0.03338537704098153,0.15221738010897964,0.03763646849351186,0.10980801034385379,-0.028373185661936758,0.019579905897051393,0.06329301777550059,0.014234833670129378,0.029199887442815015,0.14747995265641703,0.15363598651054633,0.03507416959943226,0.04191574046366618,0.16349775083739918,0.14538168408378743,0.13499952593798575,0.023264958368403903,0.034983087336693,0.12287834823188891,0.1310163386867598,0.018048095366196865,0.14741432913020533,0.0573378925393403,0.023498747519369506,0.022173962585406288,0.01095529468447885,0.027797624646820653,0.14738653445172978,0.06628584785992919,0.2259272135485286,0.140107375817146,0.03377195418303286,0.020742893582832694,0.04680764519392245,0.15473856050055962,-0.23696535127842044,0.03980506193064777,0.018166615361708514,0.009220750700219079,0.09424359401638885,0.10011446075836601,0.10629703445422813,0.11435236380604391,0.048139568084309615,0.023675027116887022,-0.01664071834137656,-0.0410642124832707,0.1000677534076101,-0.47800424863592816,0.0025153987355619315,0.015154773387833194,0.21823162187300943,0.2093794902885995,0.24915093605548805,0.10236358157996692,0.11749457915546252,0.2325524119364099,0.2154334785034295,0.13083818407579326,0.3394633942500899,0.1360909296747564,0.21101181907237496,0.1745991203261334,0.21292212472348557,0.19142682709288647,0.1869824849240315,0.22770757397786537,0.2170827361714644,0.20909028786868977,0.19258023433808488,0.20677441821207118,0.14736329680328825,0.16766721603688667,0.20164443421196548,0.195888820556784,0.21146155277548823,0.18466660977291513,0.05480210709601584,0.4121478307765355,0.3712620300085954,0.1478435521581148,0.23880033381965088,0.205804429418166,0.24010738308568438,0.1505102272249945,0.1614222404095877,0.1554491374763744,0.1808092426049358,0.25678536132131125,0.13398128476078877,0.19802196121612747,0.14477209520931286,0.022225204849206166,0.1915054265869104,0.04691475177422969,0.19944730494009066,0.25000317726586824,0.2696637554446677,0.15030281352350203,0.1751304487431897,0.2528290912685356,0.28672894101723667,0.343056986815442,0.025661823857018536,0.12166773729737668,0.20070329673040319,0.16340229401018447,0.2890588323962509,0.18391303175677795,0.22369127073704556,0.13418288096615083,0.1245721473037825,0.02655135253998074,0.035902688704908245,0.1764032888056848,0.2775616551373488,0.6493266935161177,0.6608635875337106,0.3113865407780865,0.11211217185575797,0.18707077976976552,0.18880002611260008,-0.0657899355286924,0.06987552900809535,0.03370414114556717,0.029830300079719246,0.16304897464534884,0.34796357501128417,0.13089873227187407,0.12802420155004363,0.1935749459188269,0.11011671698552736,0.27430233713390734,0.17299509678313443,0.0558036336277703,0.11699926540788301,0.2737280424759881,0.06864805433587652,0.05783880440042049,0.2144022397497034,0.4526342763228625,0.17107160509859318,0.1712422307941056,0.16222012565434973,0.24749853013503958,0.2731418434355404,0.20318145009314237,0.15559819140305195,0.19512895790923654,0.14651409219421974,0.16445205866352702,0.0808789818479268,0.07290207711529215,0.1905328172815009,0.21831259772314043,-0.03188298514287995,0.14946754577614516,0.21729582484369878,0.15975523792606966,0.19866751841955207,0.19194056407419996,0.21609839728805227,0.18024987134858794,0.1363472701020292,0.2402984108933249,0.44324470283194567,0.25775295941710585,0.18745732876157423,0.17943061199707372,0.18087590728536826,0.5279308722096987,0.17684970124987864,0.12188362954805518,0.1590933476068829,0.16052949380927872,0.17246089236851248,0.18679531845483216,0.15630832030555497,0.16434578670975783,0.10756483022934038,0.08874245908017867,0.04385293596265791,0.19143941986722934,0.31670331718887484,0.30903485763226823,0.15319849438676836,0.20806591186688683,0.2243659298026628,0.1679263309437601,0.2723838744182698,0.15238185252957806,0.2938587867547336,0.9453486728138444,0.34624080991612777,1.370202904871949,0.19436989081815156,0.228150869231127,0.1580300906982636,0.1551098632777547,0.10030668899226779,0.12927107945625857,0.12537533034517293,0.1981283700241224,0.168663537157694,0.16944543201207682,0.12742070581666454,-0.033641881185140415,0.1764624173875762,0.15140582539745456,0.11874308889715166,0.2997693279822753,0.042311497223301166,0.01291398173573056,0.20656930259085868,0.3212599133505881,0.1360805403155518,0.17741057510170638,0.17700579023448693,0.1413322602933026,0.1527049776940626,1.0218184175030725]\n",
            "Intercept: 0.5695648474738733\n"
          ],
          "name": "stdout"
        }
      ]
    },
    {
      "cell_type": "markdown",
      "metadata": {
        "id": "RaulOkdvB8LQ",
        "colab_type": "text"
      },
      "source": [
        "# Evaluation\n",
        "\n"
      ]
    },
    {
      "cell_type": "markdown",
      "metadata": {
        "id": "vjr806l42JFN",
        "colab_type": "text"
      },
      "source": [
        "Here we measure Area under ROC Curve and Area under PR Curve of the SVM on the test set using BinaryClassificationEvaluator."
      ]
    },
    {
      "cell_type": "code",
      "metadata": {
        "id": "Q7toVMEDSL5v",
        "colab_type": "code",
        "colab": {
          "base_uri": "https://localhost:8080/",
          "height": 50
        },
        "outputId": "24d7139e-77e6-41c2-d22d-5e2d4e30829b"
      },
      "source": [
        "# Evaluate model by using BinaryClassificationEvaluator function\n",
        "evaluatorlsvc = BinaryClassificationEvaluator(labelCol='label')\n",
        "# Area under ROC curve and precision-recal curve\n",
        "auroc = evaluatorlsvc.evaluate(predictionslsvc, {evaluatorlsvc.metricName: \"areaUnderROC\"})\n",
        "auprc = evaluatorlsvc.evaluate(predictionslsvc, {evaluatorlsvc.metricName: \"areaUnderPR\"})\n",
        "evaluatorlsvc.metricName=\"\"\n",
        "# Print the result\n",
        "print(\"Area under ROC Curve: {:.4f}\".format(auroc))\n",
        "print(\"Area under PR Curve: {:.4f}\".format(auprc))"
      ],
      "execution_count": null,
      "outputs": [
        {
          "output_type": "stream",
          "text": [
            "Area under ROC Curve: 0.9252\n",
            "Area under PR Curve: 0.9278\n"
          ],
          "name": "stdout"
        }
      ]
    },
    {
      "cell_type": "markdown",
      "metadata": {
        "id": "O1nUqDBB2R3r",
        "colab_type": "text"
      },
      "source": [
        "Here we measure the acuracy of the model by using MulticlassClassificationEvaluator"
      ]
    },
    {
      "cell_type": "code",
      "metadata": {
        "id": "WpEN1AZ21wsz",
        "colab_type": "code",
        "colab": {
          "base_uri": "https://localhost:8080/",
          "height": 50
        },
        "outputId": "1aade7fe-4dfe-42b6-943c-f7b6401ba036"
      },
      "source": [
        "evaluator12 = MulticlassClassificationEvaluator(metricName=\"accuracy\")\n",
        "# compute the classification error on test data.\n",
        "accuracy12 = evaluator12.evaluate(predictionslsvc)\n",
        "print(\"Test Accuracy = %g\" % (accuracy12))\n",
        "print(\"Test Error = %g\" % (1- accuracy12))"
      ],
      "execution_count": null,
      "outputs": [
        {
          "output_type": "stream",
          "text": [
            "Test Accuracy = 0.816176\n",
            "Test Error = 0.183824\n"
          ],
          "name": "stdout"
        }
      ]
    },
    {
      "cell_type": "markdown",
      "metadata": {
        "id": "-rsF9G4o2eJq",
        "colab_type": "text"
      },
      "source": [
        "Here we calculate TPR, TNR, FPR, FNR of our mode by using built in functions"
      ]
    },
    {
      "cell_type": "code",
      "metadata": {
        "id": "nXvJuH4aEEfj",
        "colab_type": "code",
        "colab": {}
      },
      "source": [
        "true_pos=predictionslsvc.filter(predictionslsvc['label']==1).filter(predictionslsvc['prediction']==1).count()\n",
        "false_pos=predictionslsvc.filter(predictionslsvc['label']==0).filter(predictionslsvc['prediction']==1).count()\n",
        "true_neg=predictionslsvc.filter(predictionslsvc['label']==0).filter(predictionslsvc['prediction']==0).count()\n",
        "false_neg=predictionslsvc.filter(predictionslsvc['label']==1).filter(predictionslsvc['prediction']==0).count()"
      ],
      "execution_count": null,
      "outputs": []
    },
    {
      "cell_type": "markdown",
      "metadata": {
        "id": "RuPqLFfz2mpg",
        "colab_type": "text"
      },
      "source": [
        "Here we calculate accuracy, precision, recall, specificity, F1 score and MCC measures of our model"
      ]
    },
    {
      "cell_type": "code",
      "metadata": {
        "id": "nEm9Wm4mEOba",
        "colab_type": "code",
        "colab": {}
      },
      "source": [
        "Accuracy=(true_pos+true_neg)/(true_pos+true_neg+false_pos+false_neg)\n",
        "Precision=true_pos/(true_pos+false_pos)\n",
        "Recall=true_pos/(true_pos+false_neg)\n",
        "Specificity=true_neg/(true_neg+false_pos)\n",
        "F1score=(2*Precision*Recall)/(Precision+Recall)\n",
        "MCC=(true_pos*true_neg-false_neg*false_pos)/math.sqrt((true_pos+false_pos)*(true_pos+false_neg)*(true_neg+false_pos)*(true_neg+false_neg))"
      ],
      "execution_count": null,
      "outputs": []
    },
    {
      "cell_type": "code",
      "metadata": {
        "id": "CEFcTY3LESjF",
        "colab_type": "code",
        "colab": {
          "base_uri": "https://localhost:8080/",
          "height": 183
        },
        "outputId": "a9996bc4-3f8d-4302-d568-ab25926789d4"
      },
      "source": [
        "print(\"True Positive Value: {:.0f}\".format(true_pos))\n",
        "print(\"False Positive Value: {:.0f}\".format(false_pos))\n",
        "print(\"True Negative Value: {:.0f}\".format(true_neg))\n",
        "print(\"False Negative Value: {:.0f}\".format(false_neg))\n",
        "print(\"Accuracy Measure: {:.4f}\".format(Accuracy))\n",
        "print(\"Precision Measure: {:.4f}\".format(Precision))\n",
        "print(\"Recall Measure: {:.4f}\".format(Recall))\n",
        "print(\"Specificity Measure: {:.4f}\".format(Specificity))\n",
        "print(\"F1score Measure: {:.4f}\".format(F1score))\n",
        "print(\"MCC Measure: {:.4f}\".format(MCC))"
      ],
      "execution_count": null,
      "outputs": [
        {
          "output_type": "stream",
          "text": [
            "True Positive Value: 500\n",
            "False Positive Value: 156\n",
            "True Negative Value: 388\n",
            "False Negative Value: 44\n",
            "Accuracy Measure: 0.8162\n",
            "Precision Measure: 0.7622\n",
            "Recall Measure: 0.9191\n",
            "Specificity Measure: 0.7132\n",
            "F1score Measure: 0.8333\n",
            "MCC Measure: 0.6462\n"
          ],
          "name": "stdout"
        }
      ]
    },
    {
      "cell_type": "markdown",
      "metadata": {
        "id": "hUtTzeAe5fyb",
        "colab_type": "text"
      },
      "source": [
        "![alt text](https://i2.wp.com/scienceprog.com/wp-content/uploads/2016/07/Thomas_Bayes.png?w=468&ssl=1)"
      ]
    },
    {
      "cell_type": "markdown",
      "metadata": {
        "id": "yOvIYBbLi0Zs",
        "colab_type": "text"
      },
      "source": [
        "# **Naive bayes**"
      ]
    },
    {
      "cell_type": "markdown",
      "metadata": {
        "id": "6Zaahkvii_I3",
        "colab_type": "text"
      },
      "source": [
        "# Train the model"
      ]
    },
    {
      "cell_type": "markdown",
      "metadata": {
        "id": "-Spr3_Qm2zgu",
        "colab_type": "text"
      },
      "source": [
        "1. set classifier with multinomial model type\n",
        "2. fit the model"
      ]
    },
    {
      "cell_type": "code",
      "metadata": {
        "id": "wrAMn1_RWKev",
        "colab_type": "code",
        "colab": {}
      },
      "source": [
        "# Set parameters for svm\n",
        "nb = NaiveBayes(modelType=\"multinomial\")\n",
        "# Fit the model\n",
        "model_nb = nb.fit(train_data)"
      ],
      "execution_count": null,
      "outputs": []
    },
    {
      "cell_type": "markdown",
      "metadata": {
        "id": "fy-I29Q4jQdr",
        "colab_type": "text"
      },
      "source": [
        "# Make predictions on test data\n"
      ]
    },
    {
      "cell_type": "markdown",
      "metadata": {
        "id": "umlEvAt93A5Q",
        "colab_type": "text"
      },
      "source": [
        "1. Perform the learned model to test dataset\n",
        "2. Show the label , prediction and probability of predictions on each single test set data"
      ]
    },
    {
      "cell_type": "code",
      "metadata": {
        "id": "q-k6ZhzuWul-",
        "colab_type": "code",
        "colab": {
          "base_uri": "https://localhost:8080/",
          "height": 450
        },
        "outputId": "907fa602-b76f-4944-aacc-14fbda04c561"
      },
      "source": [
        "# Make predictions on test data\n",
        "predictions_nb = model_nb.transform(test_data)\n",
        "#Show the result of prediction\n",
        "predictions_nb.show()"
      ],
      "execution_count": null,
      "outputs": [
        {
          "output_type": "stream",
          "text": [
            "+--------------------+-----+--------------------+--------------------+----------+\n",
            "|            features|label|       rawPrediction|         probability|prediction|\n",
            "+--------------------+-----+--------------------+--------------------+----------+\n",
            "|[0.10758699,0.103...|    1|[-15054.397538627...|[8.07767784848817...|       1.0|\n",
            "|[0.142218998,0.14...|    1|[-15948.969366784...|[1.0,3.8987239329...|       0.0|\n",
            "|[0.149457479,0.15...|    1|[-14685.532293589...|[1.0,9.7287099945...|       0.0|\n",
            "|[0.077429615,0.09...|    1|[-15865.865464276...|[1.0,1.9379026142...|       0.0|\n",
            "|[0.026559946,0.02...|    1|[-12597.475044316...|[1.0,1.3279424544...|       0.0|\n",
            "|[0.056112199,0.05...|    1|[-14239.361443636...|[1.0,7.5138195793...|       0.0|\n",
            "|[0.018805755,0.01...|    1|[-9994.6987779411...|[2.40831085186145...|       1.0|\n",
            "|[0.01200770600000...|    0|[-13493.330993591...|[0.99999999999999...|       0.0|\n",
            "|[0.03983736,0.044...|    1|[-12352.518655808...|[1.0,3.5426220309...|       0.0|\n",
            "|[0.02359132899999...|    0|[-14042.806613084...|[0.00344523558469...|       1.0|\n",
            "|[0.03016278399999...|    0|[-14654.937078603...|[1.64471067728627...|       1.0|\n",
            "|[0.02701085299999...|    1|[-12362.848184632...|[7.52451104820275...|       1.0|\n",
            "|[0.02637548399999...|    0|[-21297.983675595...|[1.0,1.2248440701...|       0.0|\n",
            "|[0.062411247,0.06...|    0|[-19596.298505988...|[1.0,5.0872608354...|       0.0|\n",
            "|[0.034572167,0.03...|    0|[-18410.676878077...|[1.0,2.7538137618...|       0.0|\n",
            "|[0.012112565,0.01...|    1|[-11922.766047876...|[0.17246762940465...|       1.0|\n",
            "|[0.018173991,0.02...|    1|[-10329.010101659...|[1.80964890923562...|       1.0|\n",
            "|[0.03308356100000...|    0|[-15709.124793361...|[1.0,4.3330693078...|       0.0|\n",
            "|[0.038817011,0.03...|    0|[-17861.875991350...|[1.0,1.1097405705...|       0.0|\n",
            "|[0.02162420700000...|    0|[-12711.663422689...|[0.13962127209946...|       1.0|\n",
            "+--------------------+-----+--------------------+--------------------+----------+\n",
            "only showing top 20 rows\n",
            "\n"
          ],
          "name": "stdout"
        }
      ]
    },
    {
      "cell_type": "markdown",
      "metadata": {
        "id": "6bhmmgEy3JSZ",
        "colab_type": "text"
      },
      "source": [
        "# Evaluation"
      ]
    },
    {
      "cell_type": "markdown",
      "metadata": {
        "id": "O3L2IrNo3PnP",
        "colab_type": "text"
      },
      "source": [
        "Here we measure the acuracy of the model by using MulticlassClassificationEvaluator"
      ]
    },
    {
      "cell_type": "code",
      "metadata": {
        "id": "Oy8-jkmuyNLO",
        "colab_type": "code",
        "colab": {
          "base_uri": "https://localhost:8080/",
          "height": 50
        },
        "outputId": "07906262-0193-4033-a6fa-69b9a005f9ae"
      },
      "source": [
        "evaluator13 = MulticlassClassificationEvaluator(metricName=\"accuracy\")\n",
        "# compute the classification error on test data.\n",
        "accuracy13 = evaluator13.evaluate(predictions_nb)\n",
        "print(\"Test Accuracy = %g\" % (accuracy13))\n",
        "print(\"Test Error = %g\" % (1-accuracy13))"
      ],
      "execution_count": null,
      "outputs": [
        {
          "output_type": "stream",
          "text": [
            "Test Accuracy = 0.555147\n",
            "Test Error = 0.444853\n"
          ],
          "name": "stdout"
        }
      ]
    },
    {
      "cell_type": "markdown",
      "metadata": {
        "id": "ELMaTDPUsCdR",
        "colab_type": "text"
      },
      "source": [
        "We transfer data to handy spark framework"
      ]
    },
    {
      "cell_type": "code",
      "metadata": {
        "id": "Ano5kCPKwvrF",
        "colab_type": "code",
        "colab": {
          "base_uri": "https://localhost:8080/",
          "height": 407
        },
        "outputId": "f1cefc17-ba97-43d5-9c53-8aca1d736f39"
      },
      "source": [
        "predictions_nb.toHandy().cols[['probability', 'prediction', 'label']][:1088]"
      ],
      "execution_count": null,
      "outputs": [
        {
          "output_type": "execute_result",
          "data": {
            "text/html": [
              "<div>\n",
              "<style scoped>\n",
              "    .dataframe tbody tr th:only-of-type {\n",
              "        vertical-align: middle;\n",
              "    }\n",
              "\n",
              "    .dataframe tbody tr th {\n",
              "        vertical-align: top;\n",
              "    }\n",
              "\n",
              "    .dataframe thead th {\n",
              "        text-align: right;\n",
              "    }\n",
              "</style>\n",
              "<table border=\"1\" class=\"dataframe\">\n",
              "  <thead>\n",
              "    <tr style=\"text-align: right;\">\n",
              "      <th></th>\n",
              "      <th>probability</th>\n",
              "      <th>prediction</th>\n",
              "      <th>label</th>\n",
              "    </tr>\n",
              "  </thead>\n",
              "  <tbody>\n",
              "    <tr>\n",
              "      <th>0</th>\n",
              "      <td>[8.077677848488179e-11, 0.9999999999192233]</td>\n",
              "      <td>1.0</td>\n",
              "      <td>1</td>\n",
              "    </tr>\n",
              "    <tr>\n",
              "      <th>1</th>\n",
              "      <td>[1.0, 3.898723932907172e-77]</td>\n",
              "      <td>0.0</td>\n",
              "      <td>1</td>\n",
              "    </tr>\n",
              "    <tr>\n",
              "      <th>2</th>\n",
              "      <td>[1.0, 9.728709994510783e-24]</td>\n",
              "      <td>0.0</td>\n",
              "      <td>1</td>\n",
              "    </tr>\n",
              "    <tr>\n",
              "      <th>3</th>\n",
              "      <td>[1.0, 1.9379026142911808e-30]</td>\n",
              "      <td>0.0</td>\n",
              "      <td>1</td>\n",
              "    </tr>\n",
              "    <tr>\n",
              "      <th>4</th>\n",
              "      <td>[1.0, 1.3279424544394356e-19]</td>\n",
              "      <td>0.0</td>\n",
              "      <td>1</td>\n",
              "    </tr>\n",
              "    <tr>\n",
              "      <th>...</th>\n",
              "      <td>...</td>\n",
              "      <td>...</td>\n",
              "      <td>...</td>\n",
              "    </tr>\n",
              "    <tr>\n",
              "      <th>1083</th>\n",
              "      <td>[1.0, 2.1647644173791446e-82]</td>\n",
              "      <td>0.0</td>\n",
              "      <td>0</td>\n",
              "    </tr>\n",
              "    <tr>\n",
              "      <th>1084</th>\n",
              "      <td>[3.682350205171385e-08, 0.999999963176498]</td>\n",
              "      <td>1.0</td>\n",
              "      <td>1</td>\n",
              "    </tr>\n",
              "    <tr>\n",
              "      <th>1085</th>\n",
              "      <td>[1.0, 1.6677920963082427e-47]</td>\n",
              "      <td>0.0</td>\n",
              "      <td>0</td>\n",
              "    </tr>\n",
              "    <tr>\n",
              "      <th>1086</th>\n",
              "      <td>[3.078403973701694e-07, 0.9999996921596026]</td>\n",
              "      <td>1.0</td>\n",
              "      <td>0</td>\n",
              "    </tr>\n",
              "    <tr>\n",
              "      <th>1087</th>\n",
              "      <td>[1.65392257997096e-07, 0.9999998346077419]</td>\n",
              "      <td>1.0</td>\n",
              "      <td>0</td>\n",
              "    </tr>\n",
              "  </tbody>\n",
              "</table>\n",
              "<p>1088 rows × 3 columns</p>\n",
              "</div>"
            ],
            "text/plain": [
              "                                      probability  prediction  label\n",
              "0     [8.077677848488179e-11, 0.9999999999192233]         1.0      1\n",
              "1                    [1.0, 3.898723932907172e-77]         0.0      1\n",
              "2                    [1.0, 9.728709994510783e-24]         0.0      1\n",
              "3                   [1.0, 1.9379026142911808e-30]         0.0      1\n",
              "4                   [1.0, 1.3279424544394356e-19]         0.0      1\n",
              "...                                           ...         ...    ...\n",
              "1083                [1.0, 2.1647644173791446e-82]         0.0      0\n",
              "1084   [3.682350205171385e-08, 0.999999963176498]         1.0      1\n",
              "1085                [1.0, 1.6677920963082427e-47]         0.0      0\n",
              "1086  [3.078403973701694e-07, 0.9999996921596026]         1.0      0\n",
              "1087   [1.65392257997096e-07, 0.9999998346077419]         1.0      0\n",
              "\n",
              "[1088 rows x 3 columns]"
            ]
          },
          "metadata": {
            "tags": []
          },
          "execution_count": 94
        }
      ]
    },
    {
      "cell_type": "markdown",
      "metadata": {
        "id": "bgkBE-MZ38fi",
        "colab_type": "text"
      },
      "source": [
        "Here we measure Area under ROC Curve and Area under PR Curve of the naive Bayes Classifier on the test set using BinaryClassificationMetrics."
      ]
    },
    {
      "cell_type": "code",
      "metadata": {
        "id": "yEqe3PYXezD7",
        "colab_type": "code",
        "colab": {
          "base_uri": "https://localhost:8080/",
          "height": 50
        },
        "outputId": "5daa0ee8-0558-4917-b3fe-5e7a5c24c8ad"
      },
      "source": [
        "# Accuracy on test data by handy pyspark\n",
        "bcmnb = BinaryClassificationMetrics(predictions_nb, scoreCol='probability', labelCol='label')\n",
        "print(\"Area under ROC Curve: {:.4f}\".format(bcmnb.areaUnderROC))\n",
        "print(\"Area under PR Curve: {:.4f}\".format(bcmnb.areaUnderPR))"
      ],
      "execution_count": null,
      "outputs": [
        {
          "output_type": "stream",
          "text": [
            "Area under ROC Curve: 0.6754\n",
            "Area under PR Curve: 0.6658\n"
          ],
          "name": "stdout"
        }
      ]
    },
    {
      "cell_type": "markdown",
      "metadata": {
        "id": "r4jlouos4Vq3",
        "colab_type": "text"
      },
      "source": [
        "Here we measure Area under ROC Curve and Area under PR Curve of the naive Bayes Classifier on the test set using BinaryClassificationEvaluator."
      ]
    },
    {
      "cell_type": "markdown",
      "metadata": {
        "id": "T9uj16Sb3bCu",
        "colab_type": "text"
      },
      "source": [
        "Here we calculate TPR, TNR, FPR, FNR of our mode by using built in functions"
      ]
    },
    {
      "cell_type": "code",
      "metadata": {
        "id": "5QXl7bgDgjzD",
        "colab_type": "code",
        "colab": {}
      },
      "source": [
        "true_pos=predictions_nb.filter(predictions_nb['label']==1).filter(predictions_nb['prediction']==1).count()\n",
        "false_pos=predictions_nb.filter(predictions_nb['label']==0).filter(predictions_nb['prediction']==1).count()\n",
        "true_neg=predictions_nb.filter(predictions_nb['label']==0).filter(predictions_nb['prediction']==0).count()\n",
        "false_neg=predictions_nb.filter(predictions_nb['label']==1).filter(predictions_nb['prediction']==0).count()"
      ],
      "execution_count": null,
      "outputs": []
    },
    {
      "cell_type": "markdown",
      "metadata": {
        "id": "Q5lDi5mL3cjW",
        "colab_type": "text"
      },
      "source": [
        "Here we calculate accuracy, precision, recall, specificity, F1 score and MCC measures of our model"
      ]
    },
    {
      "cell_type": "code",
      "metadata": {
        "id": "4SRcgVyJgj9z",
        "colab_type": "code",
        "colab": {}
      },
      "source": [
        "Accuracy=(true_pos+true_neg)/(true_pos+true_neg+false_pos+false_neg)\n",
        "Precision=true_pos/(true_pos+false_pos)\n",
        "Recall=true_pos/(true_pos+false_neg)\n",
        "Specificity=true_neg/(true_neg+false_pos)\n",
        "F1score=(2*Precision*Recall)/(Precision+Recall)\n",
        "MCC=(true_pos*true_neg-false_neg*false_pos)/math.sqrt((true_pos+false_pos)*(true_pos+false_neg)*(true_neg+false_pos)*(true_neg+false_neg))"
      ],
      "execution_count": null,
      "outputs": []
    },
    {
      "cell_type": "code",
      "metadata": {
        "id": "fEEjJeU9gkI6",
        "colab_type": "code",
        "colab": {
          "base_uri": "https://localhost:8080/",
          "height": 183
        },
        "outputId": "7e7be9a3-347b-4e36-f3f9-38fdf871ca45"
      },
      "source": [
        "print(\"True Positive Value: {:.0f}\".format(true_pos))\n",
        "print(\"False Positive Value: {:.0f}\".format(false_pos))\n",
        "print(\"True Negative Value: {:.0f}\".format(true_neg))\n",
        "print(\"False Negative Value: {:.0f}\".format(false_neg))\n",
        "print(\"Accuracy Measure: {:.4f}\".format(Accuracy))\n",
        "print(\"Precision Measure: {:.4f}\".format(Precision))\n",
        "print(\"Recall Measure: {:.4f}\".format(Recall))\n",
        "print(\"Specificity Measure: {:.4f}\".format(Specificity))\n",
        "print(\"F1score Measure: {:.4f}\".format(F1score))\n",
        "print(\"MCC Measure: {:.4f}\".format(MCC))"
      ],
      "execution_count": null,
      "outputs": [
        {
          "output_type": "stream",
          "text": [
            "True Positive Value: 217\n",
            "False Positive Value: 157\n",
            "True Negative Value: 387\n",
            "False Negative Value: 327\n",
            "Accuracy Measure: 0.5551\n",
            "Precision Measure: 0.5802\n",
            "Recall Measure: 0.3989\n",
            "Specificity Measure: 0.7114\n",
            "F1score Measure: 0.4728\n",
            "MCC Measure: 0.1161\n"
          ],
          "name": "stdout"
        }
      ]
    },
    {
      "cell_type": "markdown",
      "metadata": {
        "id": "4oxyIGFi9sSH",
        "colab_type": "text"
      },
      "source": [
        "# Extraction of the number of classes and input dimensions "
      ]
    },
    {
      "cell_type": "markdown",
      "metadata": {
        "id": "MqKtkYzG9sNN",
        "colab_type": "text"
      },
      "source": [
        "Here we determine the number of classes as well as the number of inputs from our data as input in our models"
      ]
    },
    {
      "cell_type": "code",
      "metadata": {
        "id": "oeu609yxX2De",
        "colab_type": "code",
        "colab": {
          "base_uri": "https://localhost:8080/",
          "height": 50
        },
        "outputId": "b5765437-46ec-4737-d0bc-4db806c6c6b4"
      },
      "source": [
        "# Number of Classes\n",
        "nb_classes = train_data.select(\"label\").distinct().count()\n",
        "# Number of Inputs or Input Dimensions\n",
        "input_dim = len(train_data.select(\"features\").first()[0])\n",
        "print(input_dim)\n",
        "print(nb_classes)"
      ],
      "execution_count": null,
      "outputs": [
        {
          "output_type": "stream",
          "text": [
            "7308\n",
            "2\n"
          ],
          "name": "stdout"
        }
      ]
    },
    {
      "cell_type": "markdown",
      "metadata": {
        "id": "AmvSq_un7HLI",
        "colab_type": "text"
      },
      "source": [
        "![alt text](https://austingwalters.com/wp-content/uploads/2018/12/mlp.png)"
      ]
    },
    {
      "cell_type": "markdown",
      "metadata": {
        "id": "3gJLCpR9nuO6",
        "colab_type": "text"
      },
      "source": [
        "# **Multilayer Perceptron Classifier**"
      ]
    },
    {
      "cell_type": "markdown",
      "metadata": {
        "id": "TVMNntiUALWA",
        "colab_type": "text"
      },
      "source": [
        "# Fit the model"
      ]
    },
    {
      "cell_type": "markdown",
      "metadata": {
        "id": "ZdT_SLetWlOI",
        "colab_type": "text"
      },
      "source": [
        "1. define fully connected layers \n",
        "2. set classifier with 100 itterations and blocksize equals to 32\n",
        "3. fit the model"
      ]
    },
    {
      "cell_type": "code",
      "metadata": {
        "id": "MN-h0I_7ffqp",
        "colab_type": "code",
        "colab": {}
      },
      "source": [
        "# set the layers\n",
        "layers = [input_dim,40, 2]\n",
        "# create the trainer and set its parameters\n",
        "FNN = MultilayerPerceptronClassifier(labelCol=\"label\", featuresCol=\"features\",maxIter=100, layers=layers, blockSize=32, seed=1234)     \n",
        "# fit model                                   \n",
        "modelFNN = FNN.fit(train_data)"
      ],
      "execution_count": null,
      "outputs": []
    },
    {
      "cell_type": "markdown",
      "metadata": {
        "id": "06GFo2ieAQsZ",
        "colab_type": "text"
      },
      "source": [
        "# Make predictions"
      ]
    },
    {
      "cell_type": "markdown",
      "metadata": {
        "id": "Q2sz6wkaXE8p",
        "colab_type": "text"
      },
      "source": [
        "1. Perform the learned model to test dataset\n",
        "2. Show the label , prediction and probability of predictions on each single test set data"
      ]
    },
    {
      "cell_type": "code",
      "metadata": {
        "id": "i_G51rEygPQD",
        "colab_type": "code",
        "colab": {
          "base_uri": "https://localhost:8080/",
          "height": 450
        },
        "outputId": "77397eb8-40c1-4e0a-d0c5-8fb539b4ac45"
      },
      "source": [
        "# Make predictions\n",
        "predictionsFNN = modelFNN.transform(test_data)\n",
        "# Show the predictions\n",
        "predictionsFNN.show()"
      ],
      "execution_count": null,
      "outputs": [
        {
          "output_type": "stream",
          "text": [
            "+--------------------+-----+--------------------+--------------------+----------+\n",
            "|            features|label|       rawPrediction|         probability|prediction|\n",
            "+--------------------+-----+--------------------+--------------------+----------+\n",
            "|[0.10758699,0.103...|    1|[-4.1171704019568...|[4.45962752297864...|       1.0|\n",
            "|[0.142218998,0.14...|    1|[-8.2990793603419...|[5.79986724899497...|       1.0|\n",
            "|[0.149457479,0.15...|    1|[-10.150255771470...|[1.44089739535230...|       1.0|\n",
            "|[0.077429615,0.09...|    1|[-10.005996298453...|[1.49739398293294...|       1.0|\n",
            "|[0.026559946,0.02...|    1|[8.20874425536236...|[0.99999995869246...|       0.0|\n",
            "|[0.056112199,0.05...|    1|[-2.2299635935655...|[0.00805728150638...|       1.0|\n",
            "|[0.018805755,0.01...|    1|[6.75182348656248...|[0.99999909767097...|       0.0|\n",
            "|[0.01200770600000...|    0|[13.8451869783218...|[0.99999999999939...|       0.0|\n",
            "|[0.03983736,0.044...|    1|[-4.9494501509775...|[8.11772015629760...|       1.0|\n",
            "|[0.02359132899999...|    0|[2.87829181871135...|[0.99786602742875...|       0.0|\n",
            "|[0.03016278399999...|    0|[5.45658912407857...|[0.99998468057426...|       0.0|\n",
            "|[0.02701085299999...|    1|[-6.7796395154873...|[7.63626601687415...|       1.0|\n",
            "|[0.02637548399999...|    0|[12.9521598008171...|[0.99999999999740...|       0.0|\n",
            "|[0.062411247,0.06...|    0|[5.39563093365382...|[0.99998756680711...|       0.0|\n",
            "|[0.034572167,0.03...|    0|[-1.2356184909326...|[0.09763803583834...|       1.0|\n",
            "|[0.012112565,0.01...|    1|[-0.9387889290775...|[0.20404801673002...|       1.0|\n",
            "|[0.018173991,0.02...|    1|[-6.4144927974336...|[2.52101469820850...|       1.0|\n",
            "|[0.03308356100000...|    0|[12.9526238903090...|[0.99999999999740...|       0.0|\n",
            "|[0.038817011,0.03...|    0|[-0.8946557854547...|[0.13287863572764...|       1.0|\n",
            "|[0.02162420700000...|    0|[5.50134916122064...|[0.99999111339650...|       0.0|\n",
            "+--------------------+-----+--------------------+--------------------+----------+\n",
            "only showing top 20 rows\n",
            "\n"
          ],
          "name": "stdout"
        }
      ]
    },
    {
      "cell_type": "markdown",
      "metadata": {
        "id": "WpQYgifVXjYJ",
        "colab_type": "text"
      },
      "source": [
        "Print the number of tunned weights during learning process"
      ]
    },
    {
      "cell_type": "code",
      "metadata": {
        "id": "L2qRneSXCPUz",
        "colab_type": "code",
        "colab": {
          "base_uri": "https://localhost:8080/",
          "height": 33
        },
        "outputId": "3bda15c6-8da7-4af2-c3bf-c62c6ae3f7c0"
      },
      "source": [
        "print(\"number of weights=\" + str(len(modelFNN.weights)))"
      ],
      "execution_count": null,
      "outputs": [
        {
          "output_type": "stream",
          "text": [
            "number of weights=292442\n"
          ],
          "name": "stdout"
        }
      ]
    },
    {
      "cell_type": "markdown",
      "metadata": {
        "id": "TX2CgxtAAX7V",
        "colab_type": "text"
      },
      "source": [
        "# Evaluation"
      ]
    },
    {
      "cell_type": "markdown",
      "metadata": {
        "id": "Mo7OnaYiXr_i",
        "colab_type": "text"
      },
      "source": [
        "Here we measure Area under ROC Curve and Area under PR Curve of the Multilayer Perceptron Classifier on the test set using BinaryClassificationEvaluator."
      ]
    },
    {
      "cell_type": "code",
      "metadata": {
        "id": "4HFMfYmDJBM9",
        "colab_type": "code",
        "colab": {
          "base_uri": "https://localhost:8080/",
          "height": 50
        },
        "outputId": "66c601c2-3876-49ca-8773-fdee86aeafc5"
      },
      "source": [
        "from pyspark.ml.evaluation import BinaryClassificationEvaluator\n",
        "evaluatorFNN = BinaryClassificationEvaluator(labelCol='label')\n",
        "auroc = evaluatorFNN.evaluate(predictionsFNN, {evaluatorFNN.metricName: \"areaUnderROC\"})\n",
        "auprc = evaluatorFNN.evaluate(predictionsFNN, {evaluatorFNN.metricName: \"areaUnderPR\"})\n",
        "evaluatorFNN.metricName=\"\"\n",
        "print(\"Area under ROC Curve: {:.4f}\".format(auroc))\n",
        "print(\"Area under PR Curve: {:.4f}\".format(auprc))"
      ],
      "execution_count": null,
      "outputs": [
        {
          "output_type": "stream",
          "text": [
            "Area under ROC Curve: 0.9014\n",
            "Area under PR Curve: 0.9018\n"
          ],
          "name": "stdout"
        }
      ]
    },
    {
      "cell_type": "markdown",
      "metadata": {
        "id": "-xfqP_EGBw7k",
        "colab_type": "text"
      },
      "source": [
        "Here we measure the acuracy of the model by using MulticlassClassificationEvaluator"
      ]
    },
    {
      "cell_type": "code",
      "metadata": {
        "id": "IfYKuBXdJEUZ",
        "colab_type": "code",
        "colab": {
          "base_uri": "https://localhost:8080/",
          "height": 50
        },
        "outputId": "06b2eb06-5693-49e6-e0cb-a556c71c243b"
      },
      "source": [
        "evaluator11 = MulticlassClassificationEvaluator(metricName=\"accuracy\")\n",
        "# compute the classification error on test data.\n",
        "accuracy11 = evaluator11.evaluate(predictionsFNN)\n",
        "print(\"Test Accuracy = %g\" % (accuracy11))\n",
        "print(\"Test Error = %g\" % (1-accuracy11))"
      ],
      "execution_count": null,
      "outputs": [
        {
          "output_type": "stream",
          "text": [
            "Test Accuracy = 0.841912\n",
            "Test Error = 0.158088\n"
          ],
          "name": "stdout"
        }
      ]
    },
    {
      "cell_type": "markdown",
      "metadata": {
        "id": "jEUiLR_KYVkY",
        "colab_type": "text"
      },
      "source": [
        "Unfortunately, BinaryClassificationEvaluator just provides Area under ROC Curve and Area under PR Curve for evaluation. Therefore we will use handy pyspark for more evaluation information. So we transfer data to handy spark framework"
      ]
    },
    {
      "cell_type": "code",
      "metadata": {
        "id": "l-v9YhXTlFut",
        "colab_type": "code",
        "colab": {
          "base_uri": "https://localhost:8080/",
          "height": 407
        },
        "outputId": "01dee154-d836-4fef-9e55-4e804ae8007f"
      },
      "source": [
        "from handyspark import *\n",
        "predictionsFNN.toHandy().cols[['probability', 'prediction', 'label']][:1088]"
      ],
      "execution_count": null,
      "outputs": [
        {
          "output_type": "execute_result",
          "data": {
            "text/html": [
              "<div>\n",
              "<style scoped>\n",
              "    .dataframe tbody tr th:only-of-type {\n",
              "        vertical-align: middle;\n",
              "    }\n",
              "\n",
              "    .dataframe tbody tr th {\n",
              "        vertical-align: top;\n",
              "    }\n",
              "\n",
              "    .dataframe thead th {\n",
              "        text-align: right;\n",
              "    }\n",
              "</style>\n",
              "<table border=\"1\" class=\"dataframe\">\n",
              "  <thead>\n",
              "    <tr style=\"text-align: right;\">\n",
              "      <th></th>\n",
              "      <th>probability</th>\n",
              "      <th>prediction</th>\n",
              "      <th>label</th>\n",
              "    </tr>\n",
              "  </thead>\n",
              "  <tbody>\n",
              "    <tr>\n",
              "      <th>0</th>\n",
              "      <td>[0.0004459627522978641, 0.999554037247702]</td>\n",
              "      <td>1.0</td>\n",
              "      <td>1</td>\n",
              "    </tr>\n",
              "    <tr>\n",
              "      <th>1</th>\n",
              "      <td>[5.799867248994974e-08, 0.9999999420013275]</td>\n",
              "      <td>1.0</td>\n",
              "      <td>1</td>\n",
              "    </tr>\n",
              "    <tr>\n",
              "      <th>2</th>\n",
              "      <td>[1.440897395352302e-09, 0.9999999985591026]</td>\n",
              "      <td>1.0</td>\n",
              "      <td>1</td>\n",
              "    </tr>\n",
              "    <tr>\n",
              "      <th>3</th>\n",
              "      <td>[1.497393982932945e-09, 0.999999998502606]</td>\n",
              "      <td>1.0</td>\n",
              "      <td>1</td>\n",
              "    </tr>\n",
              "    <tr>\n",
              "      <th>4</th>\n",
              "      <td>[0.9999999586924665, 4.130753339253114e-08]</td>\n",
              "      <td>0.0</td>\n",
              "      <td>1</td>\n",
              "    </tr>\n",
              "    <tr>\n",
              "      <th>...</th>\n",
              "      <td>...</td>\n",
              "      <td>...</td>\n",
              "      <td>...</td>\n",
              "    </tr>\n",
              "    <tr>\n",
              "      <th>1083</th>\n",
              "      <td>[0.9999999999974027, 2.5972625462872996e-12]</td>\n",
              "      <td>0.0</td>\n",
              "      <td>0</td>\n",
              "    </tr>\n",
              "    <tr>\n",
              "      <th>1084</th>\n",
              "      <td>[0.00015620214497330867, 0.9998437978550268]</td>\n",
              "      <td>1.0</td>\n",
              "      <td>1</td>\n",
              "    </tr>\n",
              "    <tr>\n",
              "      <th>1085</th>\n",
              "      <td>[0.9999999999971667, 2.8333070974989682e-12]</td>\n",
              "      <td>0.0</td>\n",
              "      <td>0</td>\n",
              "    </tr>\n",
              "    <tr>\n",
              "      <th>1086</th>\n",
              "      <td>[0.9999947294259752, 5.2705740247752585e-06]</td>\n",
              "      <td>0.0</td>\n",
              "      <td>0</td>\n",
              "    </tr>\n",
              "    <tr>\n",
              "      <th>1087</th>\n",
              "      <td>[0.9999962951499557, 3.7048500442898097e-06]</td>\n",
              "      <td>0.0</td>\n",
              "      <td>0</td>\n",
              "    </tr>\n",
              "  </tbody>\n",
              "</table>\n",
              "<p>1088 rows × 3 columns</p>\n",
              "</div>"
            ],
            "text/plain": [
              "                                       probability  prediction  label\n",
              "0       [0.0004459627522978641, 0.999554037247702]         1.0      1\n",
              "1      [5.799867248994974e-08, 0.9999999420013275]         1.0      1\n",
              "2      [1.440897395352302e-09, 0.9999999985591026]         1.0      1\n",
              "3       [1.497393982932945e-09, 0.999999998502606]         1.0      1\n",
              "4      [0.9999999586924665, 4.130753339253114e-08]         0.0      1\n",
              "...                                            ...         ...    ...\n",
              "1083  [0.9999999999974027, 2.5972625462872996e-12]         0.0      0\n",
              "1084  [0.00015620214497330867, 0.9998437978550268]         1.0      1\n",
              "1085  [0.9999999999971667, 2.8333070974989682e-12]         0.0      0\n",
              "1086  [0.9999947294259752, 5.2705740247752585e-06]         0.0      0\n",
              "1087  [0.9999962951499557, 3.7048500442898097e-06]         0.0      0\n",
              "\n",
              "[1088 rows x 3 columns]"
            ]
          },
          "metadata": {
            "tags": []
          },
          "execution_count": 121
        }
      ]
    },
    {
      "cell_type": "markdown",
      "metadata": {
        "id": "MnGKHMP3CUYJ",
        "colab_type": "text"
      },
      "source": [
        "Here we measure Area under ROC Curve and Area under PR Curve of the Multilayer Perceptron Classifier on the test set using BinaryClassificationMetrics. We also plot the confusion matrix and ROC and PR curve."
      ]
    },
    {
      "cell_type": "code",
      "metadata": {
        "id": "_YH0Ef2uJ0ST",
        "colab_type": "code",
        "colab": {
          "base_uri": "https://localhost:8080/",
          "height": 469
        },
        "outputId": "6b5acf13-19ae-48b7-ec4a-304fabf872bf"
      },
      "source": [
        "# evaluation with handy pyspark\n",
        "from matplotlib import pyplot as plt\n",
        "\n",
        "bcmFNN = BinaryClassificationMetrics(predictionsFNN, scoreCol='probability', labelCol='label')\n",
        "print(\"Area under ROC Curve: {:.4f}\".format(bcmFNN.areaUnderROC))\n",
        "print(\"Area under PR Curve: {:.4f}\".format(bcmFNN.areaUnderPR))\n",
        "# PLOT both ROC and PR curves!\n",
        "fig, axs = plt.subplots(1, 2, figsize=(12, 4))\n",
        "bcmFNN.plot_roc_curve(ax=axs[0])\n",
        "bcmFNN.plot_pr_curve(ax=axs[1])\n",
        "bcmFNN.print_confusion_matrix()"
      ],
      "execution_count": null,
      "outputs": [
        {
          "output_type": "stream",
          "text": [
            "Area under ROC Curve: 0.9017\n",
            "Area under PR Curve: 0.9041\n"
          ],
          "name": "stdout"
        },
        {
          "output_type": "execute_result",
          "data": {
            "text/html": [
              "<div>\n",
              "<style scoped>\n",
              "    .dataframe tbody tr th:only-of-type {\n",
              "        vertical-align: middle;\n",
              "    }\n",
              "\n",
              "    .dataframe tbody tr th {\n",
              "        vertical-align: top;\n",
              "    }\n",
              "\n",
              "    .dataframe thead tr th {\n",
              "        text-align: left;\n",
              "    }\n",
              "</style>\n",
              "<table border=\"1\" class=\"dataframe\">\n",
              "  <thead>\n",
              "    <tr>\n",
              "      <th></th>\n",
              "      <th></th>\n",
              "      <th colspan=\"2\" halign=\"left\">Predicted</th>\n",
              "    </tr>\n",
              "    <tr>\n",
              "      <th></th>\n",
              "      <th></th>\n",
              "      <th>0</th>\n",
              "      <th>1</th>\n",
              "    </tr>\n",
              "  </thead>\n",
              "  <tbody>\n",
              "    <tr>\n",
              "      <th rowspan=\"2\" valign=\"top\">Actual</th>\n",
              "      <th>0</th>\n",
              "      <td>476.0</td>\n",
              "      <td>68.0</td>\n",
              "    </tr>\n",
              "    <tr>\n",
              "      <th>1</th>\n",
              "      <td>104.0</td>\n",
              "      <td>440.0</td>\n",
              "    </tr>\n",
              "  </tbody>\n",
              "</table>\n",
              "</div>"
            ],
            "text/plain": [
              "         Predicted       \n",
              "                 0      1\n",
              "Actual 0     476.0   68.0\n",
              "       1     104.0  440.0"
            ]
          },
          "metadata": {
            "tags": []
          },
          "execution_count": 123
        },
        {
          "output_type": "display_data",
          "data": {
            "image/png": "[encoded data removed]",
            "text/plain": [
              "<Figure size 864x288 with 2 Axes>"
            ]
          },
          "metadata": {
            "tags": []
          }
        }
      ]
    },
    {
      "cell_type": "markdown",
      "metadata": {
        "id": "1AEFthpECqpb",
        "colab_type": "text"
      },
      "source": [
        "Here we calculate TPR, TNR, FPR, FNR of our mode by using built in functions\n"
      ]
    },
    {
      "cell_type": "code",
      "metadata": {
        "id": "bQwVpgMmQZ7T",
        "colab_type": "code",
        "colab": {}
      },
      "source": [
        "import math \n",
        "true_pos=predictionsFNN.filter(predictionsFNN['label']==1).filter(predictionsFNN['prediction']==1).count()\n",
        "false_pos=predictionsFNN.filter(predictionsFNN['label']==0).filter(predictionsFNN['prediction']==1).count()\n",
        "true_neg=predictionsFNN.filter(predictionsFNN['label']==0).filter(predictionsFNN['prediction']==0).count()\n",
        "false_neg=predictionsFNN.filter(predictionsFNN['label']==1).filter(predictionsFNN['prediction']==0).count()"
      ],
      "execution_count": null,
      "outputs": []
    },
    {
      "cell_type": "markdown",
      "metadata": {
        "id": "Z3eumd4nC2Qp",
        "colab_type": "text"
      },
      "source": [
        "Here we calculate accuracy, precision, recall, specificity, F1 score and MCC measures of our model"
      ]
    },
    {
      "cell_type": "code",
      "metadata": {
        "id": "5CJ9v-8R7cL8",
        "colab_type": "code",
        "colab": {}
      },
      "source": [
        "Accuracy=(true_pos+true_neg)/(true_pos+true_neg+false_pos+false_neg)\n",
        "Precision=true_pos/(true_pos+false_pos)\n",
        "Recall=true_pos/(true_pos+false_neg)\n",
        "Specificity=true_neg/(true_neg+false_pos)\n",
        "F1score=(2*Precision*Recall)/(Precision+Recall)\n",
        "MCC=(true_pos*true_neg-false_neg*false_pos)/math.sqrt((true_pos+false_pos)*(true_pos+false_neg)*(true_neg+false_pos)*(true_neg+false_neg))"
      ],
      "execution_count": null,
      "outputs": []
    },
    {
      "cell_type": "code",
      "metadata": {
        "id": "sPrEiK3ZpRAS",
        "colab_type": "code",
        "colab": {
          "base_uri": "https://localhost:8080/",
          "height": 183
        },
        "outputId": "fa24d146-0bdd-4800-b876-6e6931c7f0df"
      },
      "source": [
        "print(\"True Positive Value: {:.0f}\".format(true_pos))\n",
        "print(\"False Positive Value: {:.0f}\".format(false_pos))\n",
        "print(\"True Negative Value: {:.0f}\".format(true_neg))\n",
        "print(\"False Negative Value: {:.0f}\".format(false_neg))\n",
        "print(\"Accuracy Measure: {:.4f}\".format(Accuracy))\n",
        "print(\"Precision Measure: {:.4f}\".format(Precision))\n",
        "print(\"Recall Measure: {:.4f}\".format(Recall))\n",
        "print(\"Specificity Measure: {:.4f}\".format(Specificity))\n",
        "print(\"F1score Measure: {:.4f}\".format(F1score))\n",
        "print(\"MCC Measure: {:.4f}\".format(MCC))"
      ],
      "execution_count": null,
      "outputs": [
        {
          "output_type": "stream",
          "text": [
            "True Positive Value: 440\n",
            "False Positive Value: 68\n",
            "True Negative Value: 476\n",
            "False Negative Value: 104\n",
            "Accuracy Measure: 0.8419\n",
            "Precision Measure: 0.8661\n",
            "Recall Measure: 0.8088\n",
            "Specificity Measure: 0.8750\n",
            "F1score Measure: 0.8365\n",
            "MCC Measure: 0.6853\n"
          ],
          "name": "stdout"
        }
      ]
    },
    {
      "cell_type": "markdown",
      "metadata": {
        "colab_type": "text",
        "id": "hwZFgRk8HJjC"
      },
      "source": [
        "![alt text](https://www.domsoria.com/wp-content/uploads/2018/04/keras.png)"
      ]
    },
    {
      "cell_type": "markdown",
      "metadata": {
        "colab_type": "text",
        "id": "FvCaww7I3yZO"
      },
      "source": [
        "# **Keras + Tensorflow Colab Setup**\n",
        "\n"
      ]
    },
    {
      "cell_type": "markdown",
      "metadata": {
        "colab_type": "text",
        "id": "LUYURM3XI-iQ"
      },
      "source": [
        "The default keras and tensorflow versions in pyspark and google colab platform are 2.3.1 and 2.2.0 repectively. \n",
        "If we want to build a neural network model using keras, we face with incompatibility issues. Therefore, it is necessary to downgrade the versions of keras and tensorflow into 2.2.2 and 1.4 sequentially. After performing the following commands, we must restart the kernel in order to fetch the changes."
      ]
    },
    {
      "cell_type": "code",
      "metadata": {
        "colab_type": "code",
        "id": "ySBt7aAN3zpf",
        "colab": {
          "base_uri": "https://localhost:8080/",
          "height": 1000
        },
        "outputId": "0f9d7194-152e-4e7b-9176-ad7e891c16a7"
      },
      "source": [
        "!pip install q keras==2.2.2\n",
        "!pip install tensorflow==1.4"
      ],
      "execution_count": null,
      "outputs": [
        {
          "output_type": "stream",
          "text": [
            "Collecting q\n",
            "  Downloading https://files.pythonhosted.org/packages/53/bc/51619d89e0bd855567e7652fa16d06f1ed36a85f108a7fe71f6629bf719d/q-2.6-py2.py3-none-any.whl\n",
            "Collecting keras==2.2.2\n",
            "\u001b[?25l  Downloading https://files.pythonhosted.org/packages/34/7d/b1dedde8af99bd82f20ed7e9697aac0597de3049b1f786aa2aac3b9bd4da/Keras-2.2.2-py2.py3-none-any.whl (299kB)\n",
            "\u001b[K     |████████████████████████████████| 307kB 8.2MB/s \n",
            "\u001b[?25hCollecting keras-applications==1.0.4\n",
            "\u001b[?25l  Downloading https://files.pythonhosted.org/packages/54/90/8f327deaa37a71caddb59b7b4aaa9d4b3e90c0e76f8c2d1572005278ddc5/Keras_Applications-1.0.4-py2.py3-none-any.whl (43kB)\n",
            "\u001b[K     |████████████████████████████████| 51kB 4.6MB/s \n",
            "\u001b[?25hCollecting keras-preprocessing==1.0.2\n",
            "  Downloading https://files.pythonhosted.org/packages/71/26/1e778ebd737032749824d5cba7dbd3b0cf9234b87ab5ec79f5f0403ca7e9/Keras_Preprocessing-1.0.2-py2.py3-none-any.whl\n",
            "Requirement already satisfied: h5py in /usr/local/lib/python3.6/dist-packages (from keras==2.2.2) (2.10.0)\n",
            "Requirement already satisfied: scipy>=0.14 in /usr/local/lib/python3.6/dist-packages (from keras==2.2.2) (1.4.1)\n",
            "Requirement already satisfied: pyyaml in /usr/local/lib/python3.6/dist-packages (from keras==2.2.2) (3.13)\n",
            "Requirement already satisfied: six>=1.9.0 in /usr/local/lib/python3.6/dist-packages (from keras==2.2.2) (1.12.0)\n",
            "Requirement already satisfied: numpy>=1.9.1 in /usr/local/lib/python3.6/dist-packages (from keras==2.2.2) (1.18.5)\n",
            "\u001b[31mERROR: tensorflow 2.2.0 has requirement keras-preprocessing>=1.1.0, but you'll have keras-preprocessing 1.0.2 which is incompatible.\u001b[0m\n",
            "Installing collected packages: q, keras-applications, keras-preprocessing, keras\n",
            "  Found existing installation: Keras-Applications 1.0.8\n",
            "    Uninstalling Keras-Applications-1.0.8:\n",
            "      Successfully uninstalled Keras-Applications-1.0.8\n",
            "  Found existing installation: Keras-Preprocessing 1.1.2\n",
            "    Uninstalling Keras-Preprocessing-1.1.2:\n",
            "      Successfully uninstalled Keras-Preprocessing-1.1.2\n",
            "  Found existing installation: Keras 2.3.1\n",
            "    Uninstalling Keras-2.3.1:\n",
            "      Successfully uninstalled Keras-2.3.1\n",
            "Successfully installed keras-2.2.2 keras-applications-1.0.4 keras-preprocessing-1.0.2 q-2.6\n",
            "Collecting tensorflow==1.4\n",
            "\u001b[?25l  Downloading https://files.pythonhosted.org/packages/86/9f/be0165c6eefd841e6928e54d3d083fa174f92d640fdc52f73a33dc9c54d1/tensorflow-1.4.0-cp36-cp36m-manylinux1_x86_64.whl (41.2MB)\n",
            "\u001b[K     |████████████████████████████████| 41.2MB 1.2MB/s \n",
            "\u001b[?25hCollecting enum34>=1.1.6\n",
            "  Downloading https://files.pythonhosted.org/packages/63/f6/ccb1c83687756aeabbf3ca0f213508fcfb03883ff200d201b3a4c60cedcc/enum34-1.1.10-py3-none-any.whl\n",
            "Requirement already satisfied: six>=1.10.0 in /usr/local/lib/python3.6/dist-packages (from tensorflow==1.4) (1.12.0)\n",
            "Requirement already satisfied: protobuf>=3.3.0 in /usr/local/lib/python3.6/dist-packages (from tensorflow==1.4) (3.10.0)\n",
            "Requirement already satisfied: numpy>=1.12.1 in /usr/local/lib/python3.6/dist-packages (from tensorflow==1.4) (1.18.5)\n",
            "Requirement already satisfied: wheel>=0.26 in /usr/local/lib/python3.6/dist-packages (from tensorflow==1.4) (0.34.2)\n",
            "Collecting tensorflow-tensorboard<0.5.0,>=0.4.0rc1\n",
            "\u001b[?25l  Downloading https://files.pythonhosted.org/packages/e9/9f/5845c18f9df5e7ea638ecf3a272238f0e7671e454faa396b5188c6e6fc0a/tensorflow_tensorboard-0.4.0-py3-none-any.whl (1.7MB)\n",
            "\u001b[K     |████████████████████████████████| 1.7MB 53.0MB/s \n",
            "\u001b[?25hRequirement already satisfied: setuptools in /usr/local/lib/python3.6/dist-packages (from protobuf>=3.3.0->tensorflow==1.4) (47.3.1)\n",
            "Requirement already satisfied: werkzeug>=0.11.10 in /usr/local/lib/python3.6/dist-packages (from tensorflow-tensorboard<0.5.0,>=0.4.0rc1->tensorflow==1.4) (1.0.1)\n",
            "Requirement already satisfied: markdown>=2.6.8 in /usr/local/lib/python3.6/dist-packages (from tensorflow-tensorboard<0.5.0,>=0.4.0rc1->tensorflow==1.4) (3.2.2)\n",
            "Collecting bleach==1.5.0\n",
            "  Downloading https://files.pythonhosted.org/packages/33/70/86c5fec937ea4964184d4d6c4f0b9551564f821e1c3575907639036d9b90/bleach-1.5.0-py2.py3-none-any.whl\n",
            "Collecting html5lib==0.9999999\n",
            "\u001b[?25l  Downloading https://files.pythonhosted.org/packages/ae/ae/bcb60402c60932b32dfaf19bb53870b29eda2cd17551ba5639219fb5ebf9/html5lib-0.9999999.tar.gz (889kB)\n",
            "\u001b[K     |████████████████████████████████| 890kB 55.3MB/s \n",
            "\u001b[?25hRequirement already satisfied: importlib-metadata; python_version < \"3.8\" in /usr/local/lib/python3.6/dist-packages (from markdown>=2.6.8->tensorflow-tensorboard<0.5.0,>=0.4.0rc1->tensorflow==1.4) (1.6.1)\n",
            "Requirement already satisfied: zipp>=0.5 in /usr/local/lib/python3.6/dist-packages (from importlib-metadata; python_version < \"3.8\"->markdown>=2.6.8->tensorflow-tensorboard<0.5.0,>=0.4.0rc1->tensorflow==1.4) (3.1.0)\n",
            "Building wheels for collected packages: html5lib\n",
            "  Building wheel for html5lib (setup.py) ... \u001b[?25l\u001b[?25hdone\n",
            "  Created wheel for html5lib: filename=html5lib-0.9999999-cp36-none-any.whl size=107220 sha256=53650547e6d2d6d7b8da45b088731e9dbdf58353ce3e284badd10291c641df3c\n",
            "  Stored in directory: /root/.cache/pip/wheels/50/ae/f9/d2b189788efcf61d1ee0e36045476735c838898eef1cad6e29\n",
            "Successfully built html5lib\n",
            "Installing collected packages: enum34, html5lib, bleach, tensorflow-tensorboard, tensorflow\n",
            "  Found existing installation: html5lib 1.0.1\n",
            "    Uninstalling html5lib-1.0.1:\n",
            "      Successfully uninstalled html5lib-1.0.1\n",
            "  Found existing installation: bleach 3.1.5\n",
            "    Uninstalling bleach-3.1.5:\n",
            "      Successfully uninstalled bleach-3.1.5\n",
            "  Found existing installation: tensorflow 2.2.0\n",
            "    Uninstalling tensorflow-2.2.0:\n",
            "      Successfully uninstalled tensorflow-2.2.0\n",
            "Successfully installed bleach-1.5.0 enum34-1.1.10 html5lib-0.9999999 tensorflow-1.4.0 tensorflow-tensorboard-0.4.0\n"
          ],
          "name": "stdout"
        },
        {
          "output_type": "display_data",
          "data": {
            "application/vnd.colab-display-data+json": {
              "pip_warning": {
                "packages": [
                  "enum"
                ]
              }
            }
          },
          "metadata": {
            "tags": []
          }
        }
      ]
    },
    {
      "cell_type": "code",
      "metadata": {
        "id": "1H3_rpuBNswm",
        "colab_type": "code",
        "cellView": "form",
        "colab": {}
      },
      "source": [
        "#@title Configuration and Import Dependencies\n",
        "\n",
        "\n",
        "!pip install pyspark==2.4.5\n",
        "!pip install -U -q PyDrive\n",
        "!pip install elephas\n",
        "!apt install openjdk-8-jdk-headless -qq\n",
        "#------------------------------------------------------------------------------#\n",
        "# Import Java path--> Set path to JAVA_HOME\n",
        "JAVA_HOME = \"/usr/lib/jvm/java-8-openjdk-amd64\"\n",
        "# Google Drive Prepration\n",
        "GDRIVE_DIR = \"/content/gdrive\" # Your own mount point on Google Drive\n",
        "GDRIVE_HOME_DIR = GDRIVE_DIR + \"/My Drive\" # Your own home directory\n",
        "GDRIVE_DATA_DIR = GDRIVE_HOME_DIR + \"/1911242_1916304\" # Your own data directory\n",
        "# Point Colaboratory to our Google Drive\n",
        "#------------------------------------------------------------------------------#\n",
        "import os\n",
        "os.environ[\"JAVA_HOME\"] = JAVA_HOME\n",
        "# Spark Session, Pipeline, Functions, and Metrics\n",
        "import pyspark\n",
        "from pyspark import SparkContext, SparkConf\n",
        "from pyspark.sql import SQLContext\n",
        "from pyspark.sql import SparkSession\n",
        "from pyspark.ml.feature import OneHotEncoderEstimator, StringIndexer, StandardScaler, VectorAssembler\n",
        "from pyspark.ml import Pipeline\n",
        "from pyspark.sql.functions import rand\n",
        "from pyspark.mllib.evaluation import MulticlassMetrics\n",
        "# Keras / Deep Learning\n",
        "import keras\n",
        "import tensorflow as tf\n",
        "from keras.models import Sequential\n",
        "from keras.layers.core import Dense, Dropout, Activation\n",
        "from keras import optimizers, regularizers\n",
        "from keras.optimizers import Adam\n",
        "# Elephas for Deep Learning on Spark\n",
        "from elephas.ml_model import ElephasEstimator\n",
        "# Google drive\n",
        "from google.colab import drive\n",
        "# ML libraries\n",
        "from pyspark.ml.classification import MultilayerPerceptronClassifier\n",
        "from pyspark.ml.evaluation import MulticlassClassificationEvaluator\n",
        "from pyspark.ml.classification import LinearSVC\n",
        "from pyspark.ml.classification import NaiveBayes\n",
        "from pyspark.ml.classification import LogisticRegression\n",
        "# CSV and pandas libraries\n",
        "import csv\n",
        "import pandas as pd\n",
        "#------------------------------------------------------------------------------#\n",
        "# create the session\n",
        "conf = SparkConf().set(\"spark.ui.port\", \"4050\").set('spark.executor.memory', '4G').set('spark.driver.memory', '45G').set('spark.driver.maxResultSize', '10G')\n",
        "\n",
        "# create the context\n",
        "sc = pyspark.SparkContext(conf=conf)\n",
        "spark = SparkSession.builder.getOrCreate()\n",
        "sql_context = SQLContext(sc)\n",
        "print(sc)\n",
        "print(sc._conf.getAll())"
      ],
      "execution_count": null,
      "outputs": []
    },
    {
      "cell_type": "markdown",
      "metadata": {
        "colab_type": "text",
        "id": "E0jODhISQnKb"
      },
      "source": [
        "# Print Keras and Tensorflow *Version*"
      ]
    },
    {
      "cell_type": "code",
      "metadata": {
        "colab_type": "code",
        "id": "2w_11g7SQnKc",
        "colab": {
          "base_uri": "https://localhost:8080/",
          "height": 50
        },
        "outputId": "fda7fa09-1afa-4d3e-8e95-b0b577ebc007"
      },
      "source": [
        "# Print keras and tensor flow version\n",
        "print(keras.__version__)\n",
        "print(tf.__version__)"
      ],
      "execution_count": null,
      "outputs": [
        {
          "output_type": "stream",
          "text": [
            "2.2.2\n",
            "1.4.0\n"
          ],
          "name": "stdout"
        }
      ]
    },
    {
      "cell_type": "markdown",
      "metadata": {
        "colab_type": "text",
        "id": "dc0mw_OPQnKj"
      },
      "source": [
        "# Define Google Drive Path"
      ]
    },
    {
      "cell_type": "code",
      "metadata": {
        "colab_type": "code",
        "id": "wa_XJMCuQnKj",
        "cellView": "both",
        "colab": {}
      },
      "source": [
        "# Google Drive Prepration\n",
        "GDRIVE_DIR = \"/content/gdrive\" # Your own mount point on Google Drive\n",
        "GDRIVE_HOME_DIR = GDRIVE_DIR + \"/My Drive\" # Your own home directory\n",
        "GDRIVE_DATA_DIR = GDRIVE_HOME_DIR + \"/1911242_1916304/Sample_Data\" # Your own data directory\n",
        "from google.colab import drive\n",
        "drive.mount(GDRIVE_DIR, force_remount=True)"
      ],
      "execution_count": null,
      "outputs": []
    },
    {
      "cell_type": "code",
      "metadata": {
        "colab_type": "code",
        "id": "sDzDMnEPQ57z",
        "cellView": "form",
        "colab": {}
      },
      "source": [
        "#@title Data Collection\n",
        "df_train = sql_context.read.csv('/content/gdrive/My Drive/1911242_1916304/Dataset/CQTshuffle.csv',\n",
        "                    header=True,\n",
        "                    inferSchema=True)\n",
        "\n",
        "# Merge all feature coloumns\n",
        "columns = ['pixel{:d}'.format(k) for k in range(7308)]\n",
        "assembler = VectorAssembler(inputCols=columns, \n",
        "                            outputCol=\"features\")\n",
        "Combine_df = assembler.transform(df_train)\n",
        "#Combine_df.select(\"features\", \"label\").show(truncate=False)\n",
        "Combine_df = Combine_df.select(\"features\", \"label\")\n",
        "df_transform_fin = Combine_df.orderBy(rand())\n",
        "train_data=df_transform_fin\n",
        "# Load Data to Spark Dataframe\n",
        "df_test = sql_context.read.csv('/content/gdrive/My Drive/1911242_1916304/Dataset/CQTtestshuffle.csv',\n",
        "                    header=True,\n",
        "                    inferSchema=True)\n",
        "# Merge all feature coloumns\n",
        "columns = ['pixel{:d}'.format(k) for k in range(7308)]\n",
        "assembler = VectorAssembler(inputCols=columns, \n",
        "                            outputCol=\"features\")\n",
        "Combine_df_test = assembler.transform(df_test)\n",
        "#Combine_df.select(\"features\", \"label\").show(truncate=False)\n",
        "Combine_df_test = Combine_df_test.select(\"features\", \"label\")\n",
        "df_transform_fin_test = Combine_df_test.orderBy(rand())\n",
        "test_data=df_transform_fin_test"
      ],
      "execution_count": null,
      "outputs": []
    },
    {
      "cell_type": "markdown",
      "metadata": {
        "colab_type": "text",
        "id": "CwkQxul2HTkc"
      },
      "source": [
        "# **Keras**"
      ]
    },
    {
      "cell_type": "markdown",
      "metadata": {
        "colab_type": "text",
        "id": "HMSLbHNlH5Mg"
      },
      "source": [
        "# Set learning architecture"
      ]
    },
    {
      "cell_type": "markdown",
      "metadata": {
        "colab_type": "text",
        "id": "AJkUzbaeIDgN"
      },
      "source": [
        "A network with 2 layers of 40 and 2 nodes. The activation functions are relu and sigmoid respectively. We use adam optimizer as well as binary_crossentropy loss function"
      ]
    },
    {
      "cell_type": "code",
      "metadata": {
        "colab_type": "code",
        "id": "fcQ2303TX19_",
        "colab": {
          "base_uri": "https://localhost:8080/",
          "height": 267
        },
        "outputId": "70b024d3-be64-40c1-b273-0e1c9ee3fef0"
      },
      "source": [
        "# Set up Deep Learning Model / Architecture\n",
        "model = Sequential()\n",
        "model.add(Dense(40, input_shape=(7308,)))\n",
        "model.add(Activation('relu'))\n",
        "#model.add(Dense(128, activity_regularizer=regularizers.l2(0.01)))\n",
        "#model.add(Activation('relu'))\n",
        "#model.add(Dropout(rate=0.1))\n",
        "#model.add(Dense(20, activity_regularizer=regularizers.l2(0.01)))\n",
        "#model.add(Activation('relu'))\n",
        "#model.add(Dropout(rate=0.1))\n",
        "model.add(Dense(2))\n",
        "model.add(Activation('sigmoid'))\n",
        "model.compile(loss='binary_crossentropy', optimizer='adam')\n",
        "\n",
        "# Model Summary\n",
        "model.summary()"
      ],
      "execution_count": null,
      "outputs": [
        {
          "output_type": "stream",
          "text": [
            "_________________________________________________________________\n",
            "Layer (type)                 Output Shape              Param #   \n",
            "=================================================================\n",
            "dense_1 (Dense)              (None, 40)                292360    \n",
            "_________________________________________________________________\n",
            "activation_1 (Activation)    (None, 40)                0         \n",
            "_________________________________________________________________\n",
            "dense_2 (Dense)              (None, 2)                 82        \n",
            "_________________________________________________________________\n",
            "activation_2 (Activation)    (None, 2)                 0         \n",
            "=================================================================\n",
            "Total params: 292,442\n",
            "Trainable params: 292,442\n",
            "Non-trainable params: 0\n",
            "_________________________________________________________________\n"
          ],
          "name": "stdout"
        }
      ]
    },
    {
      "cell_type": "markdown",
      "metadata": {
        "colab_type": "text",
        "id": "eCIeHnpfIZ2Q"
      },
      "source": [
        "# Set learning parameters"
      ]
    },
    {
      "cell_type": "markdown",
      "metadata": {
        "colab_type": "text",
        "id": "QvCNVCf4Id98"
      },
      "source": [
        "learning rate = 0.01, number of epoches= 100, batch_size=32, metrics = accuracy"
      ]
    },
    {
      "cell_type": "code",
      "metadata": {
        "colab_type": "code",
        "id": "ocVwEed6X17X",
        "colab": {
          "base_uri": "https://localhost:8080/",
          "height": 33
        },
        "outputId": "ae3bb071-70e2-4ae8-8252-5ac91ff8a54c"
      },
      "source": [
        "# Set and Serialize Optimizer\n",
        "optimizer_conf = optimizers.Adam(lr=0.01)\n",
        "opt_conf = optimizers.serialize(optimizer_conf)\n",
        "# Initialize SparkML Estimator and Get Settings\n",
        "estimator = ElephasEstimator()\n",
        "estimator.setFeaturesCol(\"features\")\n",
        "estimator.setLabelCol(\"label\")\n",
        "estimator.set_keras_model_config(model.to_yaml())\n",
        "estimator.set_categorical_labels(True)\n",
        "estimator.set_nb_classes(2)\n",
        "estimator.set_num_workers(1)\n",
        "estimator.set_epochs(100) \n",
        "estimator.set_batch_size(32)\n",
        "estimator.set_verbosity(1)\n",
        "estimator.set_validation_split(0.10)\n",
        "estimator.set_optimizer_config(opt_conf)\n",
        "estimator.set_mode(\"synchronous\")\n",
        "estimator.set_loss(\"binary_crossentropy\")\n",
        "estimator.set_metrics(['acc'])"
      ],
      "execution_count": null,
      "outputs": [
        {
          "output_type": "execute_result",
          "data": {
            "text/plain": [
              "ElephasEstimator_59ea9aabdd97"
            ]
          },
          "metadata": {
            "tags": []
          },
          "execution_count": 7
        }
      ]
    },
    {
      "cell_type": "markdown",
      "metadata": {
        "colab_type": "text",
        "id": "ufbsnuAWIrlF"
      },
      "source": [
        "# Create deep learning pipeline"
      ]
    },
    {
      "cell_type": "code",
      "metadata": {
        "colab_type": "code",
        "id": "nYR1JfLuYU2P",
        "colab": {}
      },
      "source": [
        "# Create Deep Learning Pipeline\n",
        "dl_pipeline = Pipeline(stages=[estimator])"
      ],
      "execution_count": null,
      "outputs": []
    },
    {
      "cell_type": "code",
      "metadata": {
        "colab_type": "code",
        "id": "B76jAzbFYUze",
        "colab": {}
      },
      "source": [
        "def dl_pipeline_fit_score_results(dl_pipeline=dl_pipeline,\n",
        "                                  train_data=train_data,\n",
        "                                  test_data=test_data,\n",
        "                                  label='label'):\n",
        "    \n",
        "    fit_dl_pipeline = dl_pipeline.fit(train_data)\n",
        "    pred_train = fit_dl_pipeline.transform(train_data)\n",
        "    pred_test = fit_dl_pipeline.transform(test_data)\n",
        "    \n",
        "    pnl_train = pred_train.select(label, \"prediction\")\n",
        "    pnl_test = pred_test.select(label, \"prediction\")\n",
        "    \n",
        "    pred_and_label_train = pnl_train.rdd.map(lambda row: (row[label], row['prediction']))\n",
        "    pred_and_label_test = pnl_test.rdd.map(lambda row: (row[label], row['prediction']))\n",
        "    \n",
        "    metrics_train = MulticlassMetrics(pred_and_label_train)\n",
        "    metrics_test = MulticlassMetrics(pred_and_label_test)\n",
        "    \n",
        "    \n",
        "    \n",
        "    print(\"Training Data Accuracy: {}\".format(round(metrics_train.precision(),4)))\n",
        "    print(\"Training Data Confusion Matrix\")\n",
        "    display(pnl_train.crosstab('label', 'prediction').toPandas())\n",
        "    \n",
        "    print(\"\\nTest Data Accuracy: {}\".format(round(metrics_test.precision(),4)))\n",
        "    print(\"Test Data Confusion Matrix\")\n",
        "    display(pnl_test.crosstab('label', 'prediction').toPandas())"
      ],
      "execution_count": null,
      "outputs": []
    },
    {
      "cell_type": "code",
      "metadata": {
        "id": "kfR0CAej6Tqy",
        "colab_type": "code",
        "colab": {
          "base_uri": "https://localhost:8080/",
          "height": 315
        },
        "outputId": "a28f3a2f-951b-437f-ef82-e95a60e8657d"
      },
      "source": [
        "dl_pipeline_fit_score_results(dl_pipeline=dl_pipeline,\n",
        "                              train_data=train_data,\n",
        "                              test_data=test_data,\n",
        "                              label='label');"
      ],
      "execution_count": null,
      "outputs": [
        {
          "output_type": "stream",
          "text": [
            ">>> Fit model\n",
            ">>> Synchronous training complete.\n",
            "Training Data Accuracy: 0.9855\n",
            "Training Data Confusion Matrix\n"
          ],
          "name": "stdout"
        },
        {
          "output_type": "display_data",
          "data": {
            "text/html": [
              "<div>\n",
              "<style scoped>\n",
              "    .dataframe tbody tr th:only-of-type {\n",
              "        vertical-align: middle;\n",
              "    }\n",
              "\n",
              "    .dataframe tbody tr th {\n",
              "        vertical-align: top;\n",
              "    }\n",
              "\n",
              "    .dataframe thead th {\n",
              "        text-align: right;\n",
              "    }\n",
              "</style>\n",
              "<table border=\"1\" class=\"dataframe\">\n",
              "  <thead>\n",
              "    <tr style=\"text-align: right;\">\n",
              "      <th></th>\n",
              "      <th>label_prediction</th>\n",
              "      <th>0.0</th>\n",
              "      <th>1.0</th>\n",
              "    </tr>\n",
              "  </thead>\n",
              "  <tbody>\n",
              "    <tr>\n",
              "      <th>0</th>\n",
              "      <td>1.0</td>\n",
              "      <td>98</td>\n",
              "      <td>6880</td>\n",
              "    </tr>\n",
              "    <tr>\n",
              "      <th>1</th>\n",
              "      <td>0.0</td>\n",
              "      <td>6873</td>\n",
              "      <td>105</td>\n",
              "    </tr>\n",
              "  </tbody>\n",
              "</table>\n",
              "</div>"
            ],
            "text/plain": [
              "  label_prediction   0.0   1.0\n",
              "0              1.0    98  6880\n",
              "1              0.0  6873   105"
            ]
          },
          "metadata": {
            "tags": []
          }
        },
        {
          "output_type": "stream",
          "text": [
            "\n",
            "Test Data Accuracy: 0.8364\n",
            "Test Data Confusion Matrix\n"
          ],
          "name": "stdout"
        },
        {
          "output_type": "display_data",
          "data": {
            "text/html": [
              "<div>\n",
              "<style scoped>\n",
              "    .dataframe tbody tr th:only-of-type {\n",
              "        vertical-align: middle;\n",
              "    }\n",
              "\n",
              "    .dataframe tbody tr th {\n",
              "        vertical-align: top;\n",
              "    }\n",
              "\n",
              "    .dataframe thead th {\n",
              "        text-align: right;\n",
              "    }\n",
              "</style>\n",
              "<table border=\"1\" class=\"dataframe\">\n",
              "  <thead>\n",
              "    <tr style=\"text-align: right;\">\n",
              "      <th></th>\n",
              "      <th>label_prediction</th>\n",
              "      <th>0.0</th>\n",
              "      <th>1.0</th>\n",
              "    </tr>\n",
              "  </thead>\n",
              "  <tbody>\n",
              "    <tr>\n",
              "      <th>0</th>\n",
              "      <td>1.0</td>\n",
              "      <td>102</td>\n",
              "      <td>442</td>\n",
              "    </tr>\n",
              "    <tr>\n",
              "      <th>1</th>\n",
              "      <td>0.0</td>\n",
              "      <td>468</td>\n",
              "      <td>76</td>\n",
              "    </tr>\n",
              "  </tbody>\n",
              "</table>\n",
              "</div>"
            ],
            "text/plain": [
              "  label_prediction  0.0  1.0\n",
              "0              1.0  102  442\n",
              "1              0.0  468   76"
            ]
          },
          "metadata": {
            "tags": []
          }
        }
      ]
    }
  ]
}